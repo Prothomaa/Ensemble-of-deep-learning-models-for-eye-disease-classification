{
 "cells": [
  {
   "cell_type": "code",
   "execution_count": 1,
   "id": "d15d2c7b",
   "metadata": {
    "_cell_guid": "b1076dfc-b9ad-4769-8c92-a6c4dae69d19",
    "_uuid": "8f2839f25d086af736a60e9eeb907d3b93b6e0e5",
    "execution": {
     "iopub.execute_input": "2025-01-18T11:37:20.462050Z",
     "iopub.status.busy": "2025-01-18T11:37:20.461792Z",
     "iopub.status.idle": "2025-01-18T11:37:26.265679Z",
     "shell.execute_reply": "2025-01-18T11:37:26.264989Z"
    },
    "papermill": {
     "duration": 5.809979,
     "end_time": "2025-01-18T11:37:26.267629",
     "exception": false,
     "start_time": "2025-01-18T11:37:20.457650",
     "status": "completed"
    },
    "tags": []
   },
   "outputs": [],
   "source": [
    "import os\n",
    "import numpy as np\n",
    "from torchvision import datasets, models, transforms\n",
    "import torch\n",
    "from torch.utils.data import DataLoader, Dataset\n",
    "from torchvision.transforms import InterpolationMode\n",
    "from PIL import Image\n",
    "import torch.nn as nn\n",
    "import torch.optim as optim\n",
    "from sklearn.metrics import accuracy_score, precision_score, recall_score, f1_score\n",
    "import random"
   ]
  },
  {
   "cell_type": "code",
   "execution_count": 2,
   "id": "7e949474",
   "metadata": {
    "execution": {
     "iopub.execute_input": "2025-01-18T11:37:26.274538Z",
     "iopub.status.busy": "2025-01-18T11:37:26.273894Z",
     "iopub.status.idle": "2025-01-18T11:37:26.278309Z",
     "shell.execute_reply": "2025-01-18T11:37:26.277505Z"
    },
    "papermill": {
     "duration": 0.009343,
     "end_time": "2025-01-18T11:37:26.279860",
     "exception": false,
     "start_time": "2025-01-18T11:37:26.270517",
     "status": "completed"
    },
    "tags": []
   },
   "outputs": [],
   "source": [
    "# Set fixed seed for reproducibility\n",
    "def set_seed(seed=42):\n",
    "    random.seed(seed)\n",
    "    np.random.seed(seed)\n",
    "    torch.manual_seed(seed)\n",
    "    torch.cuda.manual_seed_all(seed)\n",
    "    torch.backends.cudnn.deterministic = True\n",
    "    torch.backends.cudnn.benchmark = False"
   ]
  },
  {
   "cell_type": "code",
   "execution_count": 3,
   "id": "8ecc8587",
   "metadata": {
    "execution": {
     "iopub.execute_input": "2025-01-18T11:37:26.285862Z",
     "iopub.status.busy": "2025-01-18T11:37:26.285618Z",
     "iopub.status.idle": "2025-01-18T11:37:26.294599Z",
     "shell.execute_reply": "2025-01-18T11:37:26.293986Z"
    },
    "papermill": {
     "duration": 0.013659,
     "end_time": "2025-01-18T11:37:26.296010",
     "exception": false,
     "start_time": "2025-01-18T11:37:26.282351",
     "status": "completed"
    },
    "tags": []
   },
   "outputs": [],
   "source": [
    "set_seed(42)"
   ]
  },
  {
   "cell_type": "code",
   "execution_count": 4,
   "id": "8c0f2a74",
   "metadata": {
    "execution": {
     "iopub.execute_input": "2025-01-18T11:37:26.301809Z",
     "iopub.status.busy": "2025-01-18T11:37:26.301569Z",
     "iopub.status.idle": "2025-01-18T11:37:26.305648Z",
     "shell.execute_reply": "2025-01-18T11:37:26.305015Z"
    },
    "papermill": {
     "duration": 0.008751,
     "end_time": "2025-01-18T11:37:26.307264",
     "exception": false,
     "start_time": "2025-01-18T11:37:26.298513",
     "status": "completed"
    },
    "tags": []
   },
   "outputs": [],
   "source": [
    "# Define dataset paths and parameters\n",
    "dataset_dir = \"/kaggle/input/aug-v100\"  # Replace with your dataset path\n",
    "train_folder = os.path.join(dataset_dir, \"output\")\n",
    "val_folder = os.path.join(dataset_dir, \"val\")\n",
    "test_folder = os.path.join(dataset_dir, \"test\")\n",
    "folders = [\"Diabetic Retinopathy\", \"Glaucoma\", \"Healthy\", \"Macular Scar\", \"Myopia\"]\n",
    "image_size = 224  # Input image size for ResNet50"
   ]
  },
  {
   "cell_type": "code",
   "execution_count": 5,
   "id": "39d65089",
   "metadata": {
    "execution": {
     "iopub.execute_input": "2025-01-18T11:37:26.313157Z",
     "iopub.status.busy": "2025-01-18T11:37:26.312919Z",
     "iopub.status.idle": "2025-01-18T11:37:26.317496Z",
     "shell.execute_reply": "2025-01-18T11:37:26.316861Z"
    },
    "papermill": {
     "duration": 0.009151,
     "end_time": "2025-01-18T11:37:26.318914",
     "exception": false,
     "start_time": "2025-01-18T11:37:26.309763",
     "status": "completed"
    },
    "tags": []
   },
   "outputs": [],
   "source": [
    "# Function to calculate dataset mean and std\n",
    "def calculate_mean_std(dataset):\n",
    "    loader = DataLoader(dataset, batch_size=64, shuffle=False)\n",
    "    mean = torch.zeros(3)\n",
    "    std = torch.zeros(3)\n",
    "    for images, _ in loader:\n",
    "        images = images.view(images.size(0), images.size(1), -1)\n",
    "        mean += images.mean(2).sum(0)\n",
    "        std += images.std(2).sum(0)\n",
    "    mean /= len(dataset)\n",
    "    std /= len(dataset)\n",
    "    return mean, std"
   ]
  },
  {
   "cell_type": "code",
   "execution_count": 6,
   "id": "bf601b23",
   "metadata": {
    "execution": {
     "iopub.execute_input": "2025-01-18T11:37:26.325819Z",
     "iopub.status.busy": "2025-01-18T11:37:26.325584Z",
     "iopub.status.idle": "2025-01-18T11:37:26.331011Z",
     "shell.execute_reply": "2025-01-18T11:37:26.330331Z"
    },
    "papermill": {
     "duration": 0.010084,
     "end_time": "2025-01-18T11:37:26.332565",
     "exception": false,
     "start_time": "2025-01-18T11:37:26.322481",
     "status": "completed"
    },
    "tags": []
   },
   "outputs": [],
   "source": [
    "# Custom dataset class\n",
    "class CustomDataset(Dataset):\n",
    "    def __init__(self, folder_path, transform=None):\n",
    "        self.folder_path = folder_path\n",
    "        self.transform = transform\n",
    "        self.data = []\n",
    "        for class_label, class_name in enumerate(folders):\n",
    "            class_folder = os.path.join(folder_path, class_name)\n",
    "            if os.path.exists(class_folder):\n",
    "                for img_name in os.listdir(class_folder):\n",
    "                    img_path = os.path.join(class_folder, img_name)\n",
    "                    self.data.append((img_path, class_label))\n",
    "\n",
    "    def __len__(self):\n",
    "        return len(self.data)\n",
    "\n",
    "    def __getitem__(self, idx):\n",
    "        img_path, label = self.data[idx]\n",
    "        image = Image.open(img_path).convert(\"RGB\")\n",
    "        if self.transform:\n",
    "            image = self.transform(image)\n",
    "        return image, label\n"
   ]
  },
  {
   "cell_type": "code",
   "execution_count": 7,
   "id": "a674c50c",
   "metadata": {
    "execution": {
     "iopub.execute_input": "2025-01-18T11:37:26.338461Z",
     "iopub.status.busy": "2025-01-18T11:37:26.338218Z",
     "iopub.status.idle": "2025-01-18T11:37:57.990339Z",
     "shell.execute_reply": "2025-01-18T11:37:57.989467Z"
    },
    "papermill": {
     "duration": 31.660454,
     "end_time": "2025-01-18T11:37:57.995528",
     "exception": false,
     "start_time": "2025-01-18T11:37:26.335074",
     "status": "completed"
    },
    "tags": []
   },
   "outputs": [
    {
     "name": "stdout",
     "output_type": "stream",
     "text": [
      "Dataset Mean: tensor([0.5828, 0.4277, 0.2689]), Std: tensor([0.3004, 0.2478, 0.1858])\n"
     ]
    }
   ],
   "source": [
    "# Create datasets for mean/std calculation\n",
    "combined_dataset = CustomDataset(train_folder, transform=transforms.ToTensor())\n",
    "mean, std = calculate_mean_std(combined_dataset)\n",
    "print(f\"Dataset Mean: {mean}, Std: {std}\")"
   ]
  },
  {
   "cell_type": "code",
   "execution_count": 8,
   "id": "da3b19ab",
   "metadata": {
    "execution": {
     "iopub.execute_input": "2025-01-18T11:37:58.004096Z",
     "iopub.status.busy": "2025-01-18T11:37:58.003805Z",
     "iopub.status.idle": "2025-01-18T11:37:58.008465Z",
     "shell.execute_reply": "2025-01-18T11:37:58.007643Z"
    },
    "papermill": {
     "duration": 0.010737,
     "end_time": "2025-01-18T11:37:58.010061",
     "exception": false,
     "start_time": "2025-01-18T11:37:57.999324",
     "status": "completed"
    },
    "tags": []
   },
   "outputs": [],
   "source": [
    "# Update transforms with calculated mean and std\n",
    "transform = transforms.Compose([\n",
    "    transforms.Resize((image_size, image_size), interpolation=InterpolationMode.BILINEAR),\n",
    "    transforms.ToTensor(),\n",
    "    transforms.Normalize(mean=mean.tolist(), std=std.tolist())\n",
    "])"
   ]
  },
  {
   "cell_type": "code",
   "execution_count": 9,
   "id": "926f3ec6",
   "metadata": {
    "execution": {
     "iopub.execute_input": "2025-01-18T11:37:58.016998Z",
     "iopub.status.busy": "2025-01-18T11:37:58.016261Z",
     "iopub.status.idle": "2025-01-18T11:37:58.094555Z",
     "shell.execute_reply": "2025-01-18T11:37:58.093818Z"
    },
    "papermill": {
     "duration": 0.083461,
     "end_time": "2025-01-18T11:37:58.096279",
     "exception": false,
     "start_time": "2025-01-18T11:37:58.012818",
     "status": "completed"
    },
    "tags": []
   },
   "outputs": [],
   "source": [
    "# Create datasets for train, validation, and test\n",
    "train_dataset = CustomDataset(train_folder, transform=transform)\n",
    "val_dataset = CustomDataset(val_folder, transform=transform)\n",
    "test_dataset = CustomDataset(test_folder, transform=transform)"
   ]
  },
  {
   "cell_type": "code",
   "execution_count": 10,
   "id": "af87d22a",
   "metadata": {
    "execution": {
     "iopub.execute_input": "2025-01-18T11:37:58.103746Z",
     "iopub.status.busy": "2025-01-18T11:37:58.103081Z",
     "iopub.status.idle": "2025-01-18T11:37:58.108021Z",
     "shell.execute_reply": "2025-01-18T11:37:58.107242Z"
    },
    "papermill": {
     "duration": 0.010385,
     "end_time": "2025-01-18T11:37:58.109930",
     "exception": false,
     "start_time": "2025-01-18T11:37:58.099545",
     "status": "completed"
    },
    "tags": []
   },
   "outputs": [],
   "source": [
    "# Create data loaders\n",
    "train_loader = DataLoader(train_dataset, batch_size=64, shuffle=True)\n",
    "val_loader = DataLoader(val_dataset, batch_size=64, shuffle=False)\n",
    "test_loader = DataLoader(test_dataset, batch_size=64, shuffle=False)\n"
   ]
  },
  {
   "cell_type": "code",
   "execution_count": 11,
   "id": "81475fe0",
   "metadata": {
    "execution": {
     "iopub.execute_input": "2025-01-18T11:37:58.118631Z",
     "iopub.status.busy": "2025-01-18T11:37:58.118386Z",
     "iopub.status.idle": "2025-01-18T11:37:58.649238Z",
     "shell.execute_reply": "2025-01-18T11:37:58.648339Z"
    },
    "papermill": {
     "duration": 0.537277,
     "end_time": "2025-01-18T11:37:58.651136",
     "exception": false,
     "start_time": "2025-01-18T11:37:58.113859",
     "status": "completed"
    },
    "tags": []
   },
   "outputs": [
    {
     "name": "stderr",
     "output_type": "stream",
     "text": [
      "/opt/conda/lib/python3.10/site-packages/torchvision/models/_utils.py:208: UserWarning: The parameter 'pretrained' is deprecated since 0.13 and may be removed in the future, please use 'weights' instead.\n",
      "  warnings.warn(\n",
      "/opt/conda/lib/python3.10/site-packages/torchvision/models/_utils.py:223: UserWarning: Arguments other than a weight enum or `None` for 'weights' are deprecated since 0.13 and may be removed in the future. The current behavior is equivalent to passing `weights=DenseNet121_Weights.IMAGENET1K_V1`. You can also use `weights=DenseNet121_Weights.DEFAULT` to get the most up-to-date weights.\n",
      "  warnings.warn(msg)\n",
      "Downloading: \"https://download.pytorch.org/models/densenet121-a639ec97.pth\" to /root/.cache/torch/hub/checkpoints/densenet121-a639ec97.pth\n",
      "100%|██████████| 30.8M/30.8M [00:00<00:00, 160MB/s]\n"
     ]
    }
   ],
   "source": [
    "import torch.nn as nn\n",
    "from torchvision import models\n",
    "\n",
    "# Load pretrained DenseNet121 model\n",
    "model = models.densenet121(pretrained=True)\n",
    "\n",
    "# Get the number of features in the classifier\n",
    "num_features = model.classifier.in_features\n",
    "\n",
    "# Modify the classifier\n",
    "model.classifier = nn.Sequential(\n",
    "    nn.Dropout(0.5),  # Dropout with 50% probability\n",
    "    nn.Linear(num_features, len(folders))  # Replace len(folders) with the number of output classes\n",
    ")\n"
   ]
  },
  {
   "cell_type": "code",
   "execution_count": 12,
   "id": "9e6477b2",
   "metadata": {
    "execution": {
     "iopub.execute_input": "2025-01-18T11:37:58.659509Z",
     "iopub.status.busy": "2025-01-18T11:37:58.658753Z",
     "iopub.status.idle": "2025-01-18T11:37:58.944920Z",
     "shell.execute_reply": "2025-01-18T11:37:58.944122Z"
    },
    "papermill": {
     "duration": 0.292334,
     "end_time": "2025-01-18T11:37:58.946907",
     "exception": false,
     "start_time": "2025-01-18T11:37:58.654573",
     "status": "completed"
    },
    "tags": []
   },
   "outputs": [],
   "source": [
    "# Training setup\n",
    "device = torch.device(\"cuda\" if torch.cuda.is_available() else \"cpu\")\n",
    "model = model.to(device)\n",
    "\n",
    "criterion = nn.CrossEntropyLoss()\n",
    "optimizer = optim.Adam(model.parameters(), lr=0.001, weight_decay=1e-4)  # L2 regularization with weight_decay\n",
    "\n",
    "# Training loop\n",
    "num_epochs = 50\n",
    "best_val_accuracy = 0.0"
   ]
  },
  {
   "cell_type": "code",
   "execution_count": 13,
   "id": "31a3d19a",
   "metadata": {
    "execution": {
     "iopub.execute_input": "2025-01-18T11:37:58.954623Z",
     "iopub.status.busy": "2025-01-18T11:37:58.954354Z",
     "iopub.status.idle": "2025-01-18T12:34:49.817597Z",
     "shell.execute_reply": "2025-01-18T12:34:49.816672Z"
    },
    "papermill": {
     "duration": 3410.876025,
     "end_time": "2025-01-18T12:34:49.826356",
     "exception": false,
     "start_time": "2025-01-18T11:37:58.950331",
     "status": "completed"
    },
    "tags": []
   },
   "outputs": [
    {
     "name": "stdout",
     "output_type": "stream",
     "text": [
      "Epoch 1/50, Train Accuracy: 68.76%, Validation Accuracy: 63.43%\n",
      "Epoch 2/50, Train Accuracy: 76.03%, Validation Accuracy: 73.14%\n",
      "Epoch 3/50, Train Accuracy: 78.93%, Validation Accuracy: 73.76%\n",
      "Epoch 4/50, Train Accuracy: 80.80%, Validation Accuracy: 76.24%\n",
      "Epoch 5/50, Train Accuracy: 83.78%, Validation Accuracy: 73.14%\n",
      "Epoch 6/50, Train Accuracy: 83.61%, Validation Accuracy: 70.87%\n",
      "Epoch 7/50, Train Accuracy: 85.69%, Validation Accuracy: 69.63%\n",
      "Epoch 8/50, Train Accuracy: 86.26%, Validation Accuracy: 71.49%\n",
      "Epoch 9/50, Train Accuracy: 87.00%, Validation Accuracy: 72.31%\n",
      "Epoch 10/50, Train Accuracy: 86.94%, Validation Accuracy: 67.77%\n",
      "Epoch 11/50, Train Accuracy: 87.35%, Validation Accuracy: 72.31%\n",
      "Epoch 12/50, Train Accuracy: 88.56%, Validation Accuracy: 72.52%\n",
      "Epoch 13/50, Train Accuracy: 89.90%, Validation Accuracy: 71.69%\n",
      "Epoch 14/50, Train Accuracy: 89.32%, Validation Accuracy: 70.87%\n",
      "Epoch 15/50, Train Accuracy: 87.70%, Validation Accuracy: 71.07%\n",
      "Epoch 16/50, Train Accuracy: 90.20%, Validation Accuracy: 74.38%\n",
      "Epoch 17/50, Train Accuracy: 89.89%, Validation Accuracy: 74.38%\n",
      "Epoch 18/50, Train Accuracy: 89.44%, Validation Accuracy: 68.80%\n",
      "Epoch 19/50, Train Accuracy: 89.94%, Validation Accuracy: 71.07%\n",
      "Epoch 20/50, Train Accuracy: 89.44%, Validation Accuracy: 72.93%\n",
      "Epoch 21/50, Train Accuracy: 91.25%, Validation Accuracy: 72.73%\n",
      "Epoch 22/50, Train Accuracy: 91.87%, Validation Accuracy: 72.11%\n",
      "Epoch 23/50, Train Accuracy: 90.51%, Validation Accuracy: 73.35%\n",
      "Epoch 24/50, Train Accuracy: 91.74%, Validation Accuracy: 73.55%\n",
      "Epoch 25/50, Train Accuracy: 92.11%, Validation Accuracy: 72.11%\n",
      "Epoch 26/50, Train Accuracy: 92.17%, Validation Accuracy: 71.28%\n",
      "Epoch 27/50, Train Accuracy: 91.76%, Validation Accuracy: 70.45%\n",
      "Epoch 28/50, Train Accuracy: 90.20%, Validation Accuracy: 73.55%\n",
      "Epoch 29/50, Train Accuracy: 91.42%, Validation Accuracy: 72.31%\n",
      "Epoch 30/50, Train Accuracy: 90.16%, Validation Accuracy: 71.28%\n",
      "Epoch 31/50, Train Accuracy: 90.33%, Validation Accuracy: 69.01%\n",
      "Epoch 32/50, Train Accuracy: 90.18%, Validation Accuracy: 74.59%\n",
      "Epoch 33/50, Train Accuracy: 92.52%, Validation Accuracy: 70.87%\n",
      "Epoch 34/50, Train Accuracy: 92.87%, Validation Accuracy: 73.14%\n",
      "Epoch 35/50, Train Accuracy: 92.73%, Validation Accuracy: 72.52%\n",
      "Epoch 36/50, Train Accuracy: 92.36%, Validation Accuracy: 72.52%\n",
      "Epoch 37/50, Train Accuracy: 91.93%, Validation Accuracy: 70.66%\n",
      "Epoch 38/50, Train Accuracy: 91.37%, Validation Accuracy: 69.83%\n",
      "Epoch 39/50, Train Accuracy: 91.50%, Validation Accuracy: 71.90%\n",
      "Epoch 40/50, Train Accuracy: 92.34%, Validation Accuracy: 71.07%\n",
      "Epoch 41/50, Train Accuracy: 92.59%, Validation Accuracy: 69.83%\n",
      "Epoch 42/50, Train Accuracy: 91.42%, Validation Accuracy: 69.63%\n",
      "Epoch 43/50, Train Accuracy: 92.15%, Validation Accuracy: 73.35%\n",
      "Epoch 44/50, Train Accuracy: 91.91%, Validation Accuracy: 70.04%\n",
      "Epoch 45/50, Train Accuracy: 92.05%, Validation Accuracy: 73.35%\n",
      "Epoch 46/50, Train Accuracy: 89.50%, Validation Accuracy: 71.28%\n",
      "Epoch 47/50, Train Accuracy: 92.59%, Validation Accuracy: 71.49%\n",
      "Epoch 48/50, Train Accuracy: 92.98%, Validation Accuracy: 71.28%\n",
      "Epoch 49/50, Train Accuracy: 93.08%, Validation Accuracy: 71.90%\n",
      "Epoch 50/50, Train Accuracy: 92.93%, Validation Accuracy: 72.73%\n"
     ]
    }
   ],
   "source": [
    "for epoch in range(num_epochs):\n",
    "    # Training phase\n",
    "    model.train()\n",
    "    correct = 0\n",
    "    total = 0\n",
    "\n",
    "    for images, labels in train_loader:\n",
    "        images, labels = images.to(device), labels.to(device)\n",
    "        optimizer.zero_grad()\n",
    "        outputs = model(images)\n",
    "        loss = criterion(outputs, labels)\n",
    "        loss.backward()\n",
    "        optimizer.step()\n",
    "\n",
    "        _, predicted = torch.max(outputs, 1)\n",
    "        total += labels.size(0)\n",
    "        correct += (predicted == labels).sum().item()\n",
    "\n",
    "    train_accuracy = 100 * correct / total\n",
    "\n",
    "    # Validation phase\n",
    "    model.eval()\n",
    "    val_correct = 0\n",
    "    val_total = 0\n",
    "    with torch.no_grad():\n",
    "        for images, labels in val_loader:\n",
    "            images, labels = images.to(device), labels.to(device)\n",
    "            outputs = model(images)\n",
    "            _, predicted = torch.max(outputs, 1)\n",
    "            val_total += labels.size(0)\n",
    "            val_correct += (predicted == labels).sum().item()\n",
    "\n",
    "    val_accuracy = 100 * val_correct / val_total\n",
    "\n",
    "    # Print epoch results\n",
    "    print(f\"Epoch {epoch+1}/{num_epochs}, \"\n",
    "          f\"Train Accuracy: {train_accuracy:.2f}%, \"\n",
    "          f\"Validation Accuracy: {val_accuracy:.2f}%\")\n",
    "\n",
    "    # Save the best model\n",
    "    if val_accuracy > best_val_accuracy:\n",
    "        best_val_accuracy = val_accuracy\n",
    "        torch.save(model.state_dict(), \"best_denseNet101_model.pth\")\n"
   ]
  },
  {
   "cell_type": "code",
   "execution_count": 14,
   "id": "8739dbda",
   "metadata": {
    "execution": {
     "iopub.execute_input": "2025-01-18T12:34:49.838080Z",
     "iopub.status.busy": "2025-01-18T12:34:49.837800Z",
     "iopub.status.idle": "2025-01-18T12:34:49.972834Z",
     "shell.execute_reply": "2025-01-18T12:34:49.971864Z"
    },
    "papermill": {
     "duration": 0.142981,
     "end_time": "2025-01-18T12:34:49.974702",
     "exception": false,
     "start_time": "2025-01-18T12:34:49.831721",
     "status": "completed"
    },
    "tags": []
   },
   "outputs": [
    {
     "name": "stderr",
     "output_type": "stream",
     "text": [
      "/tmp/ipykernel_23/3756045988.py:2: FutureWarning: You are using `torch.load` with `weights_only=False` (the current default value), which uses the default pickle module implicitly. It is possible to construct malicious pickle data which will execute arbitrary code during unpickling (See https://github.com/pytorch/pytorch/blob/main/SECURITY.md#untrusted-models for more details). In a future release, the default value for `weights_only` will be flipped to `True`. This limits the functions that could be executed during unpickling. Arbitrary objects will no longer be allowed to be loaded via this mode unless they are explicitly allowlisted by the user via `torch.serialization.add_safe_globals`. We recommend you start setting `weights_only=True` for any use case where you don't have full control of the loaded file. Please open an issue on GitHub for any issues related to this experimental feature.\n",
      "  model.load_state_dict(torch.load(\"best_denseNet101_model.pth\"))\n"
     ]
    },
    {
     "data": {
      "text/plain": [
       "<All keys matched successfully>"
      ]
     },
     "execution_count": 14,
     "metadata": {},
     "output_type": "execute_result"
    }
   ],
   "source": [
    "# Load the best model for testing\n",
    "model.load_state_dict(torch.load(\"best_denseNet101_model.pth\"))"
   ]
  },
  {
   "cell_type": "code",
   "execution_count": 15,
   "id": "8fe3dcbf",
   "metadata": {
    "execution": {
     "iopub.execute_input": "2025-01-18T12:34:49.986700Z",
     "iopub.status.busy": "2025-01-18T12:34:49.986456Z",
     "iopub.status.idle": "2025-01-18T12:34:54.147792Z",
     "shell.execute_reply": "2025-01-18T12:34:54.146961Z"
    },
    "papermill": {
     "duration": 4.169827,
     "end_time": "2025-01-18T12:34:54.150126",
     "exception": false,
     "start_time": "2025-01-18T12:34:49.980299",
     "status": "completed"
    },
    "tags": []
   },
   "outputs": [],
   "source": [
    "# Testing phase\n",
    "model.eval()\n",
    "all_labels = []\n",
    "all_predictions = []\n",
    "\n",
    "with torch.no_grad():\n",
    "    for images, labels in test_loader:\n",
    "        images, labels = images.to(device), labels.to(device)\n",
    "        outputs = model(images)\n",
    "        _, predicted = torch.max(outputs, 1)\n",
    "        all_labels.extend(labels.cpu().numpy())\n",
    "        all_predictions.extend(predicted.cpu().numpy())"
   ]
  },
  {
   "cell_type": "code",
   "execution_count": 16,
   "id": "cb393e9a",
   "metadata": {
    "execution": {
     "iopub.execute_input": "2025-01-18T12:34:54.167419Z",
     "iopub.status.busy": "2025-01-18T12:34:54.167079Z",
     "iopub.status.idle": "2025-01-18T12:34:54.185806Z",
     "shell.execute_reply": "2025-01-18T12:34:54.184812Z"
    },
    "papermill": {
     "duration": 0.029015,
     "end_time": "2025-01-18T12:34:54.187492",
     "exception": false,
     "start_time": "2025-01-18T12:34:54.158477",
     "status": "completed"
    },
    "tags": []
   },
   "outputs": [
    {
     "name": "stdout",
     "output_type": "stream",
     "text": [
      "Test Accuracy: 79.88%\n",
      "Test Precision: 0.8029\n",
      "Test Recall: 0.7988\n",
      "Test F1 Score: 0.7945\n"
     ]
    }
   ],
   "source": [
    "# Calculate metrics\n",
    "accuracy = accuracy_score(all_labels, all_predictions)\n",
    "precision = precision_score(all_labels, all_predictions, average='weighted')\n",
    "recall = recall_score(all_labels, all_predictions, average='weighted')\n",
    "f1 = f1_score(all_labels, all_predictions, average='weighted')\n",
    "\n",
    "print(f\"Test Accuracy: {accuracy * 100:.2f}%\")\n",
    "print(f\"Test Precision: {precision:.4f}\")\n",
    "print(f\"Test Recall: {recall:.4f}\")\n",
    "print(f\"Test F1 Score: {f1:.4f}\")"
   ]
  }
 ],
 "metadata": {
  "kaggle": {
   "accelerator": "nvidiaTeslaT4",
   "dataSources": [
    {
     "datasetId": 6250315,
     "sourceId": 10128159,
     "sourceType": "datasetVersion"
    },
    {
     "datasetId": 6503486,
     "sourceId": 10505875,
     "sourceType": "datasetVersion"
    }
   ],
   "isGpuEnabled": true,
   "isInternetEnabled": true,
   "language": "python",
   "sourceType": "notebook"
  },
  "kernelspec": {
   "display_name": "Python 3",
   "language": "python",
   "name": "python3"
  },
  "language_info": {
   "codemirror_mode": {
    "name": "ipython",
    "version": 3
   },
   "file_extension": ".py",
   "mimetype": "text/x-python",
   "name": "python",
   "nbconvert_exporter": "python",
   "pygments_lexer": "ipython3",
   "version": "3.10.14"
  },
  "papermill": {
   "default_parameters": {},
   "duration": 3457.578247,
   "end_time": "2025-01-18T12:34:55.613939",
   "environment_variables": {},
   "exception": null,
   "input_path": "__notebook__.ipynb",
   "output_path": "__notebook__.ipynb",
   "parameters": {},
   "start_time": "2025-01-18T11:37:18.035692",
   "version": "2.6.0"
  }
 },
 "nbformat": 4,
 "nbformat_minor": 5
}
