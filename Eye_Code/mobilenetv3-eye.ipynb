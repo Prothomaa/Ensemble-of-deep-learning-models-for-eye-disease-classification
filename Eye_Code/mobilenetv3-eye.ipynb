{
 "cells": [
  {
   "cell_type": "code",
   "execution_count": 1,
   "id": "a5a73bad",
   "metadata": {
    "_cell_guid": "b1076dfc-b9ad-4769-8c92-a6c4dae69d19",
    "_uuid": "8f2839f25d086af736a60e9eeb907d3b93b6e0e5",
    "execution": {
     "iopub.execute_input": "2024-12-08T09:02:01.762294Z",
     "iopub.status.busy": "2024-12-08T09:02:01.761986Z",
     "iopub.status.idle": "2024-12-08T09:02:06.837786Z",
     "shell.execute_reply": "2024-12-08T09:02:06.836844Z"
    },
    "papermill": {
     "duration": 5.082133,
     "end_time": "2024-12-08T09:02:06.839915",
     "exception": false,
     "start_time": "2024-12-08T09:02:01.757782",
     "status": "completed"
    },
    "tags": []
   },
   "outputs": [],
   "source": [
    "import os\n",
    "import numpy as np\n",
    "from torchvision import datasets, models, transforms\n",
    "import torch\n",
    "from torch.utils.data import DataLoader, Dataset\n",
    "from torchvision.transforms import InterpolationMode\n",
    "from PIL import Image\n",
    "import torch.nn as nn\n",
    "import torch.optim as optim\n",
    "from sklearn.metrics import accuracy_score, precision_score, recall_score, f1_score\n",
    "import random"
   ]
  },
  {
   "cell_type": "code",
   "execution_count": 2,
   "id": "259fdfcf",
   "metadata": {
    "execution": {
     "iopub.execute_input": "2024-12-08T09:02:06.847763Z",
     "iopub.status.busy": "2024-12-08T09:02:06.847148Z",
     "iopub.status.idle": "2024-12-08T09:02:06.851999Z",
     "shell.execute_reply": "2024-12-08T09:02:06.851111Z"
    },
    "papermill": {
     "duration": 0.010469,
     "end_time": "2024-12-08T09:02:06.853627",
     "exception": false,
     "start_time": "2024-12-08T09:02:06.843158",
     "status": "completed"
    },
    "tags": []
   },
   "outputs": [],
   "source": [
    "# Set fixed seed for reproducibility\n",
    "def set_seed(seed=42):\n",
    "    random.seed(seed)\n",
    "    np.random.seed(seed)\n",
    "    torch.manual_seed(seed)\n",
    "    torch.cuda.manual_seed_all(seed)\n",
    "    torch.backends.cudnn.deterministic = True\n",
    "    torch.backends.cudnn.benchmark = False\n"
   ]
  },
  {
   "cell_type": "code",
   "execution_count": 3,
   "id": "4d8b1698",
   "metadata": {
    "execution": {
     "iopub.execute_input": "2024-12-08T09:02:06.860058Z",
     "iopub.status.busy": "2024-12-08T09:02:06.859812Z",
     "iopub.status.idle": "2024-12-08T09:02:06.868643Z",
     "shell.execute_reply": "2024-12-08T09:02:06.868063Z"
    },
    "papermill": {
     "duration": 0.013696,
     "end_time": "2024-12-08T09:02:06.870173",
     "exception": false,
     "start_time": "2024-12-08T09:02:06.856477",
     "status": "completed"
    },
    "tags": []
   },
   "outputs": [],
   "source": [
    "set_seed(42)"
   ]
  },
  {
   "cell_type": "code",
   "execution_count": 4,
   "id": "4def30f2",
   "metadata": {
    "execution": {
     "iopub.execute_input": "2024-12-08T09:02:06.876283Z",
     "iopub.status.busy": "2024-12-08T09:02:06.875820Z",
     "iopub.status.idle": "2024-12-08T09:02:06.880329Z",
     "shell.execute_reply": "2024-12-08T09:02:06.879649Z"
    },
    "papermill": {
     "duration": 0.009125,
     "end_time": "2024-12-08T09:02:06.881850",
     "exception": false,
     "start_time": "2024-12-08T09:02:06.872725",
     "status": "completed"
    },
    "tags": []
   },
   "outputs": [],
   "source": [
    "# Define dataset paths and parameters\n",
    "dataset_dir = \"/kaggle/input/eye-dataset-preprocessed-augmented-v2/Dataset_V2\"  # Replace with your dataset path\n",
    "train_folder = os.path.join(dataset_dir, \"train_aug\")\n",
    "val_folder = os.path.join(dataset_dir, \"val_org\")\n",
    "test_folder = os.path.join(dataset_dir, \"test_org\")\n",
    "folders = [\"Diabetic Retinopathy\", \"Glaucoma\", \"Healthy\", \"Macular Scar\", \"Myopia\"]\n",
    "image_size = 224  # Input image size for ResNet50\n"
   ]
  },
  {
   "cell_type": "code",
   "execution_count": 5,
   "id": "f45171a8",
   "metadata": {
    "execution": {
     "iopub.execute_input": "2024-12-08T09:02:06.887749Z",
     "iopub.status.busy": "2024-12-08T09:02:06.887536Z",
     "iopub.status.idle": "2024-12-08T09:02:06.892205Z",
     "shell.execute_reply": "2024-12-08T09:02:06.891449Z"
    },
    "papermill": {
     "duration": 0.009316,
     "end_time": "2024-12-08T09:02:06.893703",
     "exception": false,
     "start_time": "2024-12-08T09:02:06.884387",
     "status": "completed"
    },
    "tags": []
   },
   "outputs": [],
   "source": [
    "# Function to calculate dataset mean and std\n",
    "def calculate_mean_std(dataset):\n",
    "    loader = DataLoader(dataset, batch_size=64, shuffle=False)\n",
    "    mean = torch.zeros(3)\n",
    "    std = torch.zeros(3)\n",
    "    for images, _ in loader:\n",
    "        images = images.view(images.size(0), images.size(1), -1)\n",
    "        mean += images.mean(2).sum(0)\n",
    "        std += images.std(2).sum(0)\n",
    "    mean /= len(dataset)\n",
    "    std /= len(dataset)\n",
    "    return mean, std\n"
   ]
  },
  {
   "cell_type": "code",
   "execution_count": 6,
   "id": "86271276",
   "metadata": {
    "execution": {
     "iopub.execute_input": "2024-12-08T09:02:06.902223Z",
     "iopub.status.busy": "2024-12-08T09:02:06.901537Z",
     "iopub.status.idle": "2024-12-08T09:02:06.908742Z",
     "shell.execute_reply": "2024-12-08T09:02:06.907795Z"
    },
    "papermill": {
     "duration": 0.013498,
     "end_time": "2024-12-08T09:02:06.910817",
     "exception": false,
     "start_time": "2024-12-08T09:02:06.897319",
     "status": "completed"
    },
    "tags": []
   },
   "outputs": [],
   "source": [
    "# Custom dataset class\n",
    "class CustomDataset(Dataset):\n",
    "    def __init__(self, folder_path, transform=None):\n",
    "        self.folder_path = folder_path\n",
    "        self.transform = transform\n",
    "        self.data = []\n",
    "        for class_label, class_name in enumerate(folders):\n",
    "            class_folder = os.path.join(folder_path, class_name)\n",
    "            if os.path.exists(class_folder):\n",
    "                for img_name in os.listdir(class_folder):\n",
    "                    img_path = os.path.join(class_folder, img_name)\n",
    "                    self.data.append((img_path, class_label))\n",
    "\n",
    "    def __len__(self):\n",
    "        return len(self.data)\n",
    "\n",
    "    def __getitem__(self, idx):\n",
    "        img_path, label = self.data[idx]\n",
    "        image = Image.open(img_path).convert(\"RGB\")\n",
    "        if self.transform:\n",
    "            image = self.transform(image)\n",
    "        return image, label"
   ]
  },
  {
   "cell_type": "code",
   "execution_count": 7,
   "id": "11af7cda",
   "metadata": {
    "execution": {
     "iopub.execute_input": "2024-12-08T09:02:06.918627Z",
     "iopub.status.busy": "2024-12-08T09:02:06.917868Z",
     "iopub.status.idle": "2024-12-08T09:02:58.048420Z",
     "shell.execute_reply": "2024-12-08T09:02:58.047399Z"
    },
    "papermill": {
     "duration": 51.13955,
     "end_time": "2024-12-08T09:02:58.053057",
     "exception": false,
     "start_time": "2024-12-08T09:02:06.913507",
     "status": "completed"
    },
    "tags": []
   },
   "outputs": [
    {
     "name": "stdout",
     "output_type": "stream",
     "text": [
      "Dataset Mean: tensor([0.5821, 0.4261, 0.2698]), Std: tensor([0.2991, 0.2463, 0.1861])\n"
     ]
    }
   ],
   "source": [
    "# Create datasets for mean/std calculation\n",
    "combined_dataset = CustomDataset(train_folder, transform=transforms.ToTensor())\n",
    "mean, std = calculate_mean_std(combined_dataset)\n",
    "print(f\"Dataset Mean: {mean}, Std: {std}\")"
   ]
  },
  {
   "cell_type": "code",
   "execution_count": 8,
   "id": "b1d51ed2",
   "metadata": {
    "execution": {
     "iopub.execute_input": "2024-12-08T09:02:58.060050Z",
     "iopub.status.busy": "2024-12-08T09:02:58.059743Z",
     "iopub.status.idle": "2024-12-08T09:02:58.064557Z",
     "shell.execute_reply": "2024-12-08T09:02:58.063743Z"
    },
    "papermill": {
     "duration": 0.010362,
     "end_time": "2024-12-08T09:02:58.066289",
     "exception": false,
     "start_time": "2024-12-08T09:02:58.055927",
     "status": "completed"
    },
    "tags": []
   },
   "outputs": [],
   "source": [
    "# Update transforms with calculated mean and std\n",
    "transform = transforms.Compose([\n",
    "    transforms.Resize((image_size, image_size), interpolation=InterpolationMode.BILINEAR),\n",
    "    transforms.ToTensor(),\n",
    "    transforms.Normalize(mean=mean.tolist(), std=std.tolist())\n",
    "])"
   ]
  },
  {
   "cell_type": "code",
   "execution_count": 9,
   "id": "c70fa089",
   "metadata": {
    "execution": {
     "iopub.execute_input": "2024-12-08T09:02:58.074882Z",
     "iopub.status.busy": "2024-12-08T09:02:58.074635Z",
     "iopub.status.idle": "2024-12-08T09:02:58.193137Z",
     "shell.execute_reply": "2024-12-08T09:02:58.192434Z"
    },
    "papermill": {
     "duration": 0.124672,
     "end_time": "2024-12-08T09:02:58.194846",
     "exception": false,
     "start_time": "2024-12-08T09:02:58.070174",
     "status": "completed"
    },
    "tags": []
   },
   "outputs": [],
   "source": [
    "# Create datasets for train, validation, and test\n",
    "train_dataset = CustomDataset(train_folder, transform=transform)\n",
    "val_dataset = CustomDataset(val_folder, transform=transform)\n",
    "test_dataset = CustomDataset(test_folder, transform=transform)"
   ]
  },
  {
   "cell_type": "code",
   "execution_count": 10,
   "id": "508190fa",
   "metadata": {
    "execution": {
     "iopub.execute_input": "2024-12-08T09:02:58.201772Z",
     "iopub.status.busy": "2024-12-08T09:02:58.201519Z",
     "iopub.status.idle": "2024-12-08T09:02:58.205546Z",
     "shell.execute_reply": "2024-12-08T09:02:58.204828Z"
    },
    "papermill": {
     "duration": 0.00929,
     "end_time": "2024-12-08T09:02:58.207139",
     "exception": false,
     "start_time": "2024-12-08T09:02:58.197849",
     "status": "completed"
    },
    "tags": []
   },
   "outputs": [],
   "source": [
    "# Create data loaders\n",
    "train_loader = DataLoader(train_dataset, batch_size=64, shuffle=True)\n",
    "val_loader = DataLoader(val_dataset, batch_size=64, shuffle=False)\n",
    "test_loader = DataLoader(test_dataset, batch_size=64, shuffle=False)"
   ]
  },
  {
   "cell_type": "code",
   "execution_count": 11,
   "id": "e3aefe34",
   "metadata": {
    "execution": {
     "iopub.execute_input": "2024-12-08T09:02:58.213791Z",
     "iopub.status.busy": "2024-12-08T09:02:58.213525Z",
     "iopub.status.idle": "2024-12-08T09:02:58.627539Z",
     "shell.execute_reply": "2024-12-08T09:02:58.626676Z"
    },
    "papermill": {
     "duration": 0.419794,
     "end_time": "2024-12-08T09:02:58.629782",
     "exception": false,
     "start_time": "2024-12-08T09:02:58.209988",
     "status": "completed"
    },
    "tags": []
   },
   "outputs": [
    {
     "name": "stderr",
     "output_type": "stream",
     "text": [
      "/opt/conda/lib/python3.10/site-packages/torchvision/models/_utils.py:208: UserWarning: The parameter 'pretrained' is deprecated since 0.13 and may be removed in the future, please use 'weights' instead.\n",
      "  warnings.warn(\n",
      "/opt/conda/lib/python3.10/site-packages/torchvision/models/_utils.py:223: UserWarning: Arguments other than a weight enum or `None` for 'weights' are deprecated since 0.13 and may be removed in the future. The current behavior is equivalent to passing `weights=MobileNet_V3_Large_Weights.IMAGENET1K_V1`. You can also use `weights=MobileNet_V3_Large_Weights.DEFAULT` to get the most up-to-date weights.\n",
      "  warnings.warn(msg)\n",
      "Downloading: \"https://download.pytorch.org/models/mobilenet_v3_large-8738ca79.pth\" to /root/.cache/torch/hub/checkpoints/mobilenet_v3_large-8738ca79.pth\n",
      "100%|██████████| 21.1M/21.1M [00:00<00:00, 128MB/s] \n"
     ]
    }
   ],
   "source": [
    "import torch.nn as nn\n",
    "from torchvision import models\n",
    "\n",
    "# Load pretrained MobileNetV3 model\n",
    "model = models.mobilenet_v3_large(pretrained=True)  # Use 'mobilenet_v3_small' if needed\n",
    "\n",
    "# Get the number of features in the classifier\n",
    "num_features = model.classifier[-1].in_features\n",
    "\n",
    "# Modify the classifier\n",
    "model.classifier[-1] = nn.Sequential(\n",
    "    nn.Dropout(0.5),  # Dropout with 50% probability\n",
    "    nn.Linear(num_features, len(folders))  # Replace len(folders) with the number of output classes\n",
    ")\n"
   ]
  },
  {
   "cell_type": "code",
   "execution_count": 12,
   "id": "324efb5d",
   "metadata": {
    "execution": {
     "iopub.execute_input": "2024-12-08T09:02:58.639955Z",
     "iopub.status.busy": "2024-12-08T09:02:58.639669Z",
     "iopub.status.idle": "2024-12-08T09:02:58.908819Z",
     "shell.execute_reply": "2024-12-08T09:02:58.907881Z"
    },
    "papermill": {
     "duration": 0.276391,
     "end_time": "2024-12-08T09:02:58.910865",
     "exception": false,
     "start_time": "2024-12-08T09:02:58.634474",
     "status": "completed"
    },
    "tags": []
   },
   "outputs": [],
   "source": [
    "# Training setup\n",
    "device = torch.device(\"cuda\" if torch.cuda.is_available() else \"cpu\")\n",
    "model = model.to(device)\n",
    "\n",
    "criterion = nn.CrossEntropyLoss()\n",
    "optimizer = optim.Adam(model.parameters(), lr=0.001, weight_decay=1e-4)  # L2 regularization with weight_decay\n",
    "\n",
    "# Training loop\n",
    "num_epochs = 50\n",
    "best_val_accuracy = 0.0"
   ]
  },
  {
   "cell_type": "code",
   "execution_count": 13,
   "id": "0314a84c",
   "metadata": {
    "execution": {
     "iopub.execute_input": "2024-12-08T09:02:58.918618Z",
     "iopub.status.busy": "2024-12-08T09:02:58.918340Z",
     "iopub.status.idle": "2024-12-08T09:30:39.249549Z",
     "shell.execute_reply": "2024-12-08T09:30:39.248493Z"
    },
    "papermill": {
     "duration": 1660.342368,
     "end_time": "2024-12-08T09:30:39.256772",
     "exception": false,
     "start_time": "2024-12-08T09:02:58.914404",
     "status": "completed"
    },
    "tags": []
   },
   "outputs": [
    {
     "name": "stdout",
     "output_type": "stream",
     "text": [
      "Epoch 1/50, Train Accuracy: 70.54%, Validation Accuracy: 62.63%\n",
      "Epoch 2/50, Train Accuracy: 80.88%, Validation Accuracy: 65.76%\n",
      "Epoch 3/50, Train Accuracy: 86.22%, Validation Accuracy: 71.82%\n",
      "Epoch 4/50, Train Accuracy: 88.93%, Validation Accuracy: 68.27%\n",
      "Epoch 5/50, Train Accuracy: 90.34%, Validation Accuracy: 72.86%\n",
      "Epoch 6/50, Train Accuracy: 92.41%, Validation Accuracy: 75.57%\n",
      "Epoch 7/50, Train Accuracy: 93.20%, Validation Accuracy: 62.63%\n",
      "Epoch 8/50, Train Accuracy: 93.46%, Validation Accuracy: 72.86%\n",
      "Epoch 9/50, Train Accuracy: 94.44%, Validation Accuracy: 65.97%\n",
      "Epoch 10/50, Train Accuracy: 95.08%, Validation Accuracy: 71.82%\n",
      "Epoch 11/50, Train Accuracy: 93.88%, Validation Accuracy: 69.73%\n",
      "Epoch 12/50, Train Accuracy: 94.75%, Validation Accuracy: 68.89%\n",
      "Epoch 13/50, Train Accuracy: 94.22%, Validation Accuracy: 70.35%\n",
      "Epoch 14/50, Train Accuracy: 94.00%, Validation Accuracy: 71.61%\n",
      "Epoch 15/50, Train Accuracy: 95.61%, Validation Accuracy: 75.78%\n",
      "Epoch 16/50, Train Accuracy: 95.19%, Validation Accuracy: 73.07%\n",
      "Epoch 17/50, Train Accuracy: 96.15%, Validation Accuracy: 71.19%\n",
      "Epoch 18/50, Train Accuracy: 96.00%, Validation Accuracy: 69.31%\n",
      "Epoch 19/50, Train Accuracy: 95.41%, Validation Accuracy: 68.06%\n",
      "Epoch 20/50, Train Accuracy: 95.44%, Validation Accuracy: 68.06%\n",
      "Epoch 21/50, Train Accuracy: 93.73%, Validation Accuracy: 71.19%\n",
      "Epoch 22/50, Train Accuracy: 96.34%, Validation Accuracy: 74.32%\n",
      "Epoch 23/50, Train Accuracy: 96.17%, Validation Accuracy: 71.19%\n",
      "Epoch 24/50, Train Accuracy: 95.92%, Validation Accuracy: 73.28%\n",
      "Epoch 25/50, Train Accuracy: 96.05%, Validation Accuracy: 67.85%\n",
      "Epoch 26/50, Train Accuracy: 94.24%, Validation Accuracy: 73.49%\n",
      "Epoch 27/50, Train Accuracy: 95.93%, Validation Accuracy: 70.56%\n",
      "Epoch 28/50, Train Accuracy: 96.32%, Validation Accuracy: 72.03%\n",
      "Epoch 29/50, Train Accuracy: 95.86%, Validation Accuracy: 74.32%\n",
      "Epoch 30/50, Train Accuracy: 96.25%, Validation Accuracy: 70.98%\n",
      "Epoch 31/50, Train Accuracy: 96.19%, Validation Accuracy: 69.73%\n",
      "Epoch 32/50, Train Accuracy: 95.46%, Validation Accuracy: 69.52%\n",
      "Epoch 33/50, Train Accuracy: 95.78%, Validation Accuracy: 73.90%\n",
      "Epoch 34/50, Train Accuracy: 96.17%, Validation Accuracy: 73.90%\n",
      "Epoch 35/50, Train Accuracy: 95.88%, Validation Accuracy: 73.70%\n",
      "Epoch 36/50, Train Accuracy: 96.00%, Validation Accuracy: 72.23%\n",
      "Epoch 37/50, Train Accuracy: 96.12%, Validation Accuracy: 72.03%\n",
      "Epoch 38/50, Train Accuracy: 94.32%, Validation Accuracy: 68.68%\n",
      "Epoch 39/50, Train Accuracy: 96.00%, Validation Accuracy: 75.37%\n",
      "Epoch 40/50, Train Accuracy: 94.97%, Validation Accuracy: 74.32%\n",
      "Epoch 41/50, Train Accuracy: 96.20%, Validation Accuracy: 65.76%\n",
      "Epoch 42/50, Train Accuracy: 96.73%, Validation Accuracy: 73.90%\n",
      "Epoch 43/50, Train Accuracy: 96.68%, Validation Accuracy: 72.86%\n",
      "Epoch 44/50, Train Accuracy: 96.90%, Validation Accuracy: 71.82%\n",
      "Epoch 45/50, Train Accuracy: 95.98%, Validation Accuracy: 73.07%\n",
      "Epoch 46/50, Train Accuracy: 96.68%, Validation Accuracy: 67.43%\n",
      "Epoch 47/50, Train Accuracy: 96.49%, Validation Accuracy: 65.76%\n",
      "Epoch 48/50, Train Accuracy: 94.81%, Validation Accuracy: 72.23%\n",
      "Epoch 49/50, Train Accuracy: 95.44%, Validation Accuracy: 74.32%\n",
      "Epoch 50/50, Train Accuracy: 95.61%, Validation Accuracy: 67.43%\n"
     ]
    }
   ],
   "source": [
    "for epoch in range(num_epochs):\n",
    "    # Training phase\n",
    "    model.train()\n",
    "    correct = 0\n",
    "    total = 0\n",
    "\n",
    "    for images, labels in train_loader:\n",
    "        images, labels = images.to(device), labels.to(device)\n",
    "        optimizer.zero_grad()\n",
    "        outputs = model(images)\n",
    "        loss = criterion(outputs, labels)\n",
    "        loss.backward()\n",
    "        optimizer.step()\n",
    "\n",
    "        _, predicted = torch.max(outputs, 1)\n",
    "        total += labels.size(0)\n",
    "        correct += (predicted == labels).sum().item()\n",
    "\n",
    "    train_accuracy = 100 * correct / total\n",
    "\n",
    "    # Validation phase\n",
    "    model.eval()\n",
    "    val_correct = 0\n",
    "    val_total = 0\n",
    "    with torch.no_grad():\n",
    "        for images, labels in val_loader:\n",
    "            images, labels = images.to(device), labels.to(device)\n",
    "            outputs = model(images)\n",
    "            _, predicted = torch.max(outputs, 1)\n",
    "            val_total += labels.size(0)\n",
    "            val_correct += (predicted == labels).sum().item()\n",
    "\n",
    "    val_accuracy = 100 * val_correct / val_total\n",
    "\n",
    "    # Print epoch results\n",
    "    print(f\"Epoch {epoch+1}/{num_epochs}, \"\n",
    "          f\"Train Accuracy: {train_accuracy:.2f}%, \"\n",
    "          f\"Validation Accuracy: {val_accuracy:.2f}%\")\n",
    "\n",
    "    # Save the best model\n",
    "    if val_accuracy > best_val_accuracy:\n",
    "        best_val_accuracy = val_accuracy\n",
    "        torch.save(model.state_dict(), \"best_mobileNet_model.pth\")"
   ]
  },
  {
   "cell_type": "code",
   "execution_count": 14,
   "id": "6030b282",
   "metadata": {
    "execution": {
     "iopub.execute_input": "2024-12-08T09:30:39.268512Z",
     "iopub.status.busy": "2024-12-08T09:30:39.268180Z",
     "iopub.status.idle": "2024-12-08T09:30:39.334696Z",
     "shell.execute_reply": "2024-12-08T09:30:39.333857Z"
    },
    "papermill": {
     "duration": 0.074398,
     "end_time": "2024-12-08T09:30:39.336443",
     "exception": false,
     "start_time": "2024-12-08T09:30:39.262045",
     "status": "completed"
    },
    "tags": []
   },
   "outputs": [
    {
     "name": "stderr",
     "output_type": "stream",
     "text": [
      "/tmp/ipykernel_23/2867373924.py:2: FutureWarning: You are using `torch.load` with `weights_only=False` (the current default value), which uses the default pickle module implicitly. It is possible to construct malicious pickle data which will execute arbitrary code during unpickling (See https://github.com/pytorch/pytorch/blob/main/SECURITY.md#untrusted-models for more details). In a future release, the default value for `weights_only` will be flipped to `True`. This limits the functions that could be executed during unpickling. Arbitrary objects will no longer be allowed to be loaded via this mode unless they are explicitly allowlisted by the user via `torch.serialization.add_safe_globals`. We recommend you start setting `weights_only=True` for any use case where you don't have full control of the loaded file. Please open an issue on GitHub for any issues related to this experimental feature.\n",
      "  model.load_state_dict(torch.load(\"best_mobileNet_model.pth\"))\n"
     ]
    },
    {
     "data": {
      "text/plain": [
       "<All keys matched successfully>"
      ]
     },
     "execution_count": 14,
     "metadata": {},
     "output_type": "execute_result"
    }
   ],
   "source": [
    "# Load the best model for testing\n",
    "model.load_state_dict(torch.load(\"best_mobileNet_model.pth\"))\n"
   ]
  },
  {
   "cell_type": "code",
   "execution_count": 15,
   "id": "55941674",
   "metadata": {
    "execution": {
     "iopub.execute_input": "2024-12-08T09:30:39.353132Z",
     "iopub.status.busy": "2024-12-08T09:30:39.352391Z",
     "iopub.status.idle": "2024-12-08T09:30:44.774808Z",
     "shell.execute_reply": "2024-12-08T09:30:44.773948Z"
    },
    "papermill": {
     "duration": 5.433031,
     "end_time": "2024-12-08T09:30:44.777162",
     "exception": false,
     "start_time": "2024-12-08T09:30:39.344131",
     "status": "completed"
    },
    "tags": []
   },
   "outputs": [],
   "source": [
    "# Testing phase\n",
    "model.eval()\n",
    "all_labels = []\n",
    "all_predictions = []\n",
    "\n",
    "with torch.no_grad():\n",
    "    for images, labels in test_loader:\n",
    "        images, labels = images.to(device), labels.to(device)\n",
    "        outputs = model(images)\n",
    "        _, predicted = torch.max(outputs, 1)\n",
    "        all_labels.extend(labels.cpu().numpy())\n",
    "        all_predictions.extend(predicted.cpu().numpy())\n"
   ]
  },
  {
   "cell_type": "code",
   "execution_count": 16,
   "id": "518e936b",
   "metadata": {
    "execution": {
     "iopub.execute_input": "2024-12-08T09:30:44.793662Z",
     "iopub.status.busy": "2024-12-08T09:30:44.793348Z",
     "iopub.status.idle": "2024-12-08T09:30:44.808866Z",
     "shell.execute_reply": "2024-12-08T09:30:44.808170Z"
    },
    "papermill": {
     "duration": 0.024758,
     "end_time": "2024-12-08T09:30:44.810698",
     "exception": false,
     "start_time": "2024-12-08T09:30:44.785940",
     "status": "completed"
    },
    "tags": []
   },
   "outputs": [
    {
     "name": "stdout",
     "output_type": "stream",
     "text": [
      "Test Accuracy: 72.12%\n",
      "Test Precision: 0.7282\n",
      "Test Recall: 0.7212\n",
      "Test F1 Score: 0.7212\n"
     ]
    }
   ],
   "source": [
    "# Calculate metrics\n",
    "accuracy = accuracy_score(all_labels, all_predictions)\n",
    "precision = precision_score(all_labels, all_predictions, average='weighted')\n",
    "recall = recall_score(all_labels, all_predictions, average='weighted')\n",
    "f1 = f1_score(all_labels, all_predictions, average='weighted')\n",
    "\n",
    "print(f\"Test Accuracy: {accuracy * 100:.2f}%\")\n",
    "print(f\"Test Precision: {precision:.4f}\")\n",
    "print(f\"Test Recall: {recall:.4f}\")\n",
    "print(f\"Test F1 Score: {f1:.4f}\")"
   ]
  }
 ],
 "metadata": {
  "kaggle": {
   "accelerator": "nvidiaTeslaT4",
   "dataSources": [
    {
     "datasetId": 6250315,
     "sourceId": 10128159,
     "sourceType": "datasetVersion"
    }
   ],
   "isGpuEnabled": true,
   "isInternetEnabled": true,
   "language": "python",
   "sourceType": "notebook"
  },
  "kernelspec": {
   "display_name": "Python 3",
   "language": "python",
   "name": "python3"
  },
  "language_info": {
   "codemirror_mode": {
    "name": "ipython",
    "version": 3
   },
   "file_extension": ".py",
   "mimetype": "text/x-python",
   "name": "python",
   "nbconvert_exporter": "python",
   "pygments_lexer": "ipython3",
   "version": "3.10.14"
  },
  "papermill": {
   "default_parameters": {},
   "duration": 1726.649802,
   "end_time": "2024-12-08T09:30:46.036397",
   "environment_variables": {},
   "exception": null,
   "input_path": "__notebook__.ipynb",
   "output_path": "__notebook__.ipynb",
   "parameters": {},
   "start_time": "2024-12-08T09:01:59.386595",
   "version": "2.6.0"
  }
 },
 "nbformat": 4,
 "nbformat_minor": 5
}
