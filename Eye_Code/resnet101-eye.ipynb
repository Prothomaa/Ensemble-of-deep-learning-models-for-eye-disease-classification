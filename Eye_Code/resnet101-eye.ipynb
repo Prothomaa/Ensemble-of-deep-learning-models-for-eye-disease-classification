{
 "cells": [
  {
   "cell_type": "code",
   "execution_count": 1,
   "id": "170247d6",
   "metadata": {
    "_cell_guid": "b1076dfc-b9ad-4769-8c92-a6c4dae69d19",
    "_uuid": "8f2839f25d086af736a60e9eeb907d3b93b6e0e5",
    "execution": {
     "iopub.execute_input": "2025-01-19T06:12:35.093024Z",
     "iopub.status.busy": "2025-01-19T06:12:35.092743Z",
     "iopub.status.idle": "2025-01-19T06:12:40.612552Z",
     "shell.execute_reply": "2025-01-19T06:12:40.611890Z"
    },
    "papermill": {
     "duration": 5.526312,
     "end_time": "2025-01-19T06:12:40.614634",
     "exception": false,
     "start_time": "2025-01-19T06:12:35.088322",
     "status": "completed"
    },
    "tags": []
   },
   "outputs": [],
   "source": [
    "import os\n",
    "import numpy as np\n",
    "from torchvision import datasets, models, transforms\n",
    "import torch\n",
    "from torch.utils.data import DataLoader, Dataset\n",
    "from torchvision.transforms import InterpolationMode\n",
    "from PIL import Image\n",
    "import torch.nn as nn\n",
    "import torch.optim as optim\n",
    "from sklearn.metrics import accuracy_score, precision_score, recall_score, f1_score\n",
    "import random"
   ]
  },
  {
   "cell_type": "code",
   "execution_count": 2,
   "id": "824246dc",
   "metadata": {
    "execution": {
     "iopub.execute_input": "2025-01-19T06:12:40.621924Z",
     "iopub.status.busy": "2025-01-19T06:12:40.621226Z",
     "iopub.status.idle": "2025-01-19T06:12:40.625544Z",
     "shell.execute_reply": "2025-01-19T06:12:40.624856Z"
    },
    "papermill": {
     "duration": 0.009369,
     "end_time": "2025-01-19T06:12:40.627080",
     "exception": false,
     "start_time": "2025-01-19T06:12:40.617711",
     "status": "completed"
    },
    "tags": []
   },
   "outputs": [],
   "source": [
    "# Set fixed seed for reproducibility\n",
    "def set_seed(seed=42):\n",
    "    random.seed(seed)\n",
    "    np.random.seed(seed)\n",
    "    torch.manual_seed(seed)\n",
    "    torch.cuda.manual_seed_all(seed)\n",
    "    torch.backends.cudnn.deterministic = True\n",
    "    torch.backends.cudnn.benchmark = False"
   ]
  },
  {
   "cell_type": "code",
   "execution_count": 3,
   "id": "6c20fb44",
   "metadata": {
    "execution": {
     "iopub.execute_input": "2025-01-19T06:12:40.633381Z",
     "iopub.status.busy": "2025-01-19T06:12:40.632884Z",
     "iopub.status.idle": "2025-01-19T06:12:40.641857Z",
     "shell.execute_reply": "2025-01-19T06:12:40.641000Z"
    },
    "papermill": {
     "duration": 0.013949,
     "end_time": "2025-01-19T06:12:40.643488",
     "exception": false,
     "start_time": "2025-01-19T06:12:40.629539",
     "status": "completed"
    },
    "tags": []
   },
   "outputs": [],
   "source": [
    "set_seed(42)"
   ]
  },
  {
   "cell_type": "code",
   "execution_count": 4,
   "id": "9613024e",
   "metadata": {
    "execution": {
     "iopub.execute_input": "2025-01-19T06:12:40.649563Z",
     "iopub.status.busy": "2025-01-19T06:12:40.649130Z",
     "iopub.status.idle": "2025-01-19T06:12:40.653526Z",
     "shell.execute_reply": "2025-01-19T06:12:40.652843Z"
    },
    "papermill": {
     "duration": 0.009119,
     "end_time": "2025-01-19T06:12:40.655148",
     "exception": false,
     "start_time": "2025-01-19T06:12:40.646029",
     "status": "completed"
    },
    "tags": []
   },
   "outputs": [],
   "source": [
    "# Define dataset paths and parameters\n",
    "dataset_dir = \"/kaggle/input/aug-v100\"  # Replace with your dataset path\n",
    "train_folder = os.path.join(dataset_dir, \"output\")\n",
    "val_folder = os.path.join(dataset_dir, \"val\")\n",
    "test_folder = os.path.join(dataset_dir, \"test\")\n",
    "folders = [\"Diabetic Retinopathy\", \"Glaucoma\", \"Healthy\", \"Macular Scar\", \"Myopia\"]\n",
    "image_size = 224  # Input image size for ResNet50"
   ]
  },
  {
   "cell_type": "code",
   "execution_count": 5,
   "id": "eaa62b1e",
   "metadata": {
    "execution": {
     "iopub.execute_input": "2025-01-19T06:12:40.661645Z",
     "iopub.status.busy": "2025-01-19T06:12:40.661341Z",
     "iopub.status.idle": "2025-01-19T06:12:40.666339Z",
     "shell.execute_reply": "2025-01-19T06:12:40.665502Z"
    },
    "papermill": {
     "duration": 0.010113,
     "end_time": "2025-01-19T06:12:40.668046",
     "exception": false,
     "start_time": "2025-01-19T06:12:40.657933",
     "status": "completed"
    },
    "tags": []
   },
   "outputs": [],
   "source": [
    "# Function to calculate dataset mean and std\n",
    "def calculate_mean_std(dataset):\n",
    "    loader = DataLoader(dataset, batch_size=64, shuffle=False)\n",
    "    mean = torch.zeros(3)\n",
    "    std = torch.zeros(3)\n",
    "    for images, _ in loader:\n",
    "        images = images.view(images.size(0), images.size(1), -1)\n",
    "        mean += images.mean(2).sum(0)\n",
    "        std += images.std(2).sum(0)\n",
    "    mean /= len(dataset)\n",
    "    std /= len(dataset)\n",
    "    return mean, std"
   ]
  },
  {
   "cell_type": "code",
   "execution_count": 6,
   "id": "65fb5b8d",
   "metadata": {
    "execution": {
     "iopub.execute_input": "2025-01-19T06:12:40.675631Z",
     "iopub.status.busy": "2025-01-19T06:12:40.674935Z",
     "iopub.status.idle": "2025-01-19T06:12:40.680803Z",
     "shell.execute_reply": "2025-01-19T06:12:40.680000Z"
    },
    "papermill": {
     "duration": 0.010681,
     "end_time": "2025-01-19T06:12:40.682412",
     "exception": false,
     "start_time": "2025-01-19T06:12:40.671731",
     "status": "completed"
    },
    "tags": []
   },
   "outputs": [],
   "source": [
    "# Custom dataset class\n",
    "class CustomDataset(Dataset):\n",
    "    def __init__(self, folder_path, transform=None):\n",
    "        self.folder_path = folder_path\n",
    "        self.transform = transform\n",
    "        self.data = []\n",
    "        for class_label, class_name in enumerate(folders):\n",
    "            class_folder = os.path.join(folder_path, class_name)\n",
    "            if os.path.exists(class_folder):\n",
    "                for img_name in os.listdir(class_folder):\n",
    "                    img_path = os.path.join(class_folder, img_name)\n",
    "                    self.data.append((img_path, class_label))\n",
    "\n",
    "    def __len__(self):\n",
    "        return len(self.data)\n",
    "\n",
    "    def __getitem__(self, idx):\n",
    "        img_path, label = self.data[idx]\n",
    "        image = Image.open(img_path).convert(\"RGB\")\n",
    "        if self.transform:\n",
    "            image = self.transform(image)\n",
    "        return image, label\n"
   ]
  },
  {
   "cell_type": "code",
   "execution_count": 7,
   "id": "ee63af7c",
   "metadata": {
    "execution": {
     "iopub.execute_input": "2025-01-19T06:12:40.688537Z",
     "iopub.status.busy": "2025-01-19T06:12:40.688299Z",
     "iopub.status.idle": "2025-01-19T06:13:25.783262Z",
     "shell.execute_reply": "2025-01-19T06:13:25.782334Z"
    },
    "papermill": {
     "duration": 45.102897,
     "end_time": "2025-01-19T06:13:25.787925",
     "exception": false,
     "start_time": "2025-01-19T06:12:40.685028",
     "status": "completed"
    },
    "tags": []
   },
   "outputs": [
    {
     "name": "stdout",
     "output_type": "stream",
     "text": [
      "Dataset Mean: tensor([0.5828, 0.4277, 0.2689]), Std: tensor([0.3004, 0.2478, 0.1858])\n"
     ]
    }
   ],
   "source": [
    "# Create datasets for mean/std calculation\n",
    "combined_dataset = CustomDataset(train_folder, transform=transforms.ToTensor())\n",
    "mean, std = calculate_mean_std(combined_dataset)\n",
    "print(f\"Dataset Mean: {mean}, Std: {std}\")"
   ]
  },
  {
   "cell_type": "code",
   "execution_count": 8,
   "id": "d99b1fbb",
   "metadata": {
    "execution": {
     "iopub.execute_input": "2025-01-19T06:13:25.795140Z",
     "iopub.status.busy": "2025-01-19T06:13:25.794539Z",
     "iopub.status.idle": "2025-01-19T06:13:25.799398Z",
     "shell.execute_reply": "2025-01-19T06:13:25.798667Z"
    },
    "papermill": {
     "duration": 0.01002,
     "end_time": "2025-01-19T06:13:25.800893",
     "exception": false,
     "start_time": "2025-01-19T06:13:25.790873",
     "status": "completed"
    },
    "tags": []
   },
   "outputs": [],
   "source": [
    "# Update transforms with calculated mean and std\n",
    "transform = transforms.Compose([\n",
    "    transforms.Resize((image_size, image_size), interpolation=InterpolationMode.BILINEAR),\n",
    "    transforms.ToTensor(),\n",
    "    transforms.Normalize(mean=mean.tolist(), std=std.tolist())\n",
    "])\n"
   ]
  },
  {
   "cell_type": "code",
   "execution_count": 9,
   "id": "569fa8a2",
   "metadata": {
    "execution": {
     "iopub.execute_input": "2025-01-19T06:13:25.807963Z",
     "iopub.status.busy": "2025-01-19T06:13:25.807248Z",
     "iopub.status.idle": "2025-01-19T06:13:25.919811Z",
     "shell.execute_reply": "2025-01-19T06:13:25.918885Z"
    },
    "papermill": {
     "duration": 0.118423,
     "end_time": "2025-01-19T06:13:25.922149",
     "exception": false,
     "start_time": "2025-01-19T06:13:25.803726",
     "status": "completed"
    },
    "tags": []
   },
   "outputs": [],
   "source": [
    "# Create datasets for train, validation, and test\n",
    "train_dataset = CustomDataset(train_folder, transform=transform)\n",
    "val_dataset = CustomDataset(val_folder, transform=transform)\n",
    "test_dataset = CustomDataset(test_folder, transform=transform)\n"
   ]
  },
  {
   "cell_type": "code",
   "execution_count": 10,
   "id": "a0487c58",
   "metadata": {
    "execution": {
     "iopub.execute_input": "2025-01-19T06:13:25.931649Z",
     "iopub.status.busy": "2025-01-19T06:13:25.931333Z",
     "iopub.status.idle": "2025-01-19T06:13:25.935712Z",
     "shell.execute_reply": "2025-01-19T06:13:25.934881Z"
    },
    "papermill": {
     "duration": 0.010629,
     "end_time": "2025-01-19T06:13:25.937310",
     "exception": false,
     "start_time": "2025-01-19T06:13:25.926681",
     "status": "completed"
    },
    "tags": []
   },
   "outputs": [],
   "source": [
    "# Create data loaders\n",
    "train_loader = DataLoader(train_dataset, batch_size=64, shuffle=True)\n",
    "val_loader = DataLoader(val_dataset, batch_size=64, shuffle=False)\n",
    "test_loader = DataLoader(test_dataset, batch_size=64, shuffle=False)"
   ]
  },
  {
   "cell_type": "code",
   "execution_count": 11,
   "id": "c92cf4fd",
   "metadata": {
    "execution": {
     "iopub.execute_input": "2025-01-19T06:13:25.944661Z",
     "iopub.status.busy": "2025-01-19T06:13:25.943971Z",
     "iopub.status.idle": "2025-01-19T06:13:28.022587Z",
     "shell.execute_reply": "2025-01-19T06:13:28.021731Z"
    },
    "papermill": {
     "duration": 2.084576,
     "end_time": "2025-01-19T06:13:28.024850",
     "exception": false,
     "start_time": "2025-01-19T06:13:25.940274",
     "status": "completed"
    },
    "tags": []
   },
   "outputs": [
    {
     "name": "stderr",
     "output_type": "stream",
     "text": [
      "/opt/conda/lib/python3.10/site-packages/torchvision/models/_utils.py:208: UserWarning: The parameter 'pretrained' is deprecated since 0.13 and may be removed in the future, please use 'weights' instead.\n",
      "  warnings.warn(\n",
      "/opt/conda/lib/python3.10/site-packages/torchvision/models/_utils.py:223: UserWarning: Arguments other than a weight enum or `None` for 'weights' are deprecated since 0.13 and may be removed in the future. The current behavior is equivalent to passing `weights=ResNet101_Weights.IMAGENET1K_V1`. You can also use `weights=ResNet101_Weights.DEFAULT` to get the most up-to-date weights.\n",
      "  warnings.warn(msg)\n",
      "Downloading: \"https://download.pytorch.org/models/resnet101-63fe2227.pth\" to /root/.cache/torch/hub/checkpoints/resnet101-63fe2227.pth\n",
      "100%|██████████| 171M/171M [00:01<00:00, 178MB/s]\n"
     ]
    }
   ],
   "source": [
    "import torch.nn as nn\n",
    "from torchvision import models\n",
    "\n",
    "# Load pretrained ResNet101 model\n",
    "model = models.resnet101(pretrained=True)\n",
    "\n",
    "# Get the number of features in the last fully connected layer\n",
    "num_features = model.fc.in_features\n",
    "\n",
    "# Modify the fully connected layer\n",
    "model.fc = nn.Sequential(\n",
    "    nn.Dropout(0.5),  # Dropout with 50% probability\n",
    "    nn.Linear(num_features, len(folders))  # Replace len(folders) with the number of output classes\n",
    ")\n"
   ]
  },
  {
   "cell_type": "code",
   "execution_count": 12,
   "id": "7ec1a258",
   "metadata": {
    "execution": {
     "iopub.execute_input": "2025-01-19T06:13:28.034142Z",
     "iopub.status.busy": "2025-01-19T06:13:28.033810Z",
     "iopub.status.idle": "2025-01-19T06:13:28.377454Z",
     "shell.execute_reply": "2025-01-19T06:13:28.376484Z"
    },
    "papermill": {
     "duration": 0.350683,
     "end_time": "2025-01-19T06:13:28.379624",
     "exception": false,
     "start_time": "2025-01-19T06:13:28.028941",
     "status": "completed"
    },
    "tags": []
   },
   "outputs": [],
   "source": [
    "# Training setup\n",
    "device = torch.device(\"cuda\" if torch.cuda.is_available() else \"cpu\")\n",
    "model = model.to(device)\n",
    "\n",
    "criterion = nn.CrossEntropyLoss()\n",
    "optimizer = optim.Adam(model.parameters(), lr=0.001, weight_decay=1e-4)  # L2 regularization with weight_decay\n",
    "\n",
    "# Training loop\n",
    "num_epochs = 50\n",
    "best_val_accuracy = 0.0"
   ]
  },
  {
   "cell_type": "code",
   "execution_count": 13,
   "id": "1ef1ec0d",
   "metadata": {
    "execution": {
     "iopub.execute_input": "2025-01-19T06:13:28.388684Z",
     "iopub.status.busy": "2025-01-19T06:13:28.388363Z",
     "iopub.status.idle": "2025-01-19T07:48:51.987185Z",
     "shell.execute_reply": "2025-01-19T07:48:51.986272Z"
    },
    "papermill": {
     "duration": 5723.609191,
     "end_time": "2025-01-19T07:48:51.992935",
     "exception": false,
     "start_time": "2025-01-19T06:13:28.383744",
     "status": "completed"
    },
    "tags": []
   },
   "outputs": [
    {
     "name": "stdout",
     "output_type": "stream",
     "text": [
      "Epoch 1/50, Train Accuracy: 64.94%, Validation Accuracy: 61.16%\n",
      "Epoch 2/50, Train Accuracy: 73.65%, Validation Accuracy: 64.05%\n",
      "Epoch 3/50, Train Accuracy: 75.93%, Validation Accuracy: 60.74%\n",
      "Epoch 4/50, Train Accuracy: 78.50%, Validation Accuracy: 72.93%\n",
      "Epoch 5/50, Train Accuracy: 79.69%, Validation Accuracy: 64.88%\n",
      "Epoch 6/50, Train Accuracy: 82.58%, Validation Accuracy: 70.87%\n",
      "Epoch 7/50, Train Accuracy: 82.13%, Validation Accuracy: 72.31%\n",
      "Epoch 8/50, Train Accuracy: 85.27%, Validation Accuracy: 69.83%\n",
      "Epoch 9/50, Train Accuracy: 85.79%, Validation Accuracy: 70.04%\n",
      "Epoch 10/50, Train Accuracy: 87.31%, Validation Accuracy: 71.90%\n",
      "Epoch 11/50, Train Accuracy: 87.64%, Validation Accuracy: 64.88%\n",
      "Epoch 12/50, Train Accuracy: 89.14%, Validation Accuracy: 69.42%\n",
      "Epoch 13/50, Train Accuracy: 89.71%, Validation Accuracy: 70.25%\n",
      "Epoch 14/50, Train Accuracy: 90.16%, Validation Accuracy: 71.90%\n",
      "Epoch 15/50, Train Accuracy: 90.04%, Validation Accuracy: 61.57%\n",
      "Epoch 16/50, Train Accuracy: 89.01%, Validation Accuracy: 67.56%\n",
      "Epoch 17/50, Train Accuracy: 89.22%, Validation Accuracy: 70.66%\n",
      "Epoch 18/50, Train Accuracy: 86.28%, Validation Accuracy: 66.12%\n",
      "Epoch 19/50, Train Accuracy: 87.90%, Validation Accuracy: 67.36%\n",
      "Epoch 20/50, Train Accuracy: 89.61%, Validation Accuracy: 71.07%\n",
      "Epoch 21/50, Train Accuracy: 91.41%, Validation Accuracy: 69.63%\n",
      "Epoch 22/50, Train Accuracy: 91.37%, Validation Accuracy: 71.28%\n",
      "Epoch 23/50, Train Accuracy: 91.99%, Validation Accuracy: 69.42%\n",
      "Epoch 24/50, Train Accuracy: 91.70%, Validation Accuracy: 68.60%\n",
      "Epoch 25/50, Train Accuracy: 91.72%, Validation Accuracy: 69.63%\n",
      "Epoch 26/50, Train Accuracy: 91.41%, Validation Accuracy: 69.83%\n",
      "Epoch 27/50, Train Accuracy: 90.80%, Validation Accuracy: 67.36%\n",
      "Epoch 28/50, Train Accuracy: 91.50%, Validation Accuracy: 68.18%\n",
      "Epoch 29/50, Train Accuracy: 91.27%, Validation Accuracy: 68.80%\n",
      "Epoch 30/50, Train Accuracy: 91.54%, Validation Accuracy: 69.63%\n",
      "Epoch 31/50, Train Accuracy: 91.54%, Validation Accuracy: 67.98%\n",
      "Epoch 32/50, Train Accuracy: 90.49%, Validation Accuracy: 69.42%\n",
      "Epoch 33/50, Train Accuracy: 91.07%, Validation Accuracy: 62.60%\n",
      "Epoch 34/50, Train Accuracy: 91.93%, Validation Accuracy: 70.25%\n",
      "Epoch 35/50, Train Accuracy: 89.89%, Validation Accuracy: 68.80%\n",
      "Epoch 36/50, Train Accuracy: 91.02%, Validation Accuracy: 68.80%\n",
      "Epoch 37/50, Train Accuracy: 91.91%, Validation Accuracy: 69.21%\n",
      "Epoch 38/50, Train Accuracy: 92.15%, Validation Accuracy: 69.83%\n",
      "Epoch 39/50, Train Accuracy: 90.76%, Validation Accuracy: 68.39%\n",
      "Epoch 40/50, Train Accuracy: 90.51%, Validation Accuracy: 68.18%\n",
      "Epoch 41/50, Train Accuracy: 92.11%, Validation Accuracy: 68.60%\n",
      "Epoch 42/50, Train Accuracy: 90.94%, Validation Accuracy: 68.60%\n",
      "Epoch 43/50, Train Accuracy: 92.30%, Validation Accuracy: 67.36%\n",
      "Epoch 44/50, Train Accuracy: 92.57%, Validation Accuracy: 69.01%\n",
      "Epoch 45/50, Train Accuracy: 92.54%, Validation Accuracy: 68.80%\n",
      "Epoch 46/50, Train Accuracy: 92.26%, Validation Accuracy: 66.74%\n",
      "Epoch 47/50, Train Accuracy: 92.46%, Validation Accuracy: 68.80%\n",
      "Epoch 48/50, Train Accuracy: 92.85%, Validation Accuracy: 65.29%\n",
      "Epoch 49/50, Train Accuracy: 88.44%, Validation Accuracy: 68.18%\n",
      "Epoch 50/50, Train Accuracy: 90.00%, Validation Accuracy: 68.60%\n"
     ]
    }
   ],
   "source": [
    "for epoch in range(num_epochs):\n",
    "    # Training phase\n",
    "    model.train()\n",
    "    correct = 0\n",
    "    total = 0\n",
    "\n",
    "    for images, labels in train_loader:\n",
    "        images, labels = images.to(device), labels.to(device)\n",
    "        optimizer.zero_grad()\n",
    "        outputs = model(images)\n",
    "        loss = criterion(outputs, labels)\n",
    "        loss.backward()\n",
    "        optimizer.step()\n",
    "\n",
    "        _, predicted = torch.max(outputs, 1)\n",
    "        total += labels.size(0)\n",
    "        correct += (predicted == labels).sum().item()\n",
    "\n",
    "    train_accuracy = 100 * correct / total\n",
    "\n",
    "    # Validation phase\n",
    "    model.eval()\n",
    "    val_correct = 0\n",
    "    val_total = 0\n",
    "    with torch.no_grad():\n",
    "        for images, labels in val_loader:\n",
    "            images, labels = images.to(device), labels.to(device)\n",
    "            outputs = model(images)\n",
    "            _, predicted = torch.max(outputs, 1)\n",
    "            val_total += labels.size(0)\n",
    "            val_correct += (predicted == labels).sum().item()\n",
    "\n",
    "    val_accuracy = 100 * val_correct / val_total\n",
    "\n",
    "    # Print epoch results\n",
    "    print(f\"Epoch {epoch+1}/{num_epochs}, \"\n",
    "          f\"Train Accuracy: {train_accuracy:.2f}%, \"\n",
    "          f\"Validation Accuracy: {val_accuracy:.2f}%\")\n",
    "\n",
    "    # Save the best model\n",
    "    if val_accuracy > best_val_accuracy:\n",
    "        best_val_accuracy = val_accuracy\n",
    "        torch.save(model.state_dict(), \"best_resnet101_model.pth\")"
   ]
  },
  {
   "cell_type": "code",
   "execution_count": 14,
   "id": "ee6f20ff",
   "metadata": {
    "execution": {
     "iopub.execute_input": "2025-01-19T07:48:52.006067Z",
     "iopub.status.busy": "2025-01-19T07:48:52.005251Z",
     "iopub.status.idle": "2025-01-19T07:48:52.206650Z",
     "shell.execute_reply": "2025-01-19T07:48:52.205657Z"
    },
    "papermill": {
     "duration": 0.20965,
     "end_time": "2025-01-19T07:48:52.208282",
     "exception": false,
     "start_time": "2025-01-19T07:48:51.998632",
     "status": "completed"
    },
    "tags": []
   },
   "outputs": [
    {
     "name": "stderr",
     "output_type": "stream",
     "text": [
      "/tmp/ipykernel_23/2669075353.py:2: FutureWarning: You are using `torch.load` with `weights_only=False` (the current default value), which uses the default pickle module implicitly. It is possible to construct malicious pickle data which will execute arbitrary code during unpickling (See https://github.com/pytorch/pytorch/blob/main/SECURITY.md#untrusted-models for more details). In a future release, the default value for `weights_only` will be flipped to `True`. This limits the functions that could be executed during unpickling. Arbitrary objects will no longer be allowed to be loaded via this mode unless they are explicitly allowlisted by the user via `torch.serialization.add_safe_globals`. We recommend you start setting `weights_only=True` for any use case where you don't have full control of the loaded file. Please open an issue on GitHub for any issues related to this experimental feature.\n",
      "  model.load_state_dict(torch.load(\"best_resnet101_model.pth\"))\n"
     ]
    },
    {
     "data": {
      "text/plain": [
       "<All keys matched successfully>"
      ]
     },
     "execution_count": 14,
     "metadata": {},
     "output_type": "execute_result"
    }
   ],
   "source": [
    "# Load the best model for testing\n",
    "model.load_state_dict(torch.load(\"best_resnet101_model.pth\"))"
   ]
  },
  {
   "cell_type": "code",
   "execution_count": 15,
   "id": "1d811ade",
   "metadata": {
    "execution": {
     "iopub.execute_input": "2025-01-19T07:48:52.221434Z",
     "iopub.status.busy": "2025-01-19T07:48:52.221162Z",
     "iopub.status.idle": "2025-01-19T07:48:59.084953Z",
     "shell.execute_reply": "2025-01-19T07:48:59.083981Z"
    },
    "papermill": {
     "duration": 6.87319,
     "end_time": "2025-01-19T07:48:59.087564",
     "exception": false,
     "start_time": "2025-01-19T07:48:52.214374",
     "status": "completed"
    },
    "tags": []
   },
   "outputs": [],
   "source": [
    "# Testing phase\n",
    "model.eval()\n",
    "all_labels = []\n",
    "all_predictions = []\n",
    "\n",
    "with torch.no_grad():\n",
    "    for images, labels in test_loader:\n",
    "        images, labels = images.to(device), labels.to(device)\n",
    "        outputs = model(images)\n",
    "        _, predicted = torch.max(outputs, 1)\n",
    "        all_labels.extend(labels.cpu().numpy())\n",
    "        all_predictions.extend(predicted.cpu().numpy())"
   ]
  },
  {
   "cell_type": "code",
   "execution_count": 16,
   "id": "6be8a1ef",
   "metadata": {
    "execution": {
     "iopub.execute_input": "2025-01-19T07:48:59.111338Z",
     "iopub.status.busy": "2025-01-19T07:48:59.110529Z",
     "iopub.status.idle": "2025-01-19T07:48:59.133064Z",
     "shell.execute_reply": "2025-01-19T07:48:59.132029Z"
    },
    "papermill": {
     "duration": 0.034803,
     "end_time": "2025-01-19T07:48:59.134818",
     "exception": false,
     "start_time": "2025-01-19T07:48:59.100015",
     "status": "completed"
    },
    "tags": []
   },
   "outputs": [
    {
     "name": "stdout",
     "output_type": "stream",
     "text": [
      "Test Accuracy: 78.42%\n",
      "Test Precision: 0.7926\n",
      "Test Recall: 0.7842\n",
      "Test F1 Score: 0.7808\n"
     ]
    }
   ],
   "source": [
    "# Calculate metrics\n",
    "accuracy = accuracy_score(all_labels, all_predictions)\n",
    "precision = precision_score(all_labels, all_predictions, average='weighted')\n",
    "recall = recall_score(all_labels, all_predictions, average='weighted')\n",
    "f1 = f1_score(all_labels, all_predictions, average='weighted')\n",
    "\n",
    "print(f\"Test Accuracy: {accuracy * 100:.2f}%\")\n",
    "print(f\"Test Precision: {precision:.4f}\")\n",
    "print(f\"Test Recall: {recall:.4f}\")\n",
    "print(f\"Test F1 Score: {f1:.4f}\")"
   ]
  }
 ],
 "metadata": {
  "kaggle": {
   "accelerator": "nvidiaTeslaT4",
   "dataSources": [
    {
     "datasetId": 6250315,
     "sourceId": 10128159,
     "sourceType": "datasetVersion"
    },
    {
     "datasetId": 6503486,
     "sourceId": 10505875,
     "sourceType": "datasetVersion"
    }
   ],
   "isGpuEnabled": true,
   "isInternetEnabled": true,
   "language": "python",
   "sourceType": "notebook"
  },
  "kernelspec": {
   "display_name": "Python 3",
   "language": "python",
   "name": "python3"
  },
  "language_info": {
   "codemirror_mode": {
    "name": "ipython",
    "version": 3
   },
   "file_extension": ".py",
   "mimetype": "text/x-python",
   "name": "python",
   "nbconvert_exporter": "python",
   "pygments_lexer": "ipython3",
   "version": "3.10.14"
  },
  "papermill": {
   "default_parameters": {},
   "duration": 5788.790965,
   "end_time": "2025-01-19T07:49:01.521254",
   "environment_variables": {},
   "exception": null,
   "input_path": "__notebook__.ipynb",
   "output_path": "__notebook__.ipynb",
   "parameters": {},
   "start_time": "2025-01-19T06:12:32.730289",
   "version": "2.6.0"
  }
 },
 "nbformat": 4,
 "nbformat_minor": 5
}
