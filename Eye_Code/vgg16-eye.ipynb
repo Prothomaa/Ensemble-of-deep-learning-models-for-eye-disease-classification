{
 "cells": [
  {
   "cell_type": "code",
   "execution_count": 1,
   "id": "bfbdb952",
   "metadata": {
    "_cell_guid": "b1076dfc-b9ad-4769-8c92-a6c4dae69d19",
    "_uuid": "8f2839f25d086af736a60e9eeb907d3b93b6e0e5",
    "execution": {
     "iopub.execute_input": "2025-01-19T10:38:49.831326Z",
     "iopub.status.busy": "2025-01-19T10:38:49.830745Z",
     "iopub.status.idle": "2025-01-19T10:38:59.914058Z",
     "shell.execute_reply": "2025-01-19T10:38:59.913116Z"
    },
    "papermill": {
     "duration": 10.090552,
     "end_time": "2025-01-19T10:38:59.916743",
     "exception": false,
     "start_time": "2025-01-19T10:38:49.826191",
     "status": "completed"
    },
    "tags": []
   },
   "outputs": [],
   "source": [
    "import os\n",
    "import numpy as np\n",
    "from torchvision import datasets, models, transforms\n",
    "import torch\n",
    "from torch.utils.data import DataLoader, Dataset\n",
    "from torchvision.transforms import InterpolationMode\n",
    "from PIL import Image\n",
    "import torch.nn as nn\n",
    "import torch.optim as optim\n",
    "from sklearn.metrics import accuracy_score, precision_score, recall_score, f1_score\n",
    "import random"
   ]
  },
  {
   "cell_type": "code",
   "execution_count": 2,
   "id": "53da5719",
   "metadata": {
    "execution": {
     "iopub.execute_input": "2025-01-19T10:38:59.929561Z",
     "iopub.status.busy": "2025-01-19T10:38:59.928792Z",
     "iopub.status.idle": "2025-01-19T10:38:59.934328Z",
     "shell.execute_reply": "2025-01-19T10:38:59.933547Z"
    },
    "papermill": {
     "duration": 0.013945,
     "end_time": "2025-01-19T10:38:59.936814",
     "exception": false,
     "start_time": "2025-01-19T10:38:59.922869",
     "status": "completed"
    },
    "tags": []
   },
   "outputs": [],
   "source": [
    "# Set fixed seed for reproducibility\n",
    "def set_seed(seed=42):\n",
    "    random.seed(seed)\n",
    "    np.random.seed(seed)\n",
    "    torch.manual_seed(seed)\n",
    "    torch.cuda.manual_seed_all(seed)\n",
    "    torch.backends.cudnn.deterministic = True\n",
    "    torch.backends.cudnn.benchmark = False"
   ]
  },
  {
   "cell_type": "code",
   "execution_count": 3,
   "id": "19a0144d",
   "metadata": {
    "execution": {
     "iopub.execute_input": "2025-01-19T10:38:59.944011Z",
     "iopub.status.busy": "2025-01-19T10:38:59.943721Z",
     "iopub.status.idle": "2025-01-19T10:38:59.961181Z",
     "shell.execute_reply": "2025-01-19T10:38:59.960412Z"
    },
    "papermill": {
     "duration": 0.022795,
     "end_time": "2025-01-19T10:38:59.962820",
     "exception": false,
     "start_time": "2025-01-19T10:38:59.940025",
     "status": "completed"
    },
    "tags": []
   },
   "outputs": [],
   "source": [
    "set_seed(42)"
   ]
  },
  {
   "cell_type": "code",
   "execution_count": 4,
   "id": "f7909dcc",
   "metadata": {
    "execution": {
     "iopub.execute_input": "2025-01-19T10:38:59.969574Z",
     "iopub.status.busy": "2025-01-19T10:38:59.969291Z",
     "iopub.status.idle": "2025-01-19T10:38:59.973679Z",
     "shell.execute_reply": "2025-01-19T10:38:59.972851Z"
    },
    "papermill": {
     "duration": 0.009917,
     "end_time": "2025-01-19T10:38:59.975499",
     "exception": false,
     "start_time": "2025-01-19T10:38:59.965582",
     "status": "completed"
    },
    "tags": []
   },
   "outputs": [],
   "source": [
    "# Define dataset paths and parameters\n",
    "dataset_dir = \"/kaggle/input/aug-v100\"  # Replace with your dataset path\n",
    "train_folder = os.path.join(dataset_dir, \"output\")\n",
    "val_folder = os.path.join(dataset_dir, \"val\")\n",
    "test_folder = os.path.join(dataset_dir, \"test\")\n",
    "folders = [\"Diabetic Retinopathy\", \"Glaucoma\", \"Healthy\", \"Macular Scar\", \"Myopia\"]\n",
    "image_size = 224  # Input image size for ResNet50"
   ]
  },
  {
   "cell_type": "code",
   "execution_count": 5,
   "id": "4101d045",
   "metadata": {
    "execution": {
     "iopub.execute_input": "2025-01-19T10:38:59.983714Z",
     "iopub.status.busy": "2025-01-19T10:38:59.983407Z",
     "iopub.status.idle": "2025-01-19T10:38:59.989619Z",
     "shell.execute_reply": "2025-01-19T10:38:59.988905Z"
    },
    "papermill": {
     "duration": 0.011513,
     "end_time": "2025-01-19T10:38:59.991142",
     "exception": false,
     "start_time": "2025-01-19T10:38:59.979629",
     "status": "completed"
    },
    "tags": []
   },
   "outputs": [],
   "source": [
    "# Function to calculate dataset mean and std\n",
    "def calculate_mean_std(dataset):\n",
    "    loader = DataLoader(dataset, batch_size=64, shuffle=False)\n",
    "    mean = torch.zeros(3)\n",
    "    std = torch.zeros(3)\n",
    "    for images, _ in loader:\n",
    "        images = images.view(images.size(0), images.size(1), -1)\n",
    "        mean += images.mean(2).sum(0)\n",
    "        std += images.std(2).sum(0)\n",
    "    mean /= len(dataset)\n",
    "    std /= len(dataset)\n",
    "    return mean, std"
   ]
  },
  {
   "cell_type": "code",
   "execution_count": 6,
   "id": "b2d9be93",
   "metadata": {
    "execution": {
     "iopub.execute_input": "2025-01-19T10:38:59.997887Z",
     "iopub.status.busy": "2025-01-19T10:38:59.997585Z",
     "iopub.status.idle": "2025-01-19T10:39:00.005662Z",
     "shell.execute_reply": "2025-01-19T10:39:00.004968Z"
    },
    "papermill": {
     "duration": 0.013551,
     "end_time": "2025-01-19T10:39:00.007468",
     "exception": false,
     "start_time": "2025-01-19T10:38:59.993917",
     "status": "completed"
    },
    "tags": []
   },
   "outputs": [],
   "source": [
    "# Custom dataset class\n",
    "class CustomDataset(Dataset):\n",
    "    def __init__(self, folder_path, transform=None):\n",
    "        self.folder_path = folder_path\n",
    "        self.transform = transform\n",
    "        self.data = []\n",
    "        for class_label, class_name in enumerate(folders):\n",
    "            class_folder = os.path.join(folder_path, class_name)\n",
    "            if os.path.exists(class_folder):\n",
    "                for img_name in os.listdir(class_folder):\n",
    "                    img_path = os.path.join(class_folder, img_name)\n",
    "                    self.data.append((img_path, class_label))\n",
    "\n",
    "    def __len__(self):\n",
    "        return len(self.data)\n",
    "\n",
    "    def __getitem__(self, idx):\n",
    "        img_path, label = self.data[idx]\n",
    "        image = Image.open(img_path).convert(\"RGB\")\n",
    "        if self.transform:\n",
    "            image = self.transform(image)\n",
    "        return image, label"
   ]
  },
  {
   "cell_type": "code",
   "execution_count": 7,
   "id": "4cdcf0ff",
   "metadata": {
    "execution": {
     "iopub.execute_input": "2025-01-19T10:39:00.014407Z",
     "iopub.status.busy": "2025-01-19T10:39:00.014098Z",
     "iopub.status.idle": "2025-01-19T10:40:05.722039Z",
     "shell.execute_reply": "2025-01-19T10:40:05.721106Z"
    },
    "papermill": {
     "duration": 65.71637,
     "end_time": "2025-01-19T10:40:05.726843",
     "exception": false,
     "start_time": "2025-01-19T10:39:00.010473",
     "status": "completed"
    },
    "tags": []
   },
   "outputs": [
    {
     "name": "stdout",
     "output_type": "stream",
     "text": [
      "Dataset Mean: tensor([0.5828, 0.4277, 0.2689]), Std: tensor([0.3004, 0.2478, 0.1858])\n"
     ]
    }
   ],
   "source": [
    "# Create datasets for mean/std calculation\n",
    "combined_dataset = CustomDataset(train_folder, transform=transforms.ToTensor())\n",
    "mean, std = calculate_mean_std(combined_dataset)\n",
    "print(f\"Dataset Mean: {mean}, Std: {std}\")"
   ]
  },
  {
   "cell_type": "code",
   "execution_count": 8,
   "id": "6f453eec",
   "metadata": {
    "execution": {
     "iopub.execute_input": "2025-01-19T10:40:05.734476Z",
     "iopub.status.busy": "2025-01-19T10:40:05.733737Z",
     "iopub.status.idle": "2025-01-19T10:40:05.738464Z",
     "shell.execute_reply": "2025-01-19T10:40:05.737769Z"
    },
    "papermill": {
     "duration": 0.01011,
     "end_time": "2025-01-19T10:40:05.739897",
     "exception": false,
     "start_time": "2025-01-19T10:40:05.729787",
     "status": "completed"
    },
    "tags": []
   },
   "outputs": [],
   "source": [
    "# Update transforms with calculated mean and std\n",
    "transform = transforms.Compose([\n",
    "    transforms.Resize((image_size, image_size), interpolation=InterpolationMode.BILINEAR),\n",
    "    transforms.ToTensor(),\n",
    "    transforms.Normalize(mean=mean.tolist(), std=std.tolist())\n",
    "])"
   ]
  },
  {
   "cell_type": "code",
   "execution_count": 9,
   "id": "62eb0632",
   "metadata": {
    "execution": {
     "iopub.execute_input": "2025-01-19T10:40:05.746699Z",
     "iopub.status.busy": "2025-01-19T10:40:05.746456Z",
     "iopub.status.idle": "2025-01-19T10:40:05.893139Z",
     "shell.execute_reply": "2025-01-19T10:40:05.892488Z"
    },
    "papermill": {
     "duration": 0.151953,
     "end_time": "2025-01-19T10:40:05.894671",
     "exception": false,
     "start_time": "2025-01-19T10:40:05.742718",
     "status": "completed"
    },
    "tags": []
   },
   "outputs": [],
   "source": [
    "# Create datasets for train, validation, and test\n",
    "train_dataset = CustomDataset(train_folder, transform=transform)\n",
    "val_dataset = CustomDataset(val_folder, transform=transform)\n",
    "test_dataset = CustomDataset(test_folder, transform=transform)"
   ]
  },
  {
   "cell_type": "code",
   "execution_count": 10,
   "id": "e07c3951",
   "metadata": {
    "execution": {
     "iopub.execute_input": "2025-01-19T10:40:05.901655Z",
     "iopub.status.busy": "2025-01-19T10:40:05.901379Z",
     "iopub.status.idle": "2025-01-19T10:40:05.905744Z",
     "shell.execute_reply": "2025-01-19T10:40:05.904945Z"
    },
    "papermill": {
     "duration": 0.009868,
     "end_time": "2025-01-19T10:40:05.907505",
     "exception": false,
     "start_time": "2025-01-19T10:40:05.897637",
     "status": "completed"
    },
    "tags": []
   },
   "outputs": [],
   "source": [
    "# Create data loaders\n",
    "train_loader = DataLoader(train_dataset, batch_size=64, shuffle=True)\n",
    "val_loader = DataLoader(val_dataset, batch_size=64, shuffle=False)\n",
    "test_loader = DataLoader(test_dataset, batch_size=64, shuffle=False)\n"
   ]
  },
  {
   "cell_type": "code",
   "execution_count": 11,
   "id": "8c444f07",
   "metadata": {
    "execution": {
     "iopub.execute_input": "2025-01-19T10:40:05.914209Z",
     "iopub.status.busy": "2025-01-19T10:40:05.913941Z",
     "iopub.status.idle": "2025-01-19T10:40:10.540147Z",
     "shell.execute_reply": "2025-01-19T10:40:10.539245Z"
    },
    "papermill": {
     "duration": 4.631984,
     "end_time": "2025-01-19T10:40:10.542386",
     "exception": false,
     "start_time": "2025-01-19T10:40:05.910402",
     "status": "completed"
    },
    "tags": []
   },
   "outputs": [
    {
     "name": "stderr",
     "output_type": "stream",
     "text": [
      "/opt/conda/lib/python3.10/site-packages/torchvision/models/_utils.py:208: UserWarning: The parameter 'pretrained' is deprecated since 0.13 and may be removed in the future, please use 'weights' instead.\n",
      "  warnings.warn(\n",
      "/opt/conda/lib/python3.10/site-packages/torchvision/models/_utils.py:223: UserWarning: Arguments other than a weight enum or `None` for 'weights' are deprecated since 0.13 and may be removed in the future. The current behavior is equivalent to passing `weights=VGG16_Weights.IMAGENET1K_V1`. You can also use `weights=VGG16_Weights.DEFAULT` to get the most up-to-date weights.\n",
      "  warnings.warn(msg)\n",
      "Downloading: \"https://download.pytorch.org/models/vgg16-397923af.pth\" to /root/.cache/torch/hub/checkpoints/vgg16-397923af.pth\n",
      "100%|██████████| 528M/528M [00:02<00:00, 192MB/s]\n"
     ]
    }
   ],
   "source": [
    "# Load pretrained VGG16 model\n",
    "model = models.vgg16(pretrained=True)\n",
    "num_features = model.classifier[-1].in_features\n",
    "model.classifier[-1] = nn.Sequential(\n",
    "    nn.Dropout(0.5),  # Dropout with 50% probability\n",
    "    nn.Linear(num_features, len(folders))\n",
    ")\n",
    "\n"
   ]
  },
  {
   "cell_type": "code",
   "execution_count": 12,
   "id": "02fbafb7",
   "metadata": {
    "execution": {
     "iopub.execute_input": "2025-01-19T10:40:10.556735Z",
     "iopub.status.busy": "2025-01-19T10:40:10.556454Z",
     "iopub.status.idle": "2025-01-19T10:40:11.015922Z",
     "shell.execute_reply": "2025-01-19T10:40:11.015012Z"
    },
    "papermill": {
     "duration": 0.468829,
     "end_time": "2025-01-19T10:40:11.018040",
     "exception": false,
     "start_time": "2025-01-19T10:40:10.549211",
     "status": "completed"
    },
    "tags": []
   },
   "outputs": [],
   "source": [
    "# Training setup\n",
    "device = torch.device(\"cuda\" if torch.cuda.is_available() else \"cpu\")\n",
    "model = model.to(device)\n",
    "\n",
    "criterion = nn.CrossEntropyLoss()\n",
    "optimizer = optim.Adam(model.parameters(), lr=0.001, weight_decay=1e-4)  # L2 regularization with weight_decay\n",
    "\n",
    "# Training loop\n",
    "num_epochs = 50\n",
    "best_val_accuracy = 0.0"
   ]
  },
  {
   "cell_type": "code",
   "execution_count": 13,
   "id": "cc4e5bd1",
   "metadata": {
    "execution": {
     "iopub.execute_input": "2025-01-19T10:40:11.029539Z",
     "iopub.status.busy": "2025-01-19T10:40:11.029268Z",
     "iopub.status.idle": "2025-01-19T12:04:48.035835Z",
     "shell.execute_reply": "2025-01-19T12:04:48.034880Z"
    },
    "papermill": {
     "duration": 5077.020833,
     "end_time": "2025-01-19T12:04:48.044124",
     "exception": false,
     "start_time": "2025-01-19T10:40:11.023291",
     "status": "completed"
    },
    "tags": []
   },
   "outputs": [
    {
     "name": "stdout",
     "output_type": "stream",
     "text": [
      "Epoch 1/50, Train Accuracy: 25.73%, Validation Accuracy: 31.20%\n",
      "Epoch 2/50, Train Accuracy: 33.56%, Validation Accuracy: 48.14%\n",
      "Epoch 3/50, Train Accuracy: 43.01%, Validation Accuracy: 50.62%\n",
      "Epoch 4/50, Train Accuracy: 47.09%, Validation Accuracy: 48.76%\n",
      "Epoch 5/50, Train Accuracy: 50.83%, Validation Accuracy: 50.62%\n",
      "Epoch 6/50, Train Accuracy: 52.89%, Validation Accuracy: 48.97%\n",
      "Epoch 7/50, Train Accuracy: 55.49%, Validation Accuracy: 45.87%\n",
      "Epoch 8/50, Train Accuracy: 57.57%, Validation Accuracy: 54.34%\n",
      "Epoch 9/50, Train Accuracy: 60.61%, Validation Accuracy: 59.71%\n",
      "Epoch 10/50, Train Accuracy: 62.02%, Validation Accuracy: 55.99%\n",
      "Epoch 11/50, Train Accuracy: 64.41%, Validation Accuracy: 63.84%\n",
      "Epoch 12/50, Train Accuracy: 65.37%, Validation Accuracy: 62.19%\n",
      "Epoch 13/50, Train Accuracy: 67.36%, Validation Accuracy: 62.40%\n",
      "Epoch 14/50, Train Accuracy: 68.66%, Validation Accuracy: 64.46%\n",
      "Epoch 15/50, Train Accuracy: 70.01%, Validation Accuracy: 63.64%\n",
      "Epoch 16/50, Train Accuracy: 70.73%, Validation Accuracy: 61.16%\n",
      "Epoch 17/50, Train Accuracy: 72.54%, Validation Accuracy: 63.64%\n",
      "Epoch 18/50, Train Accuracy: 74.88%, Validation Accuracy: 61.98%\n",
      "Epoch 19/50, Train Accuracy: 76.46%, Validation Accuracy: 62.60%\n",
      "Epoch 20/50, Train Accuracy: 77.72%, Validation Accuracy: 66.74%\n",
      "Epoch 21/50, Train Accuracy: 78.43%, Validation Accuracy: 67.56%\n",
      "Epoch 22/50, Train Accuracy: 80.35%, Validation Accuracy: 65.29%\n",
      "Epoch 23/50, Train Accuracy: 80.24%, Validation Accuracy: 63.43%\n",
      "Epoch 24/50, Train Accuracy: 80.82%, Validation Accuracy: 66.74%\n",
      "Epoch 25/50, Train Accuracy: 83.45%, Validation Accuracy: 66.12%\n",
      "Epoch 26/50, Train Accuracy: 81.93%, Validation Accuracy: 64.67%\n",
      "Epoch 27/50, Train Accuracy: 84.47%, Validation Accuracy: 64.67%\n",
      "Epoch 28/50, Train Accuracy: 85.32%, Validation Accuracy: 64.26%\n",
      "Epoch 29/50, Train Accuracy: 85.91%, Validation Accuracy: 64.88%\n",
      "Epoch 30/50, Train Accuracy: 86.45%, Validation Accuracy: 66.32%\n",
      "Epoch 31/50, Train Accuracy: 88.44%, Validation Accuracy: 64.67%\n",
      "Epoch 32/50, Train Accuracy: 87.92%, Validation Accuracy: 65.29%\n",
      "Epoch 33/50, Train Accuracy: 87.88%, Validation Accuracy: 65.29%\n",
      "Epoch 34/50, Train Accuracy: 88.29%, Validation Accuracy: 66.94%\n",
      "Epoch 35/50, Train Accuracy: 88.27%, Validation Accuracy: 65.29%\n",
      "Epoch 36/50, Train Accuracy: 89.50%, Validation Accuracy: 65.08%\n",
      "Epoch 37/50, Train Accuracy: 88.85%, Validation Accuracy: 66.32%\n",
      "Epoch 38/50, Train Accuracy: 88.97%, Validation Accuracy: 65.70%\n",
      "Epoch 39/50, Train Accuracy: 90.04%, Validation Accuracy: 66.32%\n",
      "Epoch 40/50, Train Accuracy: 89.98%, Validation Accuracy: 67.98%\n",
      "Epoch 41/50, Train Accuracy: 89.98%, Validation Accuracy: 64.46%\n",
      "Epoch 42/50, Train Accuracy: 89.53%, Validation Accuracy: 66.12%\n",
      "Epoch 43/50, Train Accuracy: 90.06%, Validation Accuracy: 62.40%\n",
      "Epoch 44/50, Train Accuracy: 90.37%, Validation Accuracy: 67.56%\n",
      "Epoch 45/50, Train Accuracy: 90.29%, Validation Accuracy: 66.53%\n",
      "Epoch 46/50, Train Accuracy: 89.79%, Validation Accuracy: 62.60%\n",
      "Epoch 47/50, Train Accuracy: 90.82%, Validation Accuracy: 62.81%\n",
      "Epoch 48/50, Train Accuracy: 90.20%, Validation Accuracy: 64.05%\n",
      "Epoch 49/50, Train Accuracy: 89.55%, Validation Accuracy: 66.53%\n",
      "Epoch 50/50, Train Accuracy: 91.07%, Validation Accuracy: 62.60%\n"
     ]
    }
   ],
   "source": [
    "for epoch in range(num_epochs):\n",
    "    # Training phase\n",
    "    model.train()\n",
    "    correct = 0\n",
    "    total = 0\n",
    "\n",
    "    for images, labels in train_loader:\n",
    "        images, labels = images.to(device), labels.to(device)\n",
    "        optimizer.zero_grad()\n",
    "        outputs = model(images)\n",
    "        loss = criterion(outputs, labels)\n",
    "        loss.backward()\n",
    "        optimizer.step()\n",
    "\n",
    "        _, predicted = torch.max(outputs, 1)\n",
    "        total += labels.size(0)\n",
    "        correct += (predicted == labels).sum().item()\n",
    "\n",
    "    train_accuracy = 100 * correct / total\n",
    "\n",
    "    # Validation phase\n",
    "    model.eval()\n",
    "    val_correct = 0\n",
    "    val_total = 0\n",
    "    with torch.no_grad():\n",
    "        for images, labels in val_loader:\n",
    "            images, labels = images.to(device), labels.to(device)\n",
    "            outputs = model(images)\n",
    "            _, predicted = torch.max(outputs, 1)\n",
    "            val_total += labels.size(0)\n",
    "            val_correct += (predicted == labels).sum().item()\n",
    "\n",
    "    val_accuracy = 100 * val_correct / val_total\n",
    "\n",
    "    # Print epoch results\n",
    "    print(f\"Epoch {epoch+1}/{num_epochs}, \"\n",
    "          f\"Train Accuracy: {train_accuracy:.2f}%, \"\n",
    "          f\"Validation Accuracy: {val_accuracy:.2f}%\")\n",
    "\n",
    "    # Save the best model\n",
    "    if val_accuracy > best_val_accuracy:\n",
    "        best_val_accuracy = val_accuracy\n",
    "        torch.save(model.state_dict(), \"best_resnet50_model.pth\")"
   ]
  },
  {
   "cell_type": "code",
   "execution_count": 14,
   "id": "f70d0072",
   "metadata": {
    "execution": {
     "iopub.execute_input": "2025-01-19T12:04:48.058361Z",
     "iopub.status.busy": "2025-01-19T12:04:48.058094Z",
     "iopub.status.idle": "2025-01-19T12:04:48.555661Z",
     "shell.execute_reply": "2025-01-19T12:04:48.554831Z"
    },
    "papermill": {
     "duration": 0.506885,
     "end_time": "2025-01-19T12:04:48.557455",
     "exception": false,
     "start_time": "2025-01-19T12:04:48.050570",
     "status": "completed"
    },
    "tags": []
   },
   "outputs": [
    {
     "name": "stderr",
     "output_type": "stream",
     "text": [
      "/tmp/ipykernel_23/1877423666.py:2: FutureWarning: You are using `torch.load` with `weights_only=False` (the current default value), which uses the default pickle module implicitly. It is possible to construct malicious pickle data which will execute arbitrary code during unpickling (See https://github.com/pytorch/pytorch/blob/main/SECURITY.md#untrusted-models for more details). In a future release, the default value for `weights_only` will be flipped to `True`. This limits the functions that could be executed during unpickling. Arbitrary objects will no longer be allowed to be loaded via this mode unless they are explicitly allowlisted by the user via `torch.serialization.add_safe_globals`. We recommend you start setting `weights_only=True` for any use case where you don't have full control of the loaded file. Please open an issue on GitHub for any issues related to this experimental feature.\n",
      "  model.load_state_dict(torch.load(\"best_resnet50_model.pth\"))\n"
     ]
    },
    {
     "data": {
      "text/plain": [
       "<All keys matched successfully>"
      ]
     },
     "execution_count": 14,
     "metadata": {},
     "output_type": "execute_result"
    }
   ],
   "source": [
    "# Load the best model for testing\n",
    "model.load_state_dict(torch.load(\"best_resnet50_model.pth\"))"
   ]
  },
  {
   "cell_type": "code",
   "execution_count": 15,
   "id": "8250f912",
   "metadata": {
    "execution": {
     "iopub.execute_input": "2025-01-19T12:04:48.572430Z",
     "iopub.status.busy": "2025-01-19T12:04:48.571773Z",
     "iopub.status.idle": "2025-01-19T12:04:58.034060Z",
     "shell.execute_reply": "2025-01-19T12:04:58.033150Z"
    },
    "papermill": {
     "duration": 9.471778,
     "end_time": "2025-01-19T12:04:58.036094",
     "exception": false,
     "start_time": "2025-01-19T12:04:48.564316",
     "status": "completed"
    },
    "tags": []
   },
   "outputs": [],
   "source": [
    "# Testing phase\n",
    "model.eval()\n",
    "all_labels = []\n",
    "all_predictions = []\n",
    "\n",
    "with torch.no_grad():\n",
    "    for images, labels in test_loader:\n",
    "        images, labels = images.to(device), labels.to(device)\n",
    "        outputs = model(images)\n",
    "        _, predicted = torch.max(outputs, 1)\n",
    "        all_labels.extend(labels.cpu().numpy())\n",
    "        all_predictions.extend(predicted.cpu().numpy())"
   ]
  },
  {
   "cell_type": "code",
   "execution_count": 16,
   "id": "44fe0bad",
   "metadata": {
    "execution": {
     "iopub.execute_input": "2025-01-19T12:04:58.050920Z",
     "iopub.status.busy": "2025-01-19T12:04:58.050647Z",
     "iopub.status.idle": "2025-01-19T12:04:58.090269Z",
     "shell.execute_reply": "2025-01-19T12:04:58.089334Z"
    },
    "papermill": {
     "duration": 0.048771,
     "end_time": "2025-01-19T12:04:58.091975",
     "exception": false,
     "start_time": "2025-01-19T12:04:58.043204",
     "status": "completed"
    },
    "tags": []
   },
   "outputs": [
    {
     "name": "stdout",
     "output_type": "stream",
     "text": [
      "Test Accuracy: 65.98%\n",
      "Test Precision: 0.6570\n",
      "Test Recall: 0.6598\n",
      "Test F1 Score: 0.6576\n"
     ]
    }
   ],
   "source": [
    "# Calculate metrics\n",
    "accuracy = accuracy_score(all_labels, all_predictions)\n",
    "precision = precision_score(all_labels, all_predictions, average='weighted')\n",
    "recall = recall_score(all_labels, all_predictions, average='weighted')\n",
    "f1 = f1_score(all_labels, all_predictions, average='weighted')\n",
    "\n",
    "print(f\"Test Accuracy: {accuracy * 100:.2f}%\")\n",
    "print(f\"Test Precision: {precision:.4f}\")\n",
    "print(f\"Test Recall: {recall:.4f}\")\n",
    "print(f\"Test F1 Score: {f1:.4f}\")"
   ]
  }
 ],
 "metadata": {
  "kaggle": {
   "accelerator": "nvidiaTeslaT4",
   "dataSources": [
    {
     "datasetId": 6250315,
     "sourceId": 10128159,
     "sourceType": "datasetVersion"
    },
    {
     "datasetId": 6503486,
     "sourceId": 10505875,
     "sourceType": "datasetVersion"
    }
   ],
   "dockerImageVersionId": 30805,
   "isGpuEnabled": true,
   "isInternetEnabled": true,
   "language": "python",
   "sourceType": "notebook"
  },
  "kernelspec": {
   "display_name": "Python 3",
   "language": "python",
   "name": "python3"
  },
  "language_info": {
   "codemirror_mode": {
    "name": "ipython",
    "version": 3
   },
   "file_extension": ".py",
   "mimetype": "text/x-python",
   "name": "python",
   "nbconvert_exporter": "python",
   "pygments_lexer": "ipython3",
   "version": "3.10.14"
  },
  "papermill": {
   "default_parameters": {},
   "duration": 5174.074689,
   "end_time": "2025-01-19T12:05:00.221610",
   "environment_variables": {},
   "exception": null,
   "input_path": "__notebook__.ipynb",
   "output_path": "__notebook__.ipynb",
   "parameters": {},
   "start_time": "2025-01-19T10:38:46.146921",
   "version": "2.6.0"
  }
 },
 "nbformat": 4,
 "nbformat_minor": 5
}
