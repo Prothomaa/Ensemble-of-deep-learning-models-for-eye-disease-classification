{
 "cells": [
  {
   "cell_type": "code",
   "execution_count": 1,
   "id": "eb1b4948",
   "metadata": {
    "_cell_guid": "b1076dfc-b9ad-4769-8c92-a6c4dae69d19",
    "_uuid": "8f2839f25d086af736a60e9eeb907d3b93b6e0e5",
    "execution": {
     "iopub.execute_input": "2025-01-19T08:37:49.884828Z",
     "iopub.status.busy": "2025-01-19T08:37:49.884516Z",
     "iopub.status.idle": "2025-01-19T08:37:55.554369Z",
     "shell.execute_reply": "2025-01-19T08:37:55.553624Z"
    },
    "papermill": {
     "duration": 5.676,
     "end_time": "2025-01-19T08:37:55.556263",
     "exception": false,
     "start_time": "2025-01-19T08:37:49.880263",
     "status": "completed"
    },
    "tags": []
   },
   "outputs": [],
   "source": [
    "import os\n",
    "import numpy as np\n",
    "from torchvision import datasets, models, transforms\n",
    "import torch\n",
    "from torch.utils.data import DataLoader, Dataset\n",
    "from torchvision.transforms import InterpolationMode\n",
    "from PIL import Image\n",
    "import torch.nn as nn\n",
    "import torch.optim as optim\n",
    "from sklearn.metrics import accuracy_score, precision_score, recall_score, f1_score\n",
    "import random"
   ]
  },
  {
   "cell_type": "code",
   "execution_count": 2,
   "id": "03499961",
   "metadata": {
    "execution": {
     "iopub.execute_input": "2025-01-19T08:37:55.563211Z",
     "iopub.status.busy": "2025-01-19T08:37:55.562803Z",
     "iopub.status.idle": "2025-01-19T08:37:55.567179Z",
     "shell.execute_reply": "2025-01-19T08:37:55.566471Z"
    },
    "papermill": {
     "duration": 0.009426,
     "end_time": "2025-01-19T08:37:55.568739",
     "exception": false,
     "start_time": "2025-01-19T08:37:55.559313",
     "status": "completed"
    },
    "tags": []
   },
   "outputs": [],
   "source": [
    "# Set fixed seed for reproducibility\n",
    "def set_seed(seed=42):\n",
    "    random.seed(seed)\n",
    "    np.random.seed(seed)\n",
    "    torch.manual_seed(seed)\n",
    "    torch.cuda.manual_seed_all(seed)\n",
    "    torch.backends.cudnn.deterministic = True\n",
    "    torch.backends.cudnn.benchmark = False"
   ]
  },
  {
   "cell_type": "code",
   "execution_count": 3,
   "id": "e2b157b8",
   "metadata": {
    "execution": {
     "iopub.execute_input": "2025-01-19T08:37:55.574703Z",
     "iopub.status.busy": "2025-01-19T08:37:55.574407Z",
     "iopub.status.idle": "2025-01-19T08:37:55.583981Z",
     "shell.execute_reply": "2025-01-19T08:37:55.583417Z"
    },
    "papermill": {
     "duration": 0.014308,
     "end_time": "2025-01-19T08:37:55.585500",
     "exception": false,
     "start_time": "2025-01-19T08:37:55.571192",
     "status": "completed"
    },
    "tags": []
   },
   "outputs": [],
   "source": [
    "set_seed(42)"
   ]
  },
  {
   "cell_type": "code",
   "execution_count": 4,
   "id": "5684ec25",
   "metadata": {
    "execution": {
     "iopub.execute_input": "2025-01-19T08:37:55.591634Z",
     "iopub.status.busy": "2025-01-19T08:37:55.591179Z",
     "iopub.status.idle": "2025-01-19T08:37:55.595385Z",
     "shell.execute_reply": "2025-01-19T08:37:55.594609Z"
    },
    "papermill": {
     "duration": 0.008828,
     "end_time": "2025-01-19T08:37:55.596934",
     "exception": false,
     "start_time": "2025-01-19T08:37:55.588106",
     "status": "completed"
    },
    "tags": []
   },
   "outputs": [],
   "source": [
    "# Define dataset paths and parameters\n",
    "dataset_dir = \"/kaggle/input/aug-v100\"  # Replace with your dataset path\n",
    "train_folder = os.path.join(dataset_dir, \"output\")\n",
    "val_folder = os.path.join(dataset_dir, \"val\")\n",
    "test_folder = os.path.join(dataset_dir, \"test\")\n",
    "folders = [\"Diabetic Retinopathy\", \"Glaucoma\", \"Healthy\", \"Macular Scar\", \"Myopia\"]\n",
    "image_size = 224  # Input image size for ResNet50"
   ]
  },
  {
   "cell_type": "code",
   "execution_count": 5,
   "id": "01d5d0cf",
   "metadata": {
    "execution": {
     "iopub.execute_input": "2025-01-19T08:37:55.603235Z",
     "iopub.status.busy": "2025-01-19T08:37:55.602638Z",
     "iopub.status.idle": "2025-01-19T08:37:55.607358Z",
     "shell.execute_reply": "2025-01-19T08:37:55.606597Z"
    },
    "papermill": {
     "duration": 0.009502,
     "end_time": "2025-01-19T08:37:55.608994",
     "exception": false,
     "start_time": "2025-01-19T08:37:55.599492",
     "status": "completed"
    },
    "tags": []
   },
   "outputs": [],
   "source": [
    "# Function to calculate dataset mean and std\n",
    "def calculate_mean_std(dataset):\n",
    "    loader = DataLoader(dataset, batch_size=64, shuffle=False)\n",
    "    mean = torch.zeros(3)\n",
    "    std = torch.zeros(3)\n",
    "    for images, _ in loader:\n",
    "        images = images.view(images.size(0), images.size(1), -1)\n",
    "        mean += images.mean(2).sum(0)\n",
    "        std += images.std(2).sum(0)\n",
    "    mean /= len(dataset)\n",
    "    std /= len(dataset)\n",
    "    return mean, std"
   ]
  },
  {
   "cell_type": "code",
   "execution_count": 6,
   "id": "6b5185e0",
   "metadata": {
    "execution": {
     "iopub.execute_input": "2025-01-19T08:37:55.615898Z",
     "iopub.status.busy": "2025-01-19T08:37:55.615657Z",
     "iopub.status.idle": "2025-01-19T08:37:55.621220Z",
     "shell.execute_reply": "2025-01-19T08:37:55.620486Z"
    },
    "papermill": {
     "duration": 0.010233,
     "end_time": "2025-01-19T08:37:55.622748",
     "exception": false,
     "start_time": "2025-01-19T08:37:55.612515",
     "status": "completed"
    },
    "tags": []
   },
   "outputs": [],
   "source": [
    "# Custom dataset class\n",
    "class CustomDataset(Dataset):\n",
    "    def __init__(self, folder_path, transform=None):\n",
    "        self.folder_path = folder_path\n",
    "        self.transform = transform\n",
    "        self.data = []\n",
    "        for class_label, class_name in enumerate(folders):\n",
    "            class_folder = os.path.join(folder_path, class_name)\n",
    "            if os.path.exists(class_folder):\n",
    "                for img_name in os.listdir(class_folder):\n",
    "                    img_path = os.path.join(class_folder, img_name)\n",
    "                    self.data.append((img_path, class_label))\n",
    "\n",
    "    def __len__(self):\n",
    "        return len(self.data)\n",
    "\n",
    "    def __getitem__(self, idx):\n",
    "        img_path, label = self.data[idx]\n",
    "        image = Image.open(img_path).convert(\"RGB\")\n",
    "        if self.transform:\n",
    "            image = self.transform(image)\n",
    "        return image, label\n"
   ]
  },
  {
   "cell_type": "code",
   "execution_count": 7,
   "id": "1dc69e39",
   "metadata": {
    "execution": {
     "iopub.execute_input": "2025-01-19T08:37:55.628962Z",
     "iopub.status.busy": "2025-01-19T08:37:55.628728Z",
     "iopub.status.idle": "2025-01-19T08:38:35.717852Z",
     "shell.execute_reply": "2025-01-19T08:38:35.716935Z"
    },
    "papermill": {
     "duration": 40.097713,
     "end_time": "2025-01-19T08:38:35.723137",
     "exception": false,
     "start_time": "2025-01-19T08:37:55.625424",
     "status": "completed"
    },
    "tags": []
   },
   "outputs": [
    {
     "name": "stdout",
     "output_type": "stream",
     "text": [
      "Dataset Mean: tensor([0.5828, 0.4277, 0.2689]), Std: tensor([0.3004, 0.2478, 0.1858])\n"
     ]
    }
   ],
   "source": [
    "# Create datasets for mean/std calculation\n",
    "combined_dataset = CustomDataset(train_folder, transform=transforms.ToTensor())\n",
    "mean, std = calculate_mean_std(combined_dataset)\n",
    "print(f\"Dataset Mean: {mean}, Std: {std}\")"
   ]
  },
  {
   "cell_type": "code",
   "execution_count": 8,
   "id": "a3b92c1d",
   "metadata": {
    "execution": {
     "iopub.execute_input": "2025-01-19T08:38:35.731824Z",
     "iopub.status.busy": "2025-01-19T08:38:35.731544Z",
     "iopub.status.idle": "2025-01-19T08:38:35.735906Z",
     "shell.execute_reply": "2025-01-19T08:38:35.735121Z"
    },
    "papermill": {
     "duration": 0.010613,
     "end_time": "2025-01-19T08:38:35.737628",
     "exception": false,
     "start_time": "2025-01-19T08:38:35.727015",
     "status": "completed"
    },
    "tags": []
   },
   "outputs": [],
   "source": [
    "# Update transforms with calculated mean and std\n",
    "transform = transforms.Compose([\n",
    "    transforms.Resize((image_size, image_size), interpolation=InterpolationMode.BILINEAR),\n",
    "    transforms.ToTensor(),\n",
    "    transforms.Normalize(mean=mean.tolist(), std=std.tolist())\n",
    "])"
   ]
  },
  {
   "cell_type": "code",
   "execution_count": 9,
   "id": "24222c2a",
   "metadata": {
    "execution": {
     "iopub.execute_input": "2025-01-19T08:38:35.746560Z",
     "iopub.status.busy": "2025-01-19T08:38:35.745857Z",
     "iopub.status.idle": "2025-01-19T08:38:35.822937Z",
     "shell.execute_reply": "2025-01-19T08:38:35.822122Z"
    },
    "papermill": {
     "duration": 0.083256,
     "end_time": "2025-01-19T08:38:35.824683",
     "exception": false,
     "start_time": "2025-01-19T08:38:35.741427",
     "status": "completed"
    },
    "tags": []
   },
   "outputs": [],
   "source": [
    "# Create datasets for train, validation, and test\n",
    "train_dataset = CustomDataset(train_folder, transform=transform)\n",
    "val_dataset = CustomDataset(val_folder, transform=transform)\n",
    "test_dataset = CustomDataset(test_folder, transform=transform)\n"
   ]
  },
  {
   "cell_type": "code",
   "execution_count": 10,
   "id": "04f4b266",
   "metadata": {
    "execution": {
     "iopub.execute_input": "2025-01-19T08:38:35.831642Z",
     "iopub.status.busy": "2025-01-19T08:38:35.831345Z",
     "iopub.status.idle": "2025-01-19T08:38:35.835924Z",
     "shell.execute_reply": "2025-01-19T08:38:35.835184Z"
    },
    "papermill": {
     "duration": 0.010216,
     "end_time": "2025-01-19T08:38:35.837907",
     "exception": false,
     "start_time": "2025-01-19T08:38:35.827691",
     "status": "completed"
    },
    "tags": []
   },
   "outputs": [],
   "source": [
    "\n",
    "# Create data loaders\n",
    "train_loader = DataLoader(train_dataset, batch_size=64, shuffle=True)\n",
    "val_loader = DataLoader(val_dataset, batch_size=64, shuffle=False)\n",
    "test_loader = DataLoader(test_dataset, batch_size=64, shuffle=False)"
   ]
  },
  {
   "cell_type": "code",
   "execution_count": 11,
   "id": "a3836a38",
   "metadata": {
    "execution": {
     "iopub.execute_input": "2025-01-19T08:38:35.845784Z",
     "iopub.status.busy": "2025-01-19T08:38:35.845544Z",
     "iopub.status.idle": "2025-01-19T08:38:40.258884Z",
     "shell.execute_reply": "2025-01-19T08:38:40.258110Z"
    },
    "papermill": {
     "duration": 4.419102,
     "end_time": "2025-01-19T08:38:40.260893",
     "exception": false,
     "start_time": "2025-01-19T08:38:35.841791",
     "status": "completed"
    },
    "tags": []
   },
   "outputs": [
    {
     "name": "stderr",
     "output_type": "stream",
     "text": [
      "/opt/conda/lib/python3.10/site-packages/torchvision/models/_utils.py:208: UserWarning: The parameter 'pretrained' is deprecated since 0.13 and may be removed in the future, please use 'weights' instead.\n",
      "  warnings.warn(\n",
      "/opt/conda/lib/python3.10/site-packages/torchvision/models/_utils.py:223: UserWarning: Arguments other than a weight enum or `None` for 'weights' are deprecated since 0.13 and may be removed in the future. The current behavior is equivalent to passing `weights=VGG19_Weights.IMAGENET1K_V1`. You can also use `weights=VGG19_Weights.DEFAULT` to get the most up-to-date weights.\n",
      "  warnings.warn(msg)\n",
      "Downloading: \"https://download.pytorch.org/models/vgg19-dcbb9e9d.pth\" to /root/.cache/torch/hub/checkpoints/vgg19-dcbb9e9d.pth\n",
      "100%|██████████| 548M/548M [00:02<00:00, 229MB/s]\n"
     ]
    }
   ],
   "source": [
    "import torch.nn as nn\n",
    "from torchvision import models\n",
    "\n",
    "# Load pretrained VGG19 model\n",
    "model = models.vgg19(pretrained=True)\n",
    "\n",
    "# Get the number of features in the last layer of the classifier\n",
    "num_features = model.classifier[-1].in_features\n",
    "\n",
    "# Modify the classifier\n",
    "model.classifier[-1] = nn.Sequential(\n",
    "    nn.Dropout(0.5),  # Dropout with 50% probability\n",
    "    nn.Linear(num_features, len(folders))  # Replace len(folders) with the number of output classes\n",
    ")\n"
   ]
  },
  {
   "cell_type": "code",
   "execution_count": 12,
   "id": "5b8faca8",
   "metadata": {
    "execution": {
     "iopub.execute_input": "2025-01-19T08:38:40.270826Z",
     "iopub.status.busy": "2025-01-19T08:38:40.270578Z",
     "iopub.status.idle": "2025-01-19T08:38:40.722020Z",
     "shell.execute_reply": "2025-01-19T08:38:40.721250Z"
    },
    "papermill": {
     "duration": 0.45842,
     "end_time": "2025-01-19T08:38:40.723982",
     "exception": false,
     "start_time": "2025-01-19T08:38:40.265562",
     "status": "completed"
    },
    "tags": []
   },
   "outputs": [],
   "source": [
    "# Training setup\n",
    "device = torch.device(\"cuda\" if torch.cuda.is_available() else \"cpu\")\n",
    "model = model.to(device)\n",
    "\n",
    "criterion = nn.CrossEntropyLoss()\n",
    "optimizer = optim.Adam(model.parameters(), lr=0.001, weight_decay=1e-4)  # L2 regularization with weight_decay\n",
    "\n",
    "# Training loop\n",
    "num_epochs = 50\n",
    "best_val_accuracy = 0.0\n"
   ]
  },
  {
   "cell_type": "code",
   "execution_count": 13,
   "id": "84a2800b",
   "metadata": {
    "execution": {
     "iopub.execute_input": "2025-01-19T08:38:40.736186Z",
     "iopub.status.busy": "2025-01-19T08:38:40.735404Z",
     "iopub.status.idle": "2025-01-19T10:05:30.736200Z",
     "shell.execute_reply": "2025-01-19T10:05:30.735119Z"
    },
    "papermill": {
     "duration": 5210.014557,
     "end_time": "2025-01-19T10:05:30.743963",
     "exception": false,
     "start_time": "2025-01-19T08:38:40.729406",
     "status": "completed"
    },
    "tags": []
   },
   "outputs": [
    {
     "name": "stdout",
     "output_type": "stream",
     "text": [
      "Epoch 1/50, Train Accuracy: 24.26%, Validation Accuracy: 31.20%\n",
      "Epoch 2/50, Train Accuracy: 23.11%, Validation Accuracy: 23.97%\n",
      "Epoch 3/50, Train Accuracy: 35.12%, Validation Accuracy: 40.70%\n",
      "Epoch 4/50, Train Accuracy: 37.36%, Validation Accuracy: 32.23%\n",
      "Epoch 5/50, Train Accuracy: 37.13%, Validation Accuracy: 45.87%\n",
      "Epoch 6/50, Train Accuracy: 41.57%, Validation Accuracy: 51.03%\n",
      "Epoch 7/50, Train Accuracy: 44.73%, Validation Accuracy: 50.41%\n",
      "Epoch 8/50, Train Accuracy: 51.16%, Validation Accuracy: 33.06%\n",
      "Epoch 9/50, Train Accuracy: 25.12%, Validation Accuracy: 21.28%\n",
      "Epoch 10/50, Train Accuracy: 23.27%, Validation Accuracy: 21.28%\n",
      "Epoch 11/50, Train Accuracy: 24.50%, Validation Accuracy: 21.28%\n",
      "Epoch 12/50, Train Accuracy: 23.70%, Validation Accuracy: 27.89%\n",
      "Epoch 13/50, Train Accuracy: 23.56%, Validation Accuracy: 21.28%\n",
      "Epoch 14/50, Train Accuracy: 23.29%, Validation Accuracy: 21.28%\n",
      "Epoch 15/50, Train Accuracy: 23.45%, Validation Accuracy: 21.28%\n",
      "Epoch 16/50, Train Accuracy: 23.09%, Validation Accuracy: 21.28%\n",
      "Epoch 17/50, Train Accuracy: 21.95%, Validation Accuracy: 21.28%\n",
      "Epoch 18/50, Train Accuracy: 23.48%, Validation Accuracy: 21.28%\n",
      "Epoch 19/50, Train Accuracy: 23.19%, Validation Accuracy: 27.89%\n",
      "Epoch 20/50, Train Accuracy: 22.76%, Validation Accuracy: 31.20%\n",
      "Epoch 21/50, Train Accuracy: 23.97%, Validation Accuracy: 21.28%\n",
      "Epoch 22/50, Train Accuracy: 23.00%, Validation Accuracy: 21.28%\n",
      "Epoch 23/50, Train Accuracy: 23.85%, Validation Accuracy: 31.20%\n",
      "Epoch 24/50, Train Accuracy: 23.47%, Validation Accuracy: 27.89%\n",
      "Epoch 25/50, Train Accuracy: 23.48%, Validation Accuracy: 21.28%\n",
      "Epoch 26/50, Train Accuracy: 22.53%, Validation Accuracy: 21.28%\n",
      "Epoch 27/50, Train Accuracy: 24.81%, Validation Accuracy: 21.28%\n",
      "Epoch 28/50, Train Accuracy: 22.37%, Validation Accuracy: 27.89%\n",
      "Epoch 29/50, Train Accuracy: 23.41%, Validation Accuracy: 21.28%\n",
      "Epoch 30/50, Train Accuracy: 22.69%, Validation Accuracy: 27.89%\n",
      "Epoch 31/50, Train Accuracy: 23.56%, Validation Accuracy: 27.89%\n",
      "Epoch 32/50, Train Accuracy: 22.71%, Validation Accuracy: 31.20%\n",
      "Epoch 33/50, Train Accuracy: 22.78%, Validation Accuracy: 21.28%\n",
      "Epoch 34/50, Train Accuracy: 23.23%, Validation Accuracy: 27.89%\n",
      "Epoch 35/50, Train Accuracy: 22.88%, Validation Accuracy: 31.20%\n",
      "Epoch 36/50, Train Accuracy: 24.44%, Validation Accuracy: 21.28%\n",
      "Epoch 37/50, Train Accuracy: 22.78%, Validation Accuracy: 31.20%\n",
      "Epoch 38/50, Train Accuracy: 23.52%, Validation Accuracy: 31.20%\n",
      "Epoch 39/50, Train Accuracy: 23.91%, Validation Accuracy: 21.28%\n",
      "Epoch 40/50, Train Accuracy: 23.41%, Validation Accuracy: 27.89%\n",
      "Epoch 41/50, Train Accuracy: 24.09%, Validation Accuracy: 27.89%\n",
      "Epoch 42/50, Train Accuracy: 23.27%, Validation Accuracy: 27.89%\n",
      "Epoch 43/50, Train Accuracy: 22.32%, Validation Accuracy: 21.28%\n",
      "Epoch 44/50, Train Accuracy: 23.19%, Validation Accuracy: 31.20%\n",
      "Epoch 45/50, Train Accuracy: 24.05%, Validation Accuracy: 31.20%\n",
      "Epoch 46/50, Train Accuracy: 22.88%, Validation Accuracy: 27.89%\n",
      "Epoch 47/50, Train Accuracy: 22.94%, Validation Accuracy: 27.89%\n",
      "Epoch 48/50, Train Accuracy: 23.52%, Validation Accuracy: 21.28%\n",
      "Epoch 49/50, Train Accuracy: 21.79%, Validation Accuracy: 27.89%\n",
      "Epoch 50/50, Train Accuracy: 23.70%, Validation Accuracy: 21.28%\n"
     ]
    }
   ],
   "source": [
    "for epoch in range(num_epochs):\n",
    "    # Training phase\n",
    "    model.train()\n",
    "    correct = 0\n",
    "    total = 0\n",
    "\n",
    "    for images, labels in train_loader:\n",
    "        images, labels = images.to(device), labels.to(device)\n",
    "        optimizer.zero_grad()\n",
    "        outputs = model(images)\n",
    "        loss = criterion(outputs, labels)\n",
    "        loss.backward()\n",
    "        optimizer.step()\n",
    "\n",
    "        _, predicted = torch.max(outputs, 1)\n",
    "        total += labels.size(0)\n",
    "        correct += (predicted == labels).sum().item()\n",
    "\n",
    "    train_accuracy = 100 * correct / total\n",
    "\n",
    "    # Validation phase\n",
    "    model.eval()\n",
    "    val_correct = 0\n",
    "    val_total = 0\n",
    "    with torch.no_grad():\n",
    "        for images, labels in val_loader:\n",
    "            images, labels = images.to(device), labels.to(device)\n",
    "            outputs = model(images)\n",
    "            _, predicted = torch.max(outputs, 1)\n",
    "            val_total += labels.size(0)\n",
    "            val_correct += (predicted == labels).sum().item()\n",
    "\n",
    "    val_accuracy = 100 * val_correct / val_total\n",
    "\n",
    "    # Print epoch results\n",
    "    print(f\"Epoch {epoch+1}/{num_epochs}, \"\n",
    "          f\"Train Accuracy: {train_accuracy:.2f}%, \"\n",
    "          f\"Validation Accuracy: {val_accuracy:.2f}%\")\n",
    "\n",
    "    # Save the best model\n",
    "    if val_accuracy > best_val_accuracy:\n",
    "        best_val_accuracy = val_accuracy\n",
    "        torch.save(model.state_dict(), \"best_vgg19_model.pth\")"
   ]
  },
  {
   "cell_type": "code",
   "execution_count": 14,
   "id": "15ff47a7",
   "metadata": {
    "execution": {
     "iopub.execute_input": "2025-01-19T10:05:30.757793Z",
     "iopub.status.busy": "2025-01-19T10:05:30.757159Z",
     "iopub.status.idle": "2025-01-19T10:05:31.263976Z",
     "shell.execute_reply": "2025-01-19T10:05:31.263116Z"
    },
    "papermill": {
     "duration": 0.515489,
     "end_time": "2025-01-19T10:05:31.265700",
     "exception": false,
     "start_time": "2025-01-19T10:05:30.750211",
     "status": "completed"
    },
    "tags": []
   },
   "outputs": [
    {
     "name": "stderr",
     "output_type": "stream",
     "text": [
      "/tmp/ipykernel_23/1924749949.py:2: FutureWarning: You are using `torch.load` with `weights_only=False` (the current default value), which uses the default pickle module implicitly. It is possible to construct malicious pickle data which will execute arbitrary code during unpickling (See https://github.com/pytorch/pytorch/blob/main/SECURITY.md#untrusted-models for more details). In a future release, the default value for `weights_only` will be flipped to `True`. This limits the functions that could be executed during unpickling. Arbitrary objects will no longer be allowed to be loaded via this mode unless they are explicitly allowlisted by the user via `torch.serialization.add_safe_globals`. We recommend you start setting `weights_only=True` for any use case where you don't have full control of the loaded file. Please open an issue on GitHub for any issues related to this experimental feature.\n",
      "  model.load_state_dict(torch.load(\"best_vgg19_model.pth\"))\n"
     ]
    },
    {
     "data": {
      "text/plain": [
       "<All keys matched successfully>"
      ]
     },
     "execution_count": 14,
     "metadata": {},
     "output_type": "execute_result"
    }
   ],
   "source": [
    "# Load the best model for testing\n",
    "model.load_state_dict(torch.load(\"best_vgg19_model.pth\"))"
   ]
  },
  {
   "cell_type": "code",
   "execution_count": 15,
   "id": "7738f20a",
   "metadata": {
    "execution": {
     "iopub.execute_input": "2025-01-19T10:05:31.280139Z",
     "iopub.status.busy": "2025-01-19T10:05:31.279582Z",
     "iopub.status.idle": "2025-01-19T10:05:37.865342Z",
     "shell.execute_reply": "2025-01-19T10:05:37.864643Z"
    },
    "papermill": {
     "duration": 6.594908,
     "end_time": "2025-01-19T10:05:37.867273",
     "exception": false,
     "start_time": "2025-01-19T10:05:31.272365",
     "status": "completed"
    },
    "tags": []
   },
   "outputs": [],
   "source": [
    "# Testing phase\n",
    "model.eval()\n",
    "all_labels = []\n",
    "all_predictions = []\n",
    "\n",
    "with torch.no_grad():\n",
    "    for images, labels in test_loader:\n",
    "        images, labels = images.to(device), labels.to(device)\n",
    "        outputs = model(images)\n",
    "        _, predicted = torch.max(outputs, 1)\n",
    "        all_labels.extend(labels.cpu().numpy())\n",
    "        all_predictions.extend(predicted.cpu().numpy())"
   ]
  },
  {
   "cell_type": "code",
   "execution_count": 16,
   "id": "674c19e8",
   "metadata": {
    "execution": {
     "iopub.execute_input": "2025-01-19T10:05:37.881588Z",
     "iopub.status.busy": "2025-01-19T10:05:37.881320Z",
     "iopub.status.idle": "2025-01-19T10:05:37.899333Z",
     "shell.execute_reply": "2025-01-19T10:05:37.898330Z"
    },
    "papermill": {
     "duration": 0.027092,
     "end_time": "2025-01-19T10:05:37.900986",
     "exception": false,
     "start_time": "2025-01-19T10:05:37.873894",
     "status": "completed"
    },
    "tags": []
   },
   "outputs": [
    {
     "name": "stdout",
     "output_type": "stream",
     "text": [
      "Test Accuracy: 51.45%\n",
      "Test Precision: 0.4196\n",
      "Test Recall: 0.5145\n",
      "Test F1 Score: 0.4429\n"
     ]
    },
    {
     "name": "stderr",
     "output_type": "stream",
     "text": [
      "/opt/conda/lib/python3.10/site-packages/sklearn/metrics/_classification.py:1344: UndefinedMetricWarning: Precision is ill-defined and being set to 0.0 in labels with no predicted samples. Use `zero_division` parameter to control this behavior.\n",
      "  _warn_prf(average, modifier, msg_start, len(result))\n"
     ]
    }
   ],
   "source": [
    "# Calculate metrics\n",
    "accuracy = accuracy_score(all_labels, all_predictions)\n",
    "precision = precision_score(all_labels, all_predictions, average='weighted')\n",
    "recall = recall_score(all_labels, all_predictions, average='weighted')\n",
    "f1 = f1_score(all_labels, all_predictions, average='weighted')\n",
    "\n",
    "print(f\"Test Accuracy: {accuracy * 100:.2f}%\")\n",
    "print(f\"Test Precision: {precision:.4f}\")\n",
    "print(f\"Test Recall: {recall:.4f}\")\n",
    "print(f\"Test F1 Score: {f1:.4f}\")"
   ]
  }
 ],
 "metadata": {
  "kaggle": {
   "accelerator": "nvidiaTeslaT4",
   "dataSources": [
    {
     "datasetId": 6250315,
     "sourceId": 10128159,
     "sourceType": "datasetVersion"
    },
    {
     "datasetId": 6503486,
     "sourceId": 10505875,
     "sourceType": "datasetVersion"
    }
   ],
   "dockerImageVersionId": 30805,
   "isGpuEnabled": true,
   "isInternetEnabled": true,
   "language": "python",
   "sourceType": "notebook"
  },
  "kernelspec": {
   "display_name": "Python 3",
   "language": "python",
   "name": "python3"
  },
  "language_info": {
   "codemirror_mode": {
    "name": "ipython",
    "version": 3
   },
   "file_extension": ".py",
   "mimetype": "text/x-python",
   "name": "python",
   "nbconvert_exporter": "python",
   "pygments_lexer": "ipython3",
   "version": "3.10.14"
  },
  "papermill": {
   "default_parameters": {},
   "duration": 5271.864995,
   "end_time": "2025-01-19T10:05:39.328531",
   "environment_variables": {},
   "exception": null,
   "input_path": "__notebook__.ipynb",
   "output_path": "__notebook__.ipynb",
   "parameters": {},
   "start_time": "2025-01-19T08:37:47.463536",
   "version": "2.6.0"
  }
 },
 "nbformat": 4,
 "nbformat_minor": 5
}
