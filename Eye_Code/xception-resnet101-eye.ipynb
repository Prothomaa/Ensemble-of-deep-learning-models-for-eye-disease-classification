{
 "cells": [
  {
   "cell_type": "code",
   "execution_count": 1,
   "id": "c171a65f",
   "metadata": {
    "_cell_guid": "b1076dfc-b9ad-4769-8c92-a6c4dae69d19",
    "_uuid": "8f2839f25d086af736a60e9eeb907d3b93b6e0e5",
    "execution": {
     "iopub.execute_input": "2025-01-19T06:11:32.746932Z",
     "iopub.status.busy": "2025-01-19T06:11:32.746600Z",
     "iopub.status.idle": "2025-01-19T06:11:44.958707Z",
     "shell.execute_reply": "2025-01-19T06:11:44.958022Z"
    },
    "papermill": {
     "duration": 12.219497,
     "end_time": "2025-01-19T06:11:44.960632",
     "exception": false,
     "start_time": "2025-01-19T06:11:32.741135",
     "status": "completed"
    },
    "tags": []
   },
   "outputs": [],
   "source": [
    "import tensorflow as tf\n",
    "from tensorflow.keras.applications import Xception, ResNet101\n",
    "from tensorflow.keras.layers import Input, Dense, GlobalAveragePooling2D, concatenate\n",
    "from tensorflow.keras.models import Model\n",
    "import matplotlib.pyplot as plt\n",
    "import os\n"
   ]
  },
  {
   "cell_type": "code",
   "execution_count": 2,
   "id": "293dced3",
   "metadata": {
    "execution": {
     "iopub.execute_input": "2025-01-19T06:11:44.969324Z",
     "iopub.status.busy": "2025-01-19T06:11:44.968599Z",
     "iopub.status.idle": "2025-01-19T06:11:44.972639Z",
     "shell.execute_reply": "2025-01-19T06:11:44.971986Z"
    },
    "papermill": {
     "duration": 0.009813,
     "end_time": "2025-01-19T06:11:44.974319",
     "exception": false,
     "start_time": "2025-01-19T06:11:44.964506",
     "status": "completed"
    },
    "tags": []
   },
   "outputs": [],
   "source": [
    "# Set seed for reproducibility\n",
    "def set_seed(seed=42):\n",
    "    tf.random.set_seed(seed)\n",
    "    os.environ['PYTHONHASHSEED'] = str(seed)\n"
   ]
  },
  {
   "cell_type": "code",
   "execution_count": 3,
   "id": "ece8401f",
   "metadata": {
    "execution": {
     "iopub.execute_input": "2025-01-19T06:11:44.983039Z",
     "iopub.status.busy": "2025-01-19T06:11:44.982796Z",
     "iopub.status.idle": "2025-01-19T06:11:44.986181Z",
     "shell.execute_reply": "2025-01-19T06:11:44.985473Z"
    },
    "papermill": {
     "duration": 0.008966,
     "end_time": "2025-01-19T06:11:44.987772",
     "exception": false,
     "start_time": "2025-01-19T06:11:44.978806",
     "status": "completed"
    },
    "tags": []
   },
   "outputs": [],
   "source": [
    "set_seed(42)"
   ]
  },
  {
   "cell_type": "code",
   "execution_count": 4,
   "id": "59f86002",
   "metadata": {
    "execution": {
     "iopub.execute_input": "2025-01-19T06:11:44.995400Z",
     "iopub.status.busy": "2025-01-19T06:11:44.995164Z",
     "iopub.status.idle": "2025-01-19T06:11:44.998506Z",
     "shell.execute_reply": "2025-01-19T06:11:44.997898Z"
    },
    "papermill": {
     "duration": 0.008833,
     "end_time": "2025-01-19T06:11:44.999957",
     "exception": false,
     "start_time": "2025-01-19T06:11:44.991124",
     "status": "completed"
    },
    "tags": []
   },
   "outputs": [],
   "source": [
    "# Specify the classes to include\n",
    "selected_classes = {\"Diabetic Retinopathy\", \"Glaucoma\", \"Healthy\", \"Macular Scar\", \"Myopia\"}"
   ]
  },
  {
   "cell_type": "code",
   "execution_count": 5,
   "id": "f8a17fda",
   "metadata": {
    "execution": {
     "iopub.execute_input": "2025-01-19T06:11:45.008185Z",
     "iopub.status.busy": "2025-01-19T06:11:45.007582Z",
     "iopub.status.idle": "2025-01-19T06:11:45.011091Z",
     "shell.execute_reply": "2025-01-19T06:11:45.010478Z"
    },
    "papermill": {
     "duration": 0.009502,
     "end_time": "2025-01-19T06:11:45.012808",
     "exception": false,
     "start_time": "2025-01-19T06:11:45.003306",
     "status": "completed"
    },
    "tags": []
   },
   "outputs": [],
   "source": [
    "# Define paths for train, validation, and test datasets\n",
    "train_dataset_path = \"/kaggle/input/aug-v100/output\"\n",
    "val_dataset_path = \"/kaggle/input/aug-v100/val\"\n",
    "test_dataset_path = \"/kaggle/input/aug-v100/test\""
   ]
  },
  {
   "cell_type": "code",
   "execution_count": 6,
   "id": "f696cc16",
   "metadata": {
    "execution": {
     "iopub.execute_input": "2025-01-19T06:11:45.021241Z",
     "iopub.status.busy": "2025-01-19T06:11:45.021007Z",
     "iopub.status.idle": "2025-01-19T06:11:45.025392Z",
     "shell.execute_reply": "2025-01-19T06:11:45.024711Z"
    },
    "papermill": {
     "duration": 0.010175,
     "end_time": "2025-01-19T06:11:45.026917",
     "exception": false,
     "start_time": "2025-01-19T06:11:45.016742",
     "status": "completed"
    },
    "tags": []
   },
   "outputs": [],
   "source": [
    "# Helper function to filter available classes\n",
    "def filter_classes(data_dir, selected_classes):\n",
    "    if not os.path.exists(data_dir):\n",
    "        raise FileNotFoundError(f\"Directory not found: {data_dir}\")\n",
    "    available_classes = set(os.listdir(data_dir))\n",
    "    filtered_classes = available_classes.intersection(selected_classes)\n",
    "    return [cls for cls in filtered_classes if os.path.isdir(os.path.join(data_dir, cls))]\n"
   ]
  },
  {
   "cell_type": "code",
   "execution_count": 7,
   "id": "a5377e60",
   "metadata": {
    "execution": {
     "iopub.execute_input": "2025-01-19T06:11:45.034720Z",
     "iopub.status.busy": "2025-01-19T06:11:45.034453Z",
     "iopub.status.idle": "2025-01-19T06:11:45.048776Z",
     "shell.execute_reply": "2025-01-19T06:11:45.048198Z"
    },
    "papermill": {
     "duration": 0.020035,
     "end_time": "2025-01-19T06:11:45.050414",
     "exception": false,
     "start_time": "2025-01-19T06:11:45.030379",
     "status": "completed"
    },
    "tags": []
   },
   "outputs": [],
   "source": [
    "# Filter classes for train, validation, and test datasets\n",
    "filtered_train_classes = filter_classes(train_dataset_path, selected_classes)\n",
    "filtered_val_classes = filter_classes(val_dataset_path, selected_classes)\n",
    "filtered_test_classes = filter_classes(test_dataset_path, selected_classes)\n"
   ]
  },
  {
   "cell_type": "code",
   "execution_count": 8,
   "id": "3ba6d2eb",
   "metadata": {
    "execution": {
     "iopub.execute_input": "2025-01-19T06:11:45.058490Z",
     "iopub.status.busy": "2025-01-19T06:11:45.058246Z",
     "iopub.status.idle": "2025-01-19T06:11:45.062054Z",
     "shell.execute_reply": "2025-01-19T06:11:45.061280Z"
    },
    "papermill": {
     "duration": 0.009724,
     "end_time": "2025-01-19T06:11:45.063635",
     "exception": false,
     "start_time": "2025-01-19T06:11:45.053911",
     "status": "completed"
    },
    "tags": []
   },
   "outputs": [],
   "source": [
    "# Check if any classes are available\n",
    "if not filtered_train_classes or not filtered_val_classes or not filtered_test_classes:\n",
    "    raise ValueError(\"No matching classes found in the dataset directories!\")\n",
    "\n",
    "# Set the number of classes\n",
    "num_classes = len(filtered_train_classes)\n"
   ]
  },
  {
   "cell_type": "code",
   "execution_count": 9,
   "id": "3adf28ac",
   "metadata": {
    "execution": {
     "iopub.execute_input": "2025-01-19T06:11:45.071855Z",
     "iopub.status.busy": "2025-01-19T06:11:45.071592Z",
     "iopub.status.idle": "2025-01-19T06:11:45.075452Z",
     "shell.execute_reply": "2025-01-19T06:11:45.074715Z"
    },
    "papermill": {
     "duration": 0.009606,
     "end_time": "2025-01-19T06:11:45.076994",
     "exception": false,
     "start_time": "2025-01-19T06:11:45.067388",
     "status": "completed"
    },
    "tags": []
   },
   "outputs": [],
   "source": [
    "# Load datasets using image_dataset_from_directory\n",
    "def load_dataset(path, classes):\n",
    "    return tf.keras.utils.image_dataset_from_directory(\n",
    "        path,\n",
    "        labels='inferred',\n",
    "        label_mode='int',\n",
    "        class_names=classes,\n",
    "        batch_size=64,\n",
    "        image_size=(224, 224)\n",
    "    )"
   ]
  },
  {
   "cell_type": "code",
   "execution_count": 10,
   "id": "eddc175c",
   "metadata": {
    "execution": {
     "iopub.execute_input": "2025-01-19T06:11:45.084771Z",
     "iopub.status.busy": "2025-01-19T06:11:45.084508Z",
     "iopub.status.idle": "2025-01-19T06:11:49.386689Z",
     "shell.execute_reply": "2025-01-19T06:11:49.385902Z"
    },
    "papermill": {
     "duration": 4.308044,
     "end_time": "2025-01-19T06:11:49.388517",
     "exception": false,
     "start_time": "2025-01-19T06:11:45.080473",
     "status": "completed"
    },
    "tags": []
   },
   "outputs": [
    {
     "name": "stdout",
     "output_type": "stream",
     "text": [
      "Found 5131 files belonging to 5 classes.\n",
      "Found 484 files belonging to 5 classes.\n",
      "Found 482 files belonging to 5 classes.\n"
     ]
    }
   ],
   "source": [
    "train_dataset = load_dataset(train_dataset_path, filtered_train_classes)\n",
    "val_dataset = load_dataset(val_dataset_path, filtered_val_classes)\n",
    "test_dataset = load_dataset(test_dataset_path, filtered_test_classes)\n"
   ]
  },
  {
   "cell_type": "code",
   "execution_count": 11,
   "id": "a189f308",
   "metadata": {
    "execution": {
     "iopub.execute_input": "2025-01-19T06:11:49.397143Z",
     "iopub.status.busy": "2025-01-19T06:11:49.396907Z",
     "iopub.status.idle": "2025-01-19T06:11:49.458255Z",
     "shell.execute_reply": "2025-01-19T06:11:49.457619Z"
    },
    "papermill": {
     "duration": 0.067374,
     "end_time": "2025-01-19T06:11:49.459826",
     "exception": false,
     "start_time": "2025-01-19T06:11:49.392452",
     "status": "completed"
    },
    "tags": []
   },
   "outputs": [],
   "source": [
    "# Normalize the datasets\n",
    "normalization_layer = tf.keras.layers.Rescaling(1./255)\n",
    "train_dataset = train_dataset.map(lambda x, y: (normalization_layer(x), y))\n",
    "val_dataset = val_dataset.map(lambda x, y: (normalization_layer(x), y))\n",
    "test_dataset = test_dataset.map(lambda x, y: (normalization_layer(x), y))\n"
   ]
  },
  {
   "cell_type": "code",
   "execution_count": 12,
   "id": "f7fab0ce",
   "metadata": {
    "execution": {
     "iopub.execute_input": "2025-01-19T06:11:49.468538Z",
     "iopub.status.busy": "2025-01-19T06:11:49.468002Z",
     "iopub.status.idle": "2025-01-19T06:11:49.471780Z",
     "shell.execute_reply": "2025-01-19T06:11:49.470996Z"
    },
    "papermill": {
     "duration": 0.009805,
     "end_time": "2025-01-19T06:11:49.473373",
     "exception": false,
     "start_time": "2025-01-19T06:11:49.463568",
     "status": "completed"
    },
    "tags": []
   },
   "outputs": [],
   "source": [
    "# Prepare datasets for two inputs\n",
    "def prepare_inputs(image, label):\n",
    "    return {\"xception_input\": image, \"resnet_input\": image}, label\n"
   ]
  },
  {
   "cell_type": "code",
   "execution_count": 13,
   "id": "58a16fb3",
   "metadata": {
    "execution": {
     "iopub.execute_input": "2025-01-19T06:11:49.481811Z",
     "iopub.status.busy": "2025-01-19T06:11:49.481557Z",
     "iopub.status.idle": "2025-01-19T06:11:49.525285Z",
     "shell.execute_reply": "2025-01-19T06:11:49.524489Z"
    },
    "papermill": {
     "duration": 0.049597,
     "end_time": "2025-01-19T06:11:49.526768",
     "exception": false,
     "start_time": "2025-01-19T06:11:49.477171",
     "status": "completed"
    },
    "tags": []
   },
   "outputs": [],
   "source": [
    "train_dataset = train_dataset.map(prepare_inputs).shuffle(1000).prefetch(tf.data.AUTOTUNE)\n",
    "val_dataset = val_dataset.map(prepare_inputs).prefetch(tf.data.AUTOTUNE)\n",
    "test_dataset = test_dataset.map(prepare_inputs).prefetch(tf.data.AUTOTUNE)"
   ]
  },
  {
   "cell_type": "code",
   "execution_count": 14,
   "id": "b45fdfb9",
   "metadata": {
    "execution": {
     "iopub.execute_input": "2025-01-19T06:11:49.535489Z",
     "iopub.status.busy": "2025-01-19T06:11:49.535240Z",
     "iopub.status.idle": "2025-01-19T06:11:54.565375Z",
     "shell.execute_reply": "2025-01-19T06:11:54.564690Z"
    },
    "papermill": {
     "duration": 5.036521,
     "end_time": "2025-01-19T06:11:54.567248",
     "exception": false,
     "start_time": "2025-01-19T06:11:49.530727",
     "status": "completed"
    },
    "tags": []
   },
   "outputs": [
    {
     "name": "stdout",
     "output_type": "stream",
     "text": [
      "Downloading data from https://storage.googleapis.com/tensorflow/keras-applications/xception/xception_weights_tf_dim_ordering_tf_kernels_notop.h5\n",
      "\u001b[1m83683744/83683744\u001b[0m \u001b[32m━━━━━━━━━━━━━━━━━━━━\u001b[0m\u001b[37m\u001b[0m \u001b[1m0s\u001b[0m 0us/step\n",
      "Downloading data from https://storage.googleapis.com/tensorflow/keras-applications/resnet/resnet101_weights_tf_dim_ordering_tf_kernels_notop.h5\n",
      "\u001b[1m171446536/171446536\u001b[0m \u001b[32m━━━━━━━━━━━━━━━━━━━━\u001b[0m\u001b[37m\u001b[0m \u001b[1m1s\u001b[0m 0us/step\n"
     ]
    }
   ],
   "source": [
    "# Define Xception and ResNet101 branches\n",
    "xception_input = Input(shape=(224, 224, 3), name=\"xception_input\")\n",
    "resnet_input = Input(shape=(224, 224, 3), name=\"resnet_input\")\n",
    "\n",
    "xception_base = Xception(weights=\"imagenet\", include_top=False, input_tensor=xception_input)\n",
    "xception_output = GlobalAveragePooling2D()(xception_base.output)\n",
    "\n",
    "resnet_base = ResNet101(weights=\"imagenet\", include_top=False, input_tensor=resnet_input)\n",
    "resnet_output = GlobalAveragePooling2D()(resnet_base.output)"
   ]
  },
  {
   "cell_type": "code",
   "execution_count": 15,
   "id": "dfe532c4",
   "metadata": {
    "execution": {
     "iopub.execute_input": "2025-01-19T06:11:54.579493Z",
     "iopub.status.busy": "2025-01-19T06:11:54.578786Z",
     "iopub.status.idle": "2025-01-19T06:11:54.632358Z",
     "shell.execute_reply": "2025-01-19T06:11:54.631713Z"
    },
    "papermill": {
     "duration": 0.061662,
     "end_time": "2025-01-19T06:11:54.634455",
     "exception": false,
     "start_time": "2025-01-19T06:11:54.572793",
     "status": "completed"
    },
    "tags": []
   },
   "outputs": [],
   "source": [
    "# Concatenate outputs\n",
    "combined_output = concatenate([xception_output, resnet_output])\n",
    "\n",
    "# Add fully connected layer and output\n",
    "final_output = Dense(num_classes, activation=\"softmax\")(combined_output)\n",
    "\n",
    "# Define model\n",
    "model = Model(inputs=[xception_input, resnet_input], outputs=final_output)"
   ]
  },
  {
   "cell_type": "code",
   "execution_count": 16,
   "id": "8a322ac0",
   "metadata": {
    "execution": {
     "iopub.execute_input": "2025-01-19T06:11:54.645887Z",
     "iopub.status.busy": "2025-01-19T06:11:54.645639Z",
     "iopub.status.idle": "2025-01-19T06:11:54.649030Z",
     "shell.execute_reply": "2025-01-19T06:11:54.648251Z"
    },
    "papermill": {
     "duration": 0.010901,
     "end_time": "2025-01-19T06:11:54.650792",
     "exception": false,
     "start_time": "2025-01-19T06:11:54.639891",
     "status": "completed"
    },
    "tags": []
   },
   "outputs": [],
   "source": [
    "# Set pretrained layers to non-trainable\n",
    "#for layer in xception_base.layers:\n",
    "    #layer.trainable = False\n",
    "#for layer in resnet_base.layers:\n",
    "    #layer.trainable = False"
   ]
  },
  {
   "cell_type": "code",
   "execution_count": 17,
   "id": "7b21e764",
   "metadata": {
    "execution": {
     "iopub.execute_input": "2025-01-19T06:11:54.661924Z",
     "iopub.status.busy": "2025-01-19T06:11:54.661648Z",
     "iopub.status.idle": "2025-01-19T06:11:54.673431Z",
     "shell.execute_reply": "2025-01-19T06:11:54.672842Z"
    },
    "papermill": {
     "duration": 0.019252,
     "end_time": "2025-01-19T06:11:54.675091",
     "exception": false,
     "start_time": "2025-01-19T06:11:54.655839",
     "status": "completed"
    },
    "tags": []
   },
   "outputs": [],
   "source": [
    "# Compile the model\n",
    "model.compile(\n",
    "    optimizer=tf.keras.optimizers.Adam(learning_rate=0.001),\n",
    "    loss=\"sparse_categorical_crossentropy\",\n",
    "    metrics=[\"accuracy\"]\n",
    ")"
   ]
  },
  {
   "cell_type": "code",
   "execution_count": 18,
   "id": "cf60d3d3",
   "metadata": {
    "execution": {
     "iopub.execute_input": "2025-01-19T06:11:54.686694Z",
     "iopub.status.busy": "2025-01-19T06:11:54.686426Z",
     "iopub.status.idle": "2025-01-19T08:40:17.135197Z",
     "shell.execute_reply": "2025-01-19T08:40:17.134249Z"
    },
    "papermill": {
     "duration": 8902.457032,
     "end_time": "2025-01-19T08:40:17.137365",
     "exception": false,
     "start_time": "2025-01-19T06:11:54.680333",
     "status": "completed"
    },
    "tags": []
   },
   "outputs": [
    {
     "name": "stdout",
     "output_type": "stream",
     "text": [
      "Epoch 1/50\n"
     ]
    },
    {
     "name": "stderr",
     "output_type": "stream",
     "text": [
      "WARNING: All log messages before absl::InitializeLog() is called are written to STDERR\n",
      "I0000 00:00:1737267196.063991      75 service.cc:145] XLA service 0x7d8320002680 initialized for platform CUDA (this does not guarantee that XLA will be used). Devices:\n",
      "I0000 00:00:1737267196.064052      75 service.cc:153]   StreamExecutor device (0): Tesla T4, Compute Capability 7.5\n",
      "I0000 00:00:1737267196.064064      75 service.cc:153]   StreamExecutor device (1): Tesla T4, Compute Capability 7.5\n",
      "WARNING: All log messages before absl::InitializeLog() is called are written to STDERR\n",
      "I0000 00:00:1737267307.379831      75 asm_compiler.cc:369] ptxas warning : Registers are spilled to local memory in function 'loop_add_subtract_fusion_132', 16 bytes spill stores, 16 bytes spill loads\n",
      "\n",
      "I0000 00:00:1737267307.495765      75 device_compiler.h:188] Compiled cluster using XLA!  This line is logged at most once for the lifetime of the process.\n"
     ]
    },
    {
     "name": "stdout",
     "output_type": "stream",
     "text": [
      "\u001b[1m81/81\u001b[0m \u001b[32m━━━━━━━━━━━━━━━━━━━━\u001b[0m\u001b[37m\u001b[0m \u001b[1m458s\u001b[0m 3s/step - accuracy: 0.5512 - loss: 1.2351 - val_accuracy: 0.1033 - val_loss: 8534008.0000\n",
      "Epoch 2/50\n",
      "\u001b[1m81/81\u001b[0m \u001b[32m━━━━━━━━━━━━━━━━━━━━\u001b[0m\u001b[37m\u001b[0m \u001b[1m179s\u001b[0m 2s/step - accuracy: 0.7424 - loss: 0.6879 - val_accuracy: 0.2789 - val_loss: 877.5186\n",
      "Epoch 3/50\n",
      "\u001b[1m81/81\u001b[0m \u001b[32m━━━━━━━━━━━━━━━━━━━━\u001b[0m\u001b[37m\u001b[0m \u001b[1m174s\u001b[0m 2s/step - accuracy: 0.8048 - loss: 0.5263 - val_accuracy: 0.2789 - val_loss: 12.5648\n",
      "Epoch 4/50\n",
      "\u001b[1m81/81\u001b[0m \u001b[32m━━━━━━━━━━━━━━━━━━━━\u001b[0m\u001b[37m\u001b[0m \u001b[1m173s\u001b[0m 2s/step - accuracy: 0.8294 - loss: 0.4681 - val_accuracy: 0.2273 - val_loss: 2.0324\n",
      "Epoch 5/50\n",
      "\u001b[1m81/81\u001b[0m \u001b[32m━━━━━━━━━━━━━━━━━━━━\u001b[0m\u001b[37m\u001b[0m \u001b[1m172s\u001b[0m 2s/step - accuracy: 0.8376 - loss: 0.4381 - val_accuracy: 0.2789 - val_loss: 37.6378\n",
      "Epoch 6/50\n",
      "\u001b[1m81/81\u001b[0m \u001b[32m━━━━━━━━━━━━━━━━━━━━\u001b[0m\u001b[37m\u001b[0m \u001b[1m172s\u001b[0m 2s/step - accuracy: 0.8735 - loss: 0.3323 - val_accuracy: 0.2128 - val_loss: 3.3739\n",
      "Epoch 7/50\n",
      "\u001b[1m81/81\u001b[0m \u001b[32m━━━━━━━━━━━━━━━━━━━━\u001b[0m\u001b[37m\u001b[0m \u001b[1m172s\u001b[0m 2s/step - accuracy: 0.8794 - loss: 0.3236 - val_accuracy: 0.2789 - val_loss: 2.7610\n",
      "Epoch 8/50\n",
      "\u001b[1m81/81\u001b[0m \u001b[32m━━━━━━━━━━━━━━━━━━━━\u001b[0m\u001b[37m\u001b[0m \u001b[1m173s\u001b[0m 2s/step - accuracy: 0.9039 - loss: 0.2613 - val_accuracy: 0.2583 - val_loss: 2.7864\n",
      "Epoch 9/50\n",
      "\u001b[1m81/81\u001b[0m \u001b[32m━━━━━━━━━━━━━━━━━━━━\u001b[0m\u001b[37m\u001b[0m \u001b[1m177s\u001b[0m 2s/step - accuracy: 0.8984 - loss: 0.2751 - val_accuracy: 0.2975 - val_loss: 1.9601\n",
      "Epoch 10/50\n",
      "\u001b[1m81/81\u001b[0m \u001b[32m━━━━━━━━━━━━━━━━━━━━\u001b[0m\u001b[37m\u001b[0m \u001b[1m177s\u001b[0m 2s/step - accuracy: 0.9110 - loss: 0.2366 - val_accuracy: 0.4318 - val_loss: 2.4465\n",
      "Epoch 11/50\n",
      "\u001b[1m81/81\u001b[0m \u001b[32m━━━━━━━━━━━━━━━━━━━━\u001b[0m\u001b[37m\u001b[0m \u001b[1m177s\u001b[0m 2s/step - accuracy: 0.9140 - loss: 0.2292 - val_accuracy: 0.5248 - val_loss: 2.0210\n",
      "Epoch 12/50\n",
      "\u001b[1m81/81\u001b[0m \u001b[32m━━━━━━━━━━━━━━━━━━━━\u001b[0m\u001b[37m\u001b[0m \u001b[1m177s\u001b[0m 2s/step - accuracy: 0.9207 - loss: 0.1907 - val_accuracy: 0.5826 - val_loss: 1.6782\n",
      "Epoch 13/50\n",
      "\u001b[1m81/81\u001b[0m \u001b[32m━━━━━━━━━━━━━━━━━━━━\u001b[0m\u001b[37m\u001b[0m \u001b[1m177s\u001b[0m 2s/step - accuracy: 0.9161 - loss: 0.1881 - val_accuracy: 0.6219 - val_loss: 1.6347\n",
      "Epoch 14/50\n",
      "\u001b[1m81/81\u001b[0m \u001b[32m━━━━━━━━━━━━━━━━━━━━\u001b[0m\u001b[37m\u001b[0m \u001b[1m173s\u001b[0m 2s/step - accuracy: 0.9179 - loss: 0.1941 - val_accuracy: 0.5992 - val_loss: 1.2076\n",
      "Epoch 15/50\n",
      "\u001b[1m81/81\u001b[0m \u001b[32m━━━━━━━━━━━━━━━━━━━━\u001b[0m\u001b[37m\u001b[0m \u001b[1m177s\u001b[0m 2s/step - accuracy: 0.9296 - loss: 0.1633 - val_accuracy: 0.6777 - val_loss: 1.5552\n",
      "Epoch 16/50\n",
      "\u001b[1m81/81\u001b[0m \u001b[32m━━━━━━━━━━━━━━━━━━━━\u001b[0m\u001b[37m\u001b[0m \u001b[1m177s\u001b[0m 2s/step - accuracy: 0.9252 - loss: 0.1551 - val_accuracy: 0.7169 - val_loss: 1.4150\n",
      "Epoch 17/50\n",
      "\u001b[1m81/81\u001b[0m \u001b[32m━━━━━━━━━━━━━━━━━━━━\u001b[0m\u001b[37m\u001b[0m \u001b[1m172s\u001b[0m 2s/step - accuracy: 0.9295 - loss: 0.1375 - val_accuracy: 0.6839 - val_loss: 1.5514\n",
      "Epoch 18/50\n",
      "\u001b[1m81/81\u001b[0m \u001b[32m━━━━━━━━━━━━━━━━━━━━\u001b[0m\u001b[37m\u001b[0m \u001b[1m172s\u001b[0m 2s/step - accuracy: 0.9365 - loss: 0.1288 - val_accuracy: 0.7025 - val_loss: 1.2759\n",
      "Epoch 19/50\n",
      "\u001b[1m81/81\u001b[0m \u001b[32m━━━━━━━━━━━━━━━━━━━━\u001b[0m\u001b[37m\u001b[0m \u001b[1m172s\u001b[0m 2s/step - accuracy: 0.9258 - loss: 0.1361 - val_accuracy: 0.6860 - val_loss: 0.9880\n",
      "Epoch 20/50\n",
      "\u001b[1m81/81\u001b[0m \u001b[32m━━━━━━━━━━━━━━━━━━━━\u001b[0m\u001b[37m\u001b[0m \u001b[1m172s\u001b[0m 2s/step - accuracy: 0.9340 - loss: 0.1356 - val_accuracy: 0.6322 - val_loss: 1.5307\n",
      "Epoch 21/50\n",
      "\u001b[1m81/81\u001b[0m \u001b[32m━━━━━━━━━━━━━━━━━━━━\u001b[0m\u001b[37m\u001b[0m \u001b[1m176s\u001b[0m 2s/step - accuracy: 0.9334 - loss: 0.1359 - val_accuracy: 0.7211 - val_loss: 1.3916\n",
      "Epoch 22/50\n",
      "\u001b[1m81/81\u001b[0m \u001b[32m━━━━━━━━━━━━━━━━━━━━\u001b[0m\u001b[37m\u001b[0m \u001b[1m172s\u001b[0m 2s/step - accuracy: 0.9264 - loss: 0.1282 - val_accuracy: 0.6798 - val_loss: 1.8196\n",
      "Epoch 23/50\n",
      "\u001b[1m81/81\u001b[0m \u001b[32m━━━━━━━━━━━━━━━━━━━━\u001b[0m\u001b[37m\u001b[0m \u001b[1m172s\u001b[0m 2s/step - accuracy: 0.9178 - loss: 0.1709 - val_accuracy: 0.6983 - val_loss: 1.2873\n",
      "Epoch 24/50\n",
      "\u001b[1m81/81\u001b[0m \u001b[32m━━━━━━━━━━━━━━━━━━━━\u001b[0m\u001b[37m\u001b[0m \u001b[1m172s\u001b[0m 2s/step - accuracy: 0.9206 - loss: 0.1638 - val_accuracy: 0.6777 - val_loss: 1.1752\n",
      "Epoch 25/50\n",
      "\u001b[1m81/81\u001b[0m \u001b[32m━━━━━━━━━━━━━━━━━━━━\u001b[0m\u001b[37m\u001b[0m \u001b[1m172s\u001b[0m 2s/step - accuracy: 0.9228 - loss: 0.1478 - val_accuracy: 0.6240 - val_loss: 2.0856\n",
      "Epoch 26/50\n",
      "\u001b[1m81/81\u001b[0m \u001b[32m━━━━━━━━━━━━━━━━━━━━\u001b[0m\u001b[37m\u001b[0m \u001b[1m172s\u001b[0m 2s/step - accuracy: 0.9213 - loss: 0.1646 - val_accuracy: 0.6798 - val_loss: 1.7004\n",
      "Epoch 27/50\n",
      "\u001b[1m81/81\u001b[0m \u001b[32m━━━━━━━━━━━━━━━━━━━━\u001b[0m\u001b[37m\u001b[0m \u001b[1m171s\u001b[0m 2s/step - accuracy: 0.9273 - loss: 0.1446 - val_accuracy: 0.6818 - val_loss: 1.0734\n",
      "Epoch 28/50\n",
      "\u001b[1m81/81\u001b[0m \u001b[32m━━━━━━━━━━━━━━━━━━━━\u001b[0m\u001b[37m\u001b[0m \u001b[1m172s\u001b[0m 2s/step - accuracy: 0.9238 - loss: 0.1440 - val_accuracy: 0.5744 - val_loss: 1.2911\n",
      "Epoch 29/50\n",
      "\u001b[1m81/81\u001b[0m \u001b[32m━━━━━━━━━━━━━━━━━━━━\u001b[0m\u001b[37m\u001b[0m \u001b[1m171s\u001b[0m 2s/step - accuracy: 0.9194 - loss: 0.1461 - val_accuracy: 0.6012 - val_loss: 1.5867\n",
      "Epoch 30/50\n",
      "\u001b[1m81/81\u001b[0m \u001b[32m━━━━━━━━━━━━━━━━━━━━\u001b[0m\u001b[37m\u001b[0m \u001b[1m171s\u001b[0m 2s/step - accuracy: 0.9201 - loss: 0.1333 - val_accuracy: 0.6942 - val_loss: 1.4481\n",
      "Epoch 31/50\n",
      "\u001b[1m81/81\u001b[0m \u001b[32m━━━━━━━━━━━━━━━━━━━━\u001b[0m\u001b[37m\u001b[0m \u001b[1m171s\u001b[0m 2s/step - accuracy: 0.9409 - loss: 0.1041 - val_accuracy: 0.5992 - val_loss: 2.6931\n",
      "Epoch 32/50\n",
      "\u001b[1m81/81\u001b[0m \u001b[32m━━━━━━━━━━━━━━━━━━━━\u001b[0m\u001b[37m\u001b[0m \u001b[1m171s\u001b[0m 2s/step - accuracy: 0.9383 - loss: 0.1115 - val_accuracy: 0.7045 - val_loss: 1.7666\n",
      "Epoch 33/50\n",
      "\u001b[1m81/81\u001b[0m \u001b[32m━━━━━━━━━━━━━━━━━━━━\u001b[0m\u001b[37m\u001b[0m \u001b[1m176s\u001b[0m 2s/step - accuracy: 0.9347 - loss: 0.1077 - val_accuracy: 0.7273 - val_loss: 1.5456\n",
      "Epoch 34/50\n",
      "\u001b[1m81/81\u001b[0m \u001b[32m━━━━━━━━━━━━━━━━━━━━\u001b[0m\u001b[37m\u001b[0m \u001b[1m172s\u001b[0m 2s/step - accuracy: 0.9426 - loss: 0.0970 - val_accuracy: 0.7066 - val_loss: 1.6301\n",
      "Epoch 35/50\n",
      "\u001b[1m81/81\u001b[0m \u001b[32m━━━━━━━━━━━━━━━━━━━━\u001b[0m\u001b[37m\u001b[0m \u001b[1m171s\u001b[0m 2s/step - accuracy: 0.9326 - loss: 0.1054 - val_accuracy: 0.6839 - val_loss: 1.7448\n",
      "Epoch 36/50\n",
      "\u001b[1m81/81\u001b[0m \u001b[32m━━━━━━━━━━━━━━━━━━━━\u001b[0m\u001b[37m\u001b[0m \u001b[1m170s\u001b[0m 2s/step - accuracy: 0.9150 - loss: 0.1824 - val_accuracy: 0.4236 - val_loss: 10.8201\n",
      "Epoch 37/50\n",
      "\u001b[1m81/81\u001b[0m \u001b[32m━━━━━━━━━━━━━━━━━━━━\u001b[0m\u001b[37m\u001b[0m \u001b[1m169s\u001b[0m 2s/step - accuracy: 0.9141 - loss: 0.1945 - val_accuracy: 0.6488 - val_loss: 1.3155\n",
      "Epoch 38/50\n",
      "\u001b[1m81/81\u001b[0m \u001b[32m━━━━━━━━━━━━━━━━━━━━\u001b[0m\u001b[37m\u001b[0m \u001b[1m169s\u001b[0m 2s/step - accuracy: 0.9300 - loss: 0.1341 - val_accuracy: 0.6529 - val_loss: 2.3161\n",
      "Epoch 39/50\n",
      "\u001b[1m81/81\u001b[0m \u001b[32m━━━━━━━━━━━━━━━━━━━━\u001b[0m\u001b[37m\u001b[0m \u001b[1m170s\u001b[0m 2s/step - accuracy: 0.9347 - loss: 0.1129 - val_accuracy: 0.6880 - val_loss: 1.4183\n",
      "Epoch 40/50\n",
      "\u001b[1m81/81\u001b[0m \u001b[32m━━━━━━━━━━━━━━━━━━━━\u001b[0m\u001b[37m\u001b[0m \u001b[1m169s\u001b[0m 2s/step - accuracy: 0.9263 - loss: 0.1126 - val_accuracy: 0.7149 - val_loss: 1.4726\n",
      "Epoch 41/50\n",
      "\u001b[1m81/81\u001b[0m \u001b[32m━━━━━━━━━━━━━━━━━━━━\u001b[0m\u001b[37m\u001b[0m \u001b[1m169s\u001b[0m 2s/step - accuracy: 0.9408 - loss: 0.0925 - val_accuracy: 0.7045 - val_loss: 1.6197\n",
      "Epoch 42/50\n",
      "\u001b[1m81/81\u001b[0m \u001b[32m━━━━━━━━━━━━━━━━━━━━\u001b[0m\u001b[37m\u001b[0m \u001b[1m170s\u001b[0m 2s/step - accuracy: 0.9384 - loss: 0.0882 - val_accuracy: 0.6983 - val_loss: 2.0816\n",
      "Epoch 43/50\n",
      "\u001b[1m81/81\u001b[0m \u001b[32m━━━━━━━━━━━━━━━━━━━━\u001b[0m\u001b[37m\u001b[0m \u001b[1m170s\u001b[0m 2s/step - accuracy: 0.9444 - loss: 0.0841 - val_accuracy: 0.7087 - val_loss: 1.7590\n",
      "Epoch 44/50\n",
      "\u001b[1m81/81\u001b[0m \u001b[32m━━━━━━━━━━━━━━━━━━━━\u001b[0m\u001b[37m\u001b[0m \u001b[1m170s\u001b[0m 2s/step - accuracy: 0.9331 - loss: 0.0958 - val_accuracy: 0.7004 - val_loss: 1.6879\n",
      "Epoch 45/50\n",
      "\u001b[1m81/81\u001b[0m \u001b[32m━━━━━━━━━━━━━━━━━━━━\u001b[0m\u001b[37m\u001b[0m \u001b[1m169s\u001b[0m 2s/step - accuracy: 0.9431 - loss: 0.0845 - val_accuracy: 0.7025 - val_loss: 1.8962\n",
      "Epoch 46/50\n",
      "\u001b[1m81/81\u001b[0m \u001b[32m━━━━━━━━━━━━━━━━━━━━\u001b[0m\u001b[37m\u001b[0m \u001b[1m170s\u001b[0m 2s/step - accuracy: 0.9493 - loss: 0.0812 - val_accuracy: 0.7149 - val_loss: 1.9905\n",
      "Epoch 47/50\n",
      "\u001b[1m81/81\u001b[0m \u001b[32m━━━━━━━━━━━━━━━━━━━━\u001b[0m\u001b[37m\u001b[0m \u001b[1m170s\u001b[0m 2s/step - accuracy: 0.9353 - loss: 0.0882 - val_accuracy: 0.7045 - val_loss: 2.1811\n",
      "Epoch 48/50\n",
      "\u001b[1m81/81\u001b[0m \u001b[32m━━━━━━━━━━━━━━━━━━━━\u001b[0m\u001b[37m\u001b[0m \u001b[1m169s\u001b[0m 2s/step - accuracy: 0.9363 - loss: 0.0903 - val_accuracy: 0.7045 - val_loss: 2.1300\n",
      "Epoch 49/50\n",
      "\u001b[1m81/81\u001b[0m \u001b[32m━━━━━━━━━━━━━━━━━━━━\u001b[0m\u001b[37m\u001b[0m \u001b[1m169s\u001b[0m 2s/step - accuracy: 0.9393 - loss: 0.0838 - val_accuracy: 0.7169 - val_loss: 2.0806\n",
      "Epoch 50/50\n",
      "\u001b[1m81/81\u001b[0m \u001b[32m━━━━━━━━━━━━━━━━━━━━\u001b[0m\u001b[37m\u001b[0m \u001b[1m170s\u001b[0m 2s/step - accuracy: 0.9436 - loss: 0.0798 - val_accuracy: 0.7004 - val_loss: 2.4166\n"
     ]
    }
   ],
   "source": [
    "# Train the model\n",
    "num_epochs = 50\n",
    "history = model.fit(\n",
    "    train_dataset,\n",
    "    validation_data=val_dataset,\n",
    "    epochs=num_epochs,\n",
    "    callbacks=[\n",
    "        tf.keras.callbacks.ModelCheckpoint(\"best_ensemble_model.keras\", save_best_only=True, monitor=\"val_accuracy\"),\n",
    "        tf.keras.callbacks.EarlyStopping(monitor=\"val_accuracy\", patience=20, restore_best_weights=True)\n",
    "    ]\n",
    ")\n"
   ]
  },
  {
   "cell_type": "code",
   "execution_count": 19,
   "id": "ea5be8fb",
   "metadata": {
    "execution": {
     "iopub.execute_input": "2025-01-19T08:40:17.525802Z",
     "iopub.status.busy": "2025-01-19T08:40:17.525459Z",
     "iopub.status.idle": "2025-01-19T08:40:18.025301Z",
     "shell.execute_reply": "2025-01-19T08:40:18.024510Z"
    },
    "papermill": {
     "duration": 0.695246,
     "end_time": "2025-01-19T08:40:18.027352",
     "exception": false,
     "start_time": "2025-01-19T08:40:17.332106",
     "status": "completed"
    },
    "tags": []
   },
   "outputs": [
    {
     "data": {
      "image/png": "[encoded data removed]",
      "text/plain": [
       "<Figure size 1200x500 with 2 Axes>"
      ]
     },
     "metadata": {},
     "output_type": "display_data"
    }
   ],
   "source": [
    "# Plot training and validation metrics\n",
    "def plot_training_history(history):\n",
    "    epochs = range(1, len(history.history[\"accuracy\"]) + 1)\n",
    "    \n",
    "    # Accuracy\n",
    "    plt.figure(figsize=(12, 5))\n",
    "    plt.subplot(1, 2, 1)\n",
    "    plt.plot(epochs, history.history[\"accuracy\"], label=\"Train Accuracy\")\n",
    "    plt.plot(epochs, history.history[\"val_accuracy\"], label=\"Validation Accuracy\")\n",
    "    plt.title(\"Accuracy vs Epochs\")\n",
    "    plt.xlabel(\"Epochs\")\n",
    "    plt.ylabel(\"Accuracy\")\n",
    "    plt.legend()\n",
    "\n",
    "    # Loss\n",
    "    plt.subplot(1, 2, 2)\n",
    "    plt.plot(epochs, history.history[\"loss\"], label=\"Train Loss\")\n",
    "    plt.plot(epochs, history.history[\"val_loss\"], label=\"Validation Loss\")\n",
    "    plt.title(\"Loss vs Epochs\")\n",
    "    plt.xlabel(\"Epochs\")\n",
    "    plt.ylabel(\"Loss\")\n",
    "    plt.legend()\n",
    "    \n",
    "    plt.tight_layout()\n",
    "    plt.show()\n",
    "\n",
    "plot_training_history(history)\n"
   ]
  },
  {
   "cell_type": "code",
   "execution_count": 20,
   "id": "2ab93a06",
   "metadata": {
    "execution": {
     "iopub.execute_input": "2025-01-19T08:40:18.449324Z",
     "iopub.status.busy": "2025-01-19T08:40:18.449015Z",
     "iopub.status.idle": "2025-01-19T08:40:19.610827Z",
     "shell.execute_reply": "2025-01-19T08:40:19.609945Z"
    },
    "papermill": {
     "duration": 1.391381,
     "end_time": "2025-01-19T08:40:19.612660",
     "exception": false,
     "start_time": "2025-01-19T08:40:18.221279",
     "status": "completed"
    },
    "tags": []
   },
   "outputs": [],
   "source": [
    "import numpy as np\n",
    "from sklearn.metrics import classification_report, cohen_kappa_score, confusion_matrix\n",
    "import seaborn as sns\n",
    "import matplotlib.pyplot as plt"
   ]
  },
  {
   "cell_type": "code",
   "execution_count": 21,
   "id": "18c7070f",
   "metadata": {
    "execution": {
     "iopub.execute_input": "2025-01-19T08:40:20.000604Z",
     "iopub.status.busy": "2025-01-19T08:40:20.000049Z",
     "iopub.status.idle": "2025-01-19T08:41:34.443432Z",
     "shell.execute_reply": "2025-01-19T08:41:34.442650Z"
    },
    "papermill": {
     "duration": 74.638224,
     "end_time": "2025-01-19T08:41:34.445645",
     "exception": false,
     "start_time": "2025-01-19T08:40:19.807421",
     "status": "completed"
    },
    "tags": []
   },
   "outputs": [],
   "source": [
    "\n",
    "# Load the best model\n",
    "best_model = tf.keras.models.load_model(\"best_ensemble_model.keras\")"
   ]
  },
  {
   "cell_type": "code",
   "execution_count": 22,
   "id": "089cef72",
   "metadata": {
    "execution": {
     "iopub.execute_input": "2025-01-19T08:41:34.835351Z",
     "iopub.status.busy": "2025-01-19T08:41:34.834767Z",
     "iopub.status.idle": "2025-01-19T08:42:05.241409Z",
     "shell.execute_reply": "2025-01-19T08:42:05.240530Z"
    },
    "papermill": {
     "duration": 30.794495,
     "end_time": "2025-01-19T08:42:05.436182",
     "exception": false,
     "start_time": "2025-01-19T08:41:34.641687",
     "status": "completed"
    },
    "tags": []
   },
   "outputs": [
    {
     "name": "stdout",
     "output_type": "stream",
     "text": [
      "\u001b[1m8/8\u001b[0m \u001b[32m━━━━━━━━━━━━━━━━━━━━\u001b[0m\u001b[37m\u001b[0m \u001b[1m30s\u001b[0m 3s/step - accuracy: 0.7418 - loss: 1.4268\n",
      "Test Loss: 1.3867, Test Accuracy: 74.07%\n"
     ]
    }
   ],
   "source": [
    "\n",
    "# Evaluate on the test dataset\n",
    "test_loss, test_accuracy = best_model.evaluate(test_dataset)\n",
    "print(f\"Test Loss: {test_loss:.4f}, Test Accuracy: {test_accuracy * 100:.2f}%\")"
   ]
  },
  {
   "cell_type": "code",
   "execution_count": 23,
   "id": "dff10466",
   "metadata": {
    "execution": {
     "iopub.execute_input": "2025-01-19T08:42:05.816594Z",
     "iopub.status.busy": "2025-01-19T08:42:05.816296Z",
     "iopub.status.idle": "2025-01-19T08:42:05.820301Z",
     "shell.execute_reply": "2025-01-19T08:42:05.819607Z"
    },
    "papermill": {
     "duration": 0.195604,
     "end_time": "2025-01-19T08:42:05.821927",
     "exception": false,
     "start_time": "2025-01-19T08:42:05.626323",
     "status": "completed"
    },
    "tags": []
   },
   "outputs": [],
   "source": [
    "# Generate predictions and true labels\n",
    "y_true = []\n",
    "y_pred = []\n"
   ]
  },
  {
   "cell_type": "code",
   "execution_count": 24,
   "id": "209a8f16",
   "metadata": {
    "execution": {
     "iopub.execute_input": "2025-01-19T08:42:06.239575Z",
     "iopub.status.busy": "2025-01-19T08:42:06.238659Z",
     "iopub.status.idle": "2025-01-19T08:42:40.154242Z",
     "shell.execute_reply": "2025-01-19T08:42:40.153348Z"
    },
    "papermill": {
     "duration": 34.287996,
     "end_time": "2025-01-19T08:42:40.337157",
     "exception": false,
     "start_time": "2025-01-19T08:42:06.049161",
     "status": "completed"
    },
    "tags": []
   },
   "outputs": [
    {
     "name": "stdout",
     "output_type": "stream",
     "text": [
      "\u001b[1m2/2\u001b[0m \u001b[32m━━━━━━━━━━━━━━━━━━━━\u001b[0m\u001b[37m\u001b[0m \u001b[1m20s\u001b[0m 202ms/step\n",
      "\u001b[1m2/2\u001b[0m \u001b[32m━━━━━━━━━━━━━━━━━━━━\u001b[0m\u001b[37m\u001b[0m \u001b[1m0s\u001b[0m 278ms/step\n",
      "\u001b[1m2/2\u001b[0m \u001b[32m━━━━━━━━━━━━━━━━━━━━\u001b[0m\u001b[37m\u001b[0m \u001b[1m0s\u001b[0m 281ms/step\n",
      "\u001b[1m2/2\u001b[0m \u001b[32m━━━━━━━━━━━━━━━━━━━━\u001b[0m\u001b[37m\u001b[0m \u001b[1m0s\u001b[0m 277ms/step\n",
      "\u001b[1m2/2\u001b[0m \u001b[32m━━━━━━━━━━━━━━━━━━━━\u001b[0m\u001b[37m\u001b[0m \u001b[1m0s\u001b[0m 274ms/step\n",
      "\u001b[1m2/2\u001b[0m \u001b[32m━━━━━━━━━━━━━━━━━━━━\u001b[0m\u001b[37m\u001b[0m \u001b[1m0s\u001b[0m 276ms/step\n",
      "\u001b[1m2/2\u001b[0m \u001b[32m━━━━━━━━━━━━━━━━━━━━\u001b[0m\u001b[37m\u001b[0m \u001b[1m0s\u001b[0m 278ms/step\n",
      "\u001b[1m2/2\u001b[0m \u001b[32m━━━━━━━━━━━━━━━━━━━━\u001b[0m\u001b[37m\u001b[0m \u001b[1m9s\u001b[0m 9s/step\n",
      "\n",
      "Classification Report:\n",
      "                      precision    recall  f1-score   support\n",
      "\n",
      "Diabetic Retinopathy     0.7778    0.6364    0.7000        44\n",
      "        Macular Scar     0.6818    0.5882    0.6316       102\n",
      "              Myopia     0.5965    0.7556    0.6667       135\n",
      "            Glaucoma     0.9404    0.9404    0.9404       151\n",
      "             Healthy     0.6944    0.5000    0.5814        50\n",
      "\n",
      "            accuracy                         0.7407       482\n",
      "           macro avg     0.7382    0.6841    0.7040       482\n",
      "        weighted avg     0.7490    0.7407    0.7392       482\n",
      "\n"
     ]
    }
   ],
   "source": [
    "for data, labels in test_dataset:\n",
    "    y_true.extend(labels.numpy())  # Append true labels\n",
    "    preds = np.argmax(best_model.predict(data), axis=-1)  # Predict and take the class with max probability\n",
    "    y_pred.extend(preds)\n",
    "\n",
    "# Convert to numpy arrays\n",
    "y_true = np.array(y_true)\n",
    "y_pred = np.array(y_pred)\n",
    "\n",
    "# Classification report\n",
    "class_report = classification_report(\n",
    "    y_true,\n",
    "    y_pred,\n",
    "    target_names=selected_classes,\n",
    "    digits=4\n",
    ")\n",
    "print(\"\\nClassification Report:\")\n",
    "print(class_report)\n"
   ]
  },
  {
   "cell_type": "code",
   "execution_count": 25,
   "id": "92c0817d",
   "metadata": {
    "execution": {
     "iopub.execute_input": "2025-01-19T08:42:40.722867Z",
     "iopub.status.busy": "2025-01-19T08:42:40.722524Z",
     "iopub.status.idle": "2025-01-19T08:42:40.972789Z",
     "shell.execute_reply": "2025-01-19T08:42:40.971995Z"
    },
    "papermill": {
     "duration": 0.443227,
     "end_time": "2025-01-19T08:42:40.974491",
     "exception": false,
     "start_time": "2025-01-19T08:42:40.531264",
     "status": "completed"
    },
    "tags": []
   },
   "outputs": [
    {
     "name": "stdout",
     "output_type": "stream",
     "text": [
      "Cohen's Kappa: 0.6539\n",
      "\n",
      "Sensitivity per class:\n",
      "Diabetic Retinopathy: 0.6364\n",
      "Macular Scar: 0.5882\n",
      "Myopia: 0.7556\n",
      "Glaucoma: 0.9404\n",
      "Healthy: 0.5000\n",
      "\n",
      "F1 Scores per class (for reference):\n",
      "Diabetic Retinopathy: 0.6364\n",
      "Macular Scar: 0.5882\n",
      "Myopia: 0.7556\n",
      "Glaucoma: 0.9404\n",
      "Healthy: 0.5000\n"
     ]
    },
    {
     "data": {
      "image/png": "[encoded data removed]",
      "text/plain": [
       "<Figure size 800x600 with 2 Axes>"
      ]
     },
     "metadata": {},
     "output_type": "display_data"
    }
   ],
   "source": [
    "# Cohen's Kappa\n",
    "kappa = cohen_kappa_score(y_true, y_pred)\n",
    "print(f\"Cohen's Kappa: {kappa:.4f}\")\n",
    "\n",
    "# Confusion Matrix\n",
    "conf_matrix = confusion_matrix(y_true, y_pred)\n",
    "\n",
    "# Sensitivity (Recall per class)\n",
    "sensitivity_per_class = conf_matrix.diagonal() / conf_matrix.sum(axis=1)\n",
    "print(\"\\nSensitivity per class:\")\n",
    "for i, class_name in enumerate(selected_classes):\n",
    "    print(f\"{class_name}: {sensitivity_per_class[i]:.4f}\")\n",
    "\n",
    "# F1 score\n",
    "f1_scores = 2 * (sensitivity_per_class * sensitivity_per_class) / (sensitivity_per_class + sensitivity_per_class)\n",
    "print(\"\\nF1 Scores per class (for reference):\")\n",
    "for i, class_name in enumerate(selected_classes):\n",
    "    print(f\"{class_name}: {f1_scores[i]:.4f}\")\n",
    "\n",
    "# Plot Confusion Matrix\n",
    "plt.figure(figsize=(8, 6))\n",
    "sns.heatmap(conf_matrix, annot=True, fmt=\"d\", cmap=\"Blues\", xticklabels=selected_classes, yticklabels=selected_classes)\n",
    "plt.title(\"Confusion Matrix\")\n",
    "plt.xlabel(\"Predicted Labels\")\n",
    "plt.ylabel(\"True Labels\")\n",
    "plt.show()"
   ]
  }
 ],
 "metadata": {
  "kaggle": {
   "accelerator": "nvidiaTeslaT4",
   "dataSources": [
    {
     "datasetId": 6250315,
     "sourceId": 10128159,
     "sourceType": "datasetVersion"
    },
    {
     "datasetId": 6353403,
     "sourceId": 10268994,
     "sourceType": "datasetVersion"
    },
    {
     "datasetId": 6503486,
     "sourceId": 10505875,
     "sourceType": "datasetVersion"
    }
   ],
   "dockerImageVersionId": 30805,
   "isGpuEnabled": true,
   "isInternetEnabled": true,
   "language": "python",
   "sourceType": "notebook"
  },
  "kernelspec": {
   "display_name": "Python 3",
   "language": "python",
   "name": "python3"
  },
  "language_info": {
   "codemirror_mode": {
    "name": "ipython",
    "version": 3
   },
   "file_extension": ".py",
   "mimetype": "text/x-python",
   "name": "python",
   "nbconvert_exporter": "python",
   "pygments_lexer": "ipython3",
   "version": "3.10.14"
  },
  "papermill": {
   "default_parameters": {},
   "duration": 9075.410424,
   "end_time": "2025-01-19T08:42:45.693240",
   "environment_variables": {},
   "exception": null,
   "input_path": "__notebook__.ipynb",
   "output_path": "__notebook__.ipynb",
   "parameters": {},
   "start_time": "2025-01-19T06:11:30.282816",
   "version": "2.6.0"
  }
 },
 "nbformat": 4,
 "nbformat_minor": 5
}
