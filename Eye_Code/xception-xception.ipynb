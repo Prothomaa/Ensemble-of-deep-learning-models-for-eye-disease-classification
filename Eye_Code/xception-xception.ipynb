{
 "cells": [
  {
   "cell_type": "code",
   "execution_count": 1,
   "id": "bc1f0b90",
   "metadata": {
    "_cell_guid": "b1076dfc-b9ad-4769-8c92-a6c4dae69d19",
    "_uuid": "8f2839f25d086af736a60e9eeb907d3b93b6e0e5",
    "execution": {
     "iopub.execute_input": "2025-01-18T12:00:16.663118Z",
     "iopub.status.busy": "2025-01-18T12:00:16.662775Z",
     "iopub.status.idle": "2025-01-18T12:00:30.047276Z",
     "shell.execute_reply": "2025-01-18T12:00:30.046542Z"
    },
    "papermill": {
     "duration": 13.392398,
     "end_time": "2025-01-18T12:00:30.049254",
     "exception": false,
     "start_time": "2025-01-18T12:00:16.656856",
     "status": "completed"
    },
    "tags": []
   },
   "outputs": [],
   "source": [
    "import tensorflow as tf\n",
    "from tensorflow.keras.applications import Xception, ResNet101\n",
    "from tensorflow.keras.layers import Input, Dense, GlobalAveragePooling2D, concatenate\n",
    "from tensorflow.keras.models import Model\n",
    "import matplotlib.pyplot as plt\n",
    "import os\n"
   ]
  },
  {
   "cell_type": "code",
   "execution_count": 2,
   "id": "66493ade",
   "metadata": {
    "execution": {
     "iopub.execute_input": "2025-01-18T12:00:30.058641Z",
     "iopub.status.busy": "2025-01-18T12:00:30.057534Z",
     "iopub.status.idle": "2025-01-18T12:00:30.062551Z",
     "shell.execute_reply": "2025-01-18T12:00:30.061914Z"
    },
    "papermill": {
     "duration": 0.011061,
     "end_time": "2025-01-18T12:00:30.064223",
     "exception": false,
     "start_time": "2025-01-18T12:00:30.053162",
     "status": "completed"
    },
    "tags": []
   },
   "outputs": [],
   "source": [
    "# Set seed for reproducibility\n",
    "def set_seed(seed=42):\n",
    "    tf.random.set_seed(seed)\n",
    "    os.environ['PYTHONHASHSEED'] = str(seed)\n",
    "\n",
    "set_seed(42)\n"
   ]
  },
  {
   "cell_type": "code",
   "execution_count": 3,
   "id": "f5aa52d6",
   "metadata": {
    "execution": {
     "iopub.execute_input": "2025-01-18T12:00:30.072277Z",
     "iopub.status.busy": "2025-01-18T12:00:30.072017Z",
     "iopub.status.idle": "2025-01-18T12:00:30.076134Z",
     "shell.execute_reply": "2025-01-18T12:00:30.075250Z"
    },
    "papermill": {
     "duration": 0.009885,
     "end_time": "2025-01-18T12:00:30.077762",
     "exception": false,
     "start_time": "2025-01-18T12:00:30.067877",
     "status": "completed"
    },
    "tags": []
   },
   "outputs": [],
   "source": [
    "# Specify the classes to include\n",
    "selected_classes = {\"Diabetic Retinopathy\", \"Glaucoma\", \"Healthy\", \"Macular Scar\", \"Myopia\"}\n",
    "\n",
    "# Define paths for train, validation, and test datasets\n",
    "train_dataset_path = \"/kaggle/input/aug-v100/output\"\n",
    "val_dataset_path = \"/kaggle/input/aug-v100/val\"\n",
    "test_dataset_path = \"/kaggle/input/aug-v100/test\"\n"
   ]
  },
  {
   "cell_type": "code",
   "execution_count": 4,
   "id": "3e98a5b2",
   "metadata": {
    "execution": {
     "iopub.execute_input": "2025-01-18T12:00:30.087004Z",
     "iopub.status.busy": "2025-01-18T12:00:30.086590Z",
     "iopub.status.idle": "2025-01-18T12:00:30.091412Z",
     "shell.execute_reply": "2025-01-18T12:00:30.090572Z"
    },
    "papermill": {
     "duration": 0.011707,
     "end_time": "2025-01-18T12:00:30.093035",
     "exception": false,
     "start_time": "2025-01-18T12:00:30.081328",
     "status": "completed"
    },
    "tags": []
   },
   "outputs": [],
   "source": [
    "# Helper function to filter available classes\n",
    "def filter_classes(data_dir, selected_classes):\n",
    "    if not os.path.exists(data_dir):\n",
    "        raise FileNotFoundError(f\"Directory not found: {data_dir}\")\n",
    "    available_classes = set(os.listdir(data_dir))\n",
    "    filtered_classes = available_classes.intersection(selected_classes)\n",
    "    return [cls for cls in filtered_classes if os.path.isdir(os.path.join(data_dir, cls))]\n"
   ]
  },
  {
   "cell_type": "code",
   "execution_count": 5,
   "id": "0ef37e93",
   "metadata": {
    "execution": {
     "iopub.execute_input": "2025-01-18T12:00:30.101410Z",
     "iopub.status.busy": "2025-01-18T12:00:30.100904Z",
     "iopub.status.idle": "2025-01-18T12:00:30.116081Z",
     "shell.execute_reply": "2025-01-18T12:00:30.115424Z"
    },
    "papermill": {
     "duration": 0.020959,
     "end_time": "2025-01-18T12:00:30.117656",
     "exception": false,
     "start_time": "2025-01-18T12:00:30.096697",
     "status": "completed"
    },
    "tags": []
   },
   "outputs": [],
   "source": [
    "# Filter classes for train, validation, and test datasets\n",
    "filtered_train_classes = filter_classes(train_dataset_path, selected_classes)\n",
    "filtered_val_classes = filter_classes(val_dataset_path, selected_classes)\n",
    "filtered_test_classes = filter_classes(test_dataset_path, selected_classes)\n"
   ]
  },
  {
   "cell_type": "code",
   "execution_count": 6,
   "id": "dba4dc97",
   "metadata": {
    "execution": {
     "iopub.execute_input": "2025-01-18T12:00:30.125831Z",
     "iopub.status.busy": "2025-01-18T12:00:30.125393Z",
     "iopub.status.idle": "2025-01-18T12:00:30.129250Z",
     "shell.execute_reply": "2025-01-18T12:00:30.128580Z"
    },
    "papermill": {
     "duration": 0.009602,
     "end_time": "2025-01-18T12:00:30.130805",
     "exception": false,
     "start_time": "2025-01-18T12:00:30.121203",
     "status": "completed"
    },
    "tags": []
   },
   "outputs": [],
   "source": [
    "# Check if any classes are available\n",
    "if not filtered_train_classes or not filtered_val_classes or not filtered_test_classes:\n",
    "    raise ValueError(\"No matching classes found in the dataset directories!\")\n",
    "\n",
    "# Set the number of classes\n",
    "num_classes = len(filtered_train_classes)\n"
   ]
  },
  {
   "cell_type": "code",
   "execution_count": 7,
   "id": "2666adbb",
   "metadata": {
    "execution": {
     "iopub.execute_input": "2025-01-18T12:00:30.138903Z",
     "iopub.status.busy": "2025-01-18T12:00:30.138421Z",
     "iopub.status.idle": "2025-01-18T12:00:35.065886Z",
     "shell.execute_reply": "2025-01-18T12:00:35.065165Z"
    },
    "papermill": {
     "duration": 4.933315,
     "end_time": "2025-01-18T12:00:35.067597",
     "exception": false,
     "start_time": "2025-01-18T12:00:30.134282",
     "status": "completed"
    },
    "tags": []
   },
   "outputs": [
    {
     "name": "stdout",
     "output_type": "stream",
     "text": [
      "Found 5131 files belonging to 5 classes.\n",
      "Found 484 files belonging to 5 classes.\n",
      "Found 482 files belonging to 5 classes.\n"
     ]
    }
   ],
   "source": [
    "# Load datasets using image_dataset_from_directory\n",
    "def load_dataset(path, classes):\n",
    "    return tf.keras.utils.image_dataset_from_directory(\n",
    "        path,\n",
    "        labels='inferred',\n",
    "        label_mode='int',\n",
    "        class_names=classes,\n",
    "        batch_size=64,\n",
    "        image_size=(224, 224)\n",
    "    )\n",
    "\n",
    "train_dataset = load_dataset(train_dataset_path, filtered_train_classes)\n",
    "val_dataset = load_dataset(val_dataset_path, filtered_val_classes)\n",
    "test_dataset = load_dataset(test_dataset_path, filtered_test_classes)\n"
   ]
  },
  {
   "cell_type": "code",
   "execution_count": 8,
   "id": "5b3ddd91",
   "metadata": {
    "execution": {
     "iopub.execute_input": "2025-01-18T12:00:35.077023Z",
     "iopub.status.busy": "2025-01-18T12:00:35.076499Z",
     "iopub.status.idle": "2025-01-18T12:00:35.138118Z",
     "shell.execute_reply": "2025-01-18T12:00:35.137222Z"
    },
    "papermill": {
     "duration": 0.06848,
     "end_time": "2025-01-18T12:00:35.139949",
     "exception": false,
     "start_time": "2025-01-18T12:00:35.071469",
     "status": "completed"
    },
    "tags": []
   },
   "outputs": [],
   "source": [
    "# Normalize the datasets\n",
    "normalization_layer = tf.keras.layers.Rescaling(1./255)\n",
    "train_dataset = train_dataset.map(lambda x, y: (normalization_layer(x), y))\n",
    "val_dataset = val_dataset.map(lambda x, y: (normalization_layer(x), y))\n",
    "test_dataset = test_dataset.map(lambda x, y: (normalization_layer(x), y))\n"
   ]
  },
  {
   "cell_type": "code",
   "execution_count": 9,
   "id": "b3d4f6eb",
   "metadata": {
    "execution": {
     "iopub.execute_input": "2025-01-18T12:00:35.148892Z",
     "iopub.status.busy": "2025-01-18T12:00:35.148201Z",
     "iopub.status.idle": "2025-01-18T12:00:35.193840Z",
     "shell.execute_reply": "2025-01-18T12:00:35.193267Z"
    },
    "papermill": {
     "duration": 0.051803,
     "end_time": "2025-01-18T12:00:35.195388",
     "exception": false,
     "start_time": "2025-01-18T12:00:35.143585",
     "status": "completed"
    },
    "tags": []
   },
   "outputs": [],
   "source": [
    "\n",
    "# Prepare datasets for two inputs\n",
    "def prepare_inputs(image, label):\n",
    "    return {\"xception_input_1_C\": image, \"xception_input_2\": image}, label\n",
    "\n",
    "train_dataset = train_dataset.map(prepare_inputs).shuffle(1000).prefetch(tf.data.AUTOTUNE)\n",
    "val_dataset = val_dataset.map(prepare_inputs).prefetch(tf.data.AUTOTUNE)\n",
    "test_dataset = test_dataset.map(prepare_inputs).prefetch(tf.data.AUTOTUNE)\n"
   ]
  },
  {
   "cell_type": "code",
   "execution_count": 10,
   "id": "8d2fd284",
   "metadata": {
    "execution": {
     "iopub.execute_input": "2025-01-18T12:00:35.204184Z",
     "iopub.status.busy": "2025-01-18T12:00:35.203466Z",
     "iopub.status.idle": "2025-01-18T12:00:35.209140Z",
     "shell.execute_reply": "2025-01-18T12:00:35.208372Z"
    },
    "papermill": {
     "duration": 0.011693,
     "end_time": "2025-01-18T12:00:35.210871",
     "exception": false,
     "start_time": "2025-01-18T12:00:35.199178",
     "status": "completed"
    },
    "tags": []
   },
   "outputs": [],
   "source": [
    "# Define Xception branches\n",
    "xception_input_1 = Input(shape=(224, 224, 3), name=\"xception_input_1\")\n",
    "xception_input_2 = Input(shape=(224, 224, 3), name=\"xception_input_2\")\n"
   ]
  },
  {
   "cell_type": "code",
   "execution_count": 11,
   "id": "d2cc936b",
   "metadata": {
    "execution": {
     "iopub.execute_input": "2025-01-18T12:00:35.219707Z",
     "iopub.status.busy": "2025-01-18T12:00:35.219422Z",
     "iopub.status.idle": "2025-01-18T12:00:37.893390Z",
     "shell.execute_reply": "2025-01-18T12:00:37.892717Z"
    },
    "papermill": {
     "duration": 2.680823,
     "end_time": "2025-01-18T12:00:37.895431",
     "exception": false,
     "start_time": "2025-01-18T12:00:35.214608",
     "status": "completed"
    },
    "tags": []
   },
   "outputs": [
    {
     "name": "stdout",
     "output_type": "stream",
     "text": [
      "Downloading data from https://storage.googleapis.com/tensorflow/keras-applications/xception/xception_weights_tf_dim_ordering_tf_kernels_notop.h5\n",
      "\u001b[1m83683744/83683744\u001b[0m \u001b[32m━━━━━━━━━━━━━━━━━━━━\u001b[0m\u001b[37m\u001b[0m \u001b[1m0s\u001b[0m 0us/step\n"
     ]
    }
   ],
   "source": [
    "# First Xception branch\n",
    "with tf.name_scope(\"xception_1\"):\n",
    "    xception_base_1 = Xception(weights=\"imagenet\", include_top=False, input_tensor=xception_input_1)\n",
    "    for layer in xception_base_1.layers:\n",
    "        layer.name = layer.name + str('_C')\n",
    "    xception_output_1 = GlobalAveragePooling2D(name=\"xception_1_gap\")(xception_base_1.output)\n",
    "\n",
    "# Second Xception branch\n",
    "with tf.name_scope(\"xception_2\"):\n",
    "    xception_base_2 = Xception(weights=\"imagenet\", include_top=False, input_tensor=xception_input_2)\n",
    "    xception_output_2 = GlobalAveragePooling2D(name=\"xception_2_gap\")(xception_base_2.output)\n"
   ]
  },
  {
   "cell_type": "code",
   "execution_count": 12,
   "id": "81cbb823",
   "metadata": {
    "execution": {
     "iopub.execute_input": "2025-01-18T12:00:37.905564Z",
     "iopub.status.busy": "2025-01-18T12:00:37.905302Z",
     "iopub.status.idle": "2025-01-18T12:00:37.940975Z",
     "shell.execute_reply": "2025-01-18T12:00:37.940372Z"
    },
    "papermill": {
     "duration": 0.042206,
     "end_time": "2025-01-18T12:00:37.942561",
     "exception": false,
     "start_time": "2025-01-18T12:00:37.900355",
     "status": "completed"
    },
    "tags": []
   },
   "outputs": [],
   "source": [
    "# Concatenate outputs\n",
    "combined_output = concatenate([xception_output_1, xception_output_2], name=\"combined_output\")\n",
    "\n",
    "# Add fully connected layer and output\n",
    "final_output = Dense(num_classes, activation=\"softmax\", name=\"final_output\")(combined_output)\n",
    "\n",
    "# Define model\n",
    "model = Model(inputs=[xception_input_1, xception_input_2], outputs=final_output)"
   ]
  },
  {
   "cell_type": "code",
   "execution_count": 13,
   "id": "4cf6f04e",
   "metadata": {
    "execution": {
     "iopub.execute_input": "2025-01-18T12:00:37.952297Z",
     "iopub.status.busy": "2025-01-18T12:00:37.952023Z",
     "iopub.status.idle": "2025-01-18T12:00:37.959684Z",
     "shell.execute_reply": "2025-01-18T12:00:37.958982Z"
    },
    "papermill": {
     "duration": 0.014375,
     "end_time": "2025-01-18T12:00:37.961335",
     "exception": false,
     "start_time": "2025-01-18T12:00:37.946960",
     "status": "completed"
    },
    "tags": []
   },
   "outputs": [],
   "source": [
    "# ************************************************************************\n",
    "# Set pretrained layers to non-trainable\n",
    "for layer in xception_base_1.layers:\n",
    "    layer.trainable = False\n",
    "for layer in xception_base_2.layers:\n",
    "    layer.trainable = False\n",
    "# ************************************************************************"
   ]
  },
  {
   "cell_type": "code",
   "execution_count": 14,
   "id": "cb4f8007",
   "metadata": {
    "execution": {
     "iopub.execute_input": "2025-01-18T12:00:37.970989Z",
     "iopub.status.busy": "2025-01-18T12:00:37.970730Z",
     "iopub.status.idle": "2025-01-18T12:00:37.982027Z",
     "shell.execute_reply": "2025-01-18T12:00:37.981439Z"
    },
    "papermill": {
     "duration": 0.017966,
     "end_time": "2025-01-18T12:00:37.983598",
     "exception": false,
     "start_time": "2025-01-18T12:00:37.965632",
     "status": "completed"
    },
    "tags": []
   },
   "outputs": [],
   "source": [
    "# Compile the model\n",
    "model.compile(\n",
    "    optimizer=tf.keras.optimizers.Adam(learning_rate=0.001),\n",
    "    loss=\"sparse_categorical_crossentropy\",\n",
    "    metrics=[\"accuracy\"]\n",
    ")"
   ]
  },
  {
   "cell_type": "code",
   "execution_count": 15,
   "id": "0307afb1",
   "metadata": {
    "execution": {
     "iopub.execute_input": "2025-01-18T12:00:37.993065Z",
     "iopub.status.busy": "2025-01-18T12:00:37.992556Z",
     "iopub.status.idle": "2025-01-18T12:24:16.170175Z",
     "shell.execute_reply": "2025-01-18T12:24:16.169345Z"
    },
    "papermill": {
     "duration": 1418.18445,
     "end_time": "2025-01-18T12:24:16.172361",
     "exception": false,
     "start_time": "2025-01-18T12:00:37.987911",
     "status": "completed"
    },
    "tags": []
   },
   "outputs": [
    {
     "name": "stdout",
     "output_type": "stream",
     "text": [
      "Epoch 1/50\n"
     ]
    },
    {
     "name": "stderr",
     "output_type": "stream",
     "text": [
      "WARNING: All log messages before absl::InitializeLog() is called are written to STDERR\n",
      "I0000 00:00:1737201652.844157      73 service.cc:145] XLA service 0x7d047c002520 initialized for platform CUDA (this does not guarantee that XLA will be used). Devices:\n",
      "I0000 00:00:1737201652.844214      73 service.cc:153]   StreamExecutor device (0): Tesla T4, Compute Capability 7.5\n",
      "I0000 00:00:1737201652.844218      73 service.cc:153]   StreamExecutor device (1): Tesla T4, Compute Capability 7.5\n",
      "I0000 00:00:1737201675.015226      73 device_compiler.h:188] Compiled cluster using XLA!  This line is logged at most once for the lifetime of the process.\n"
     ]
    },
    {
     "name": "stdout",
     "output_type": "stream",
     "text": [
      "\u001b[1m81/81\u001b[0m \u001b[32m━━━━━━━━━━━━━━━━━━━━\u001b[0m\u001b[37m\u001b[0m \u001b[1m107s\u001b[0m 871ms/step - accuracy: 0.5045 - loss: 1.2408 - val_accuracy: 0.6405 - val_loss: 0.9393\n",
      "Epoch 2/50\n",
      "\u001b[1m81/81\u001b[0m \u001b[32m━━━━━━━━━━━━━━━━━━━━\u001b[0m\u001b[37m\u001b[0m \u001b[1m52s\u001b[0m 615ms/step - accuracy: 0.6533 - loss: 0.8828 - val_accuracy: 0.6260 - val_loss: 0.9803\n",
      "Epoch 3/50\n",
      "\u001b[1m81/81\u001b[0m \u001b[32m━━━━━━━━━━━━━━━━━━━━\u001b[0m\u001b[37m\u001b[0m \u001b[1m50s\u001b[0m 600ms/step - accuracy: 0.6639 - loss: 0.8405 - val_accuracy: 0.6467 - val_loss: 0.8608\n",
      "Epoch 4/50\n",
      "\u001b[1m81/81\u001b[0m \u001b[32m━━━━━━━━━━━━━━━━━━━━\u001b[0m\u001b[37m\u001b[0m \u001b[1m50s\u001b[0m 596ms/step - accuracy: 0.6842 - loss: 0.7948 - val_accuracy: 0.6364 - val_loss: 0.8692\n",
      "Epoch 5/50\n",
      "\u001b[1m81/81\u001b[0m \u001b[32m━━━━━━━━━━━━━━━━━━━━\u001b[0m\u001b[37m\u001b[0m \u001b[1m51s\u001b[0m 610ms/step - accuracy: 0.6815 - loss: 0.7679 - val_accuracy: 0.6570 - val_loss: 0.8717\n",
      "Epoch 6/50\n",
      "\u001b[1m81/81\u001b[0m \u001b[32m━━━━━━━━━━━━━━━━━━━━\u001b[0m\u001b[37m\u001b[0m \u001b[1m50s\u001b[0m 595ms/step - accuracy: 0.7045 - loss: 0.7410 - val_accuracy: 0.6529 - val_loss: 0.8545\n",
      "Epoch 7/50\n",
      "\u001b[1m81/81\u001b[0m \u001b[32m━━━━━━━━━━━━━━━━━━━━\u001b[0m\u001b[37m\u001b[0m \u001b[1m52s\u001b[0m 612ms/step - accuracy: 0.7281 - loss: 0.7071 - val_accuracy: 0.7004 - val_loss: 0.8187\n",
      "Epoch 8/50\n",
      "\u001b[1m81/81\u001b[0m \u001b[32m━━━━━━━━━━━━━━━━━━━━\u001b[0m\u001b[37m\u001b[0m \u001b[1m50s\u001b[0m 596ms/step - accuracy: 0.7194 - loss: 0.6992 - val_accuracy: 0.6674 - val_loss: 0.8778\n",
      "Epoch 9/50\n",
      "\u001b[1m81/81\u001b[0m \u001b[32m━━━━━━━━━━━━━━━━━━━━\u001b[0m\u001b[37m\u001b[0m \u001b[1m50s\u001b[0m 592ms/step - accuracy: 0.7150 - loss: 0.7115 - val_accuracy: 0.6591 - val_loss: 0.8649\n",
      "Epoch 10/50\n",
      "\u001b[1m81/81\u001b[0m \u001b[32m━━━━━━━━━━━━━━━━━━━━\u001b[0m\u001b[37m\u001b[0m \u001b[1m51s\u001b[0m 597ms/step - accuracy: 0.7479 - loss: 0.6604 - val_accuracy: 0.6860 - val_loss: 0.8269\n",
      "Epoch 11/50\n",
      "\u001b[1m81/81\u001b[0m \u001b[32m━━━━━━━━━━━━━━━━━━━━\u001b[0m\u001b[37m\u001b[0m \u001b[1m50s\u001b[0m 594ms/step - accuracy: 0.7392 - loss: 0.6650 - val_accuracy: 0.6736 - val_loss: 0.8465\n",
      "Epoch 12/50\n",
      "\u001b[1m81/81\u001b[0m \u001b[32m━━━━━━━━━━━━━━━━━━━━\u001b[0m\u001b[37m\u001b[0m \u001b[1m50s\u001b[0m 597ms/step - accuracy: 0.7481 - loss: 0.6439 - val_accuracy: 0.6798 - val_loss: 0.8782\n",
      "Epoch 13/50\n",
      "\u001b[1m81/81\u001b[0m \u001b[32m━━━━━━━━━━━━━━━━━━━━\u001b[0m\u001b[37m\u001b[0m \u001b[1m50s\u001b[0m 593ms/step - accuracy: 0.7506 - loss: 0.6298 - val_accuracy: 0.6983 - val_loss: 0.8283\n",
      "Epoch 14/50\n",
      "\u001b[1m81/81\u001b[0m \u001b[32m━━━━━━━━━━━━━━━━━━━━\u001b[0m\u001b[37m\u001b[0m \u001b[1m50s\u001b[0m 595ms/step - accuracy: 0.7613 - loss: 0.6076 - val_accuracy: 0.6942 - val_loss: 0.8105\n",
      "Epoch 15/50\n",
      "\u001b[1m81/81\u001b[0m \u001b[32m━━━━━━━━━━━━━━━━━━━━\u001b[0m\u001b[37m\u001b[0m \u001b[1m50s\u001b[0m 592ms/step - accuracy: 0.7732 - loss: 0.6116 - val_accuracy: 0.6921 - val_loss: 0.8118\n",
      "Epoch 16/50\n",
      "\u001b[1m81/81\u001b[0m \u001b[32m━━━━━━━━━━━━━━━━━━━━\u001b[0m\u001b[37m\u001b[0m \u001b[1m50s\u001b[0m 594ms/step - accuracy: 0.7444 - loss: 0.6255 - val_accuracy: 0.6777 - val_loss: 0.8205\n",
      "Epoch 17/50\n",
      "\u001b[1m81/81\u001b[0m \u001b[32m━━━━━━━━━━━━━━━━━━━━\u001b[0m\u001b[37m\u001b[0m \u001b[1m50s\u001b[0m 596ms/step - accuracy: 0.7723 - loss: 0.6008 - val_accuracy: 0.6632 - val_loss: 0.8325\n",
      "Epoch 18/50\n",
      "\u001b[1m81/81\u001b[0m \u001b[32m━━━━━━━━━━━━━━━━━━━━\u001b[0m\u001b[37m\u001b[0m \u001b[1m50s\u001b[0m 595ms/step - accuracy: 0.7618 - loss: 0.6001 - val_accuracy: 0.6942 - val_loss: 0.8204\n",
      "Epoch 19/50\n",
      "\u001b[1m81/81\u001b[0m \u001b[32m━━━━━━━━━━━━━━━━━━━━\u001b[0m\u001b[37m\u001b[0m \u001b[1m50s\u001b[0m 592ms/step - accuracy: 0.7780 - loss: 0.5772 - val_accuracy: 0.6860 - val_loss: 0.8444\n",
      "Epoch 20/50\n",
      "\u001b[1m81/81\u001b[0m \u001b[32m━━━━━━━━━━━━━━━━━━━━\u001b[0m\u001b[37m\u001b[0m \u001b[1m50s\u001b[0m 595ms/step - accuracy: 0.7705 - loss: 0.5839 - val_accuracy: 0.6942 - val_loss: 0.8116\n",
      "Epoch 21/50\n",
      "\u001b[1m81/81\u001b[0m \u001b[32m━━━━━━━━━━━━━━━━━━━━\u001b[0m\u001b[37m\u001b[0m \u001b[1m50s\u001b[0m 593ms/step - accuracy: 0.7749 - loss: 0.5854 - val_accuracy: 0.6715 - val_loss: 0.8997\n",
      "Epoch 22/50\n",
      "\u001b[1m81/81\u001b[0m \u001b[32m━━━━━━━━━━━━━━━━━━━━\u001b[0m\u001b[37m\u001b[0m \u001b[1m50s\u001b[0m 595ms/step - accuracy: 0.7800 - loss: 0.5679 - val_accuracy: 0.6942 - val_loss: 0.8428\n",
      "Epoch 23/50\n",
      "\u001b[1m81/81\u001b[0m \u001b[32m━━━━━━━━━━━━━━━━━━━━\u001b[0m\u001b[37m\u001b[0m \u001b[1m50s\u001b[0m 597ms/step - accuracy: 0.7874 - loss: 0.5640 - val_accuracy: 0.6860 - val_loss: 0.8335\n",
      "Epoch 24/50\n",
      "\u001b[1m81/81\u001b[0m \u001b[32m━━━━━━━━━━━━━━━━━━━━\u001b[0m\u001b[37m\u001b[0m \u001b[1m50s\u001b[0m 595ms/step - accuracy: 0.7969 - loss: 0.5325 - val_accuracy: 0.6488 - val_loss: 0.9099\n",
      "Epoch 25/50\n",
      "\u001b[1m81/81\u001b[0m \u001b[32m━━━━━━━━━━━━━━━━━━━━\u001b[0m\u001b[37m\u001b[0m \u001b[1m50s\u001b[0m 597ms/step - accuracy: 0.7823 - loss: 0.5642 - val_accuracy: 0.6818 - val_loss: 0.8378\n",
      "Epoch 26/50\n",
      "\u001b[1m81/81\u001b[0m \u001b[32m━━━━━━━━━━━━━━━━━━━━\u001b[0m\u001b[37m\u001b[0m \u001b[1m50s\u001b[0m 594ms/step - accuracy: 0.7939 - loss: 0.5389 - val_accuracy: 0.6839 - val_loss: 0.8610\n",
      "Epoch 27/50\n",
      "\u001b[1m81/81\u001b[0m \u001b[32m━━━━━━━━━━━━━━━━━━━━\u001b[0m\u001b[37m\u001b[0m \u001b[1m50s\u001b[0m 596ms/step - accuracy: 0.7921 - loss: 0.5355 - val_accuracy: 0.6839 - val_loss: 0.8377\n"
     ]
    }
   ],
   "source": [
    "# Train the model\n",
    "num_epochs = 50\n",
    "history = model.fit(\n",
    "    train_dataset,\n",
    "    validation_data=val_dataset,\n",
    "    epochs=num_epochs,\n",
    "    callbacks=[\n",
    "        tf.keras.callbacks.ModelCheckpoint(\"best_ensemble_model.keras\", save_best_only=True, monitor=\"val_accuracy\"),\n",
    "        tf.keras.callbacks.EarlyStopping(monitor=\"val_accuracy\", patience=20, restore_best_weights=True)\n",
    "    ]\n",
    ")"
   ]
  },
  {
   "cell_type": "code",
   "execution_count": 16,
   "id": "f249fbfa",
   "metadata": {
    "execution": {
     "iopub.execute_input": "2025-01-18T12:24:16.454735Z",
     "iopub.status.busy": "2025-01-18T12:24:16.454089Z",
     "iopub.status.idle": "2025-01-18T12:24:16.904063Z",
     "shell.execute_reply": "2025-01-18T12:24:16.903201Z"
    },
    "papermill": {
     "duration": 0.609996,
     "end_time": "2025-01-18T12:24:16.906380",
     "exception": false,
     "start_time": "2025-01-18T12:24:16.296384",
     "status": "completed"
    },
    "tags": []
   },
   "outputs": [
    {
     "data": {
      "image/png": "[encoded data removed]",
      "text/plain": [
       "<Figure size 1200x500 with 2 Axes>"
      ]
     },
     "metadata": {},
     "output_type": "display_data"
    }
   ],
   "source": [
    "# Plot training and validation metrics\n",
    "def plot_training_history(history):\n",
    "    epochs = range(1, len(history.history[\"accuracy\"]) + 1)\n",
    "    \n",
    "    # Accuracy\n",
    "    plt.figure(figsize=(12, 5))\n",
    "    plt.subplot(1, 2, 1)\n",
    "    plt.plot(epochs, history.history[\"accuracy\"], label=\"Train Accuracy\")\n",
    "    plt.plot(epochs, history.history[\"val_accuracy\"], label=\"Validation Accuracy\")\n",
    "    plt.title(\"Accuracy vs Epochs\")\n",
    "    plt.xlabel(\"Epochs\")\n",
    "    plt.ylabel(\"Accuracy\")\n",
    "    plt.legend()\n",
    "\n",
    "    # Loss\n",
    "    plt.subplot(1, 2, 2)\n",
    "    plt.plot(epochs, history.history[\"loss\"], label=\"Train Loss\")\n",
    "    plt.plot(epochs, history.history[\"val_loss\"], label=\"Validation Loss\")\n",
    "    plt.title(\"Loss vs Epochs\")\n",
    "    plt.xlabel(\"Epochs\")\n",
    "    plt.ylabel(\"Loss\")\n",
    "    plt.legend()\n",
    "\n",
    "    plt.tight_layout()\n",
    "    plt.show()\n",
    "\n",
    "plot_training_history(history)\n",
    "\n"
   ]
  },
  {
   "cell_type": "code",
   "execution_count": 17,
   "id": "8cc29dd7",
   "metadata": {
    "execution": {
     "iopub.execute_input": "2025-01-18T12:24:17.137224Z",
     "iopub.status.busy": "2025-01-18T12:24:17.136297Z",
     "iopub.status.idle": "2025-01-18T12:24:18.353361Z",
     "shell.execute_reply": "2025-01-18T12:24:18.352701Z"
    },
    "papermill": {
     "duration": 1.337331,
     "end_time": "2025-01-18T12:24:18.355238",
     "exception": false,
     "start_time": "2025-01-18T12:24:17.017907",
     "status": "completed"
    },
    "tags": []
   },
   "outputs": [],
   "source": [
    "import numpy as np\n",
    "from sklearn.metrics import classification_report, cohen_kappa_score, confusion_matrix\n",
    "import seaborn as sns\n",
    "import matplotlib.pyplot as plt\n"
   ]
  },
  {
   "cell_type": "code",
   "execution_count": 18,
   "id": "45bcd435",
   "metadata": {
    "execution": {
     "iopub.execute_input": "2025-01-18T12:24:18.596385Z",
     "iopub.status.busy": "2025-01-18T12:24:18.595802Z",
     "iopub.status.idle": "2025-01-18T12:24:56.388099Z",
     "shell.execute_reply": "2025-01-18T12:24:56.387237Z"
    },
    "papermill": {
     "duration": 38.026473,
     "end_time": "2025-01-18T12:24:56.496910",
     "exception": false,
     "start_time": "2025-01-18T12:24:18.470437",
     "status": "completed"
    },
    "tags": []
   },
   "outputs": [
    {
     "name": "stdout",
     "output_type": "stream",
     "text": [
      "\u001b[1m8/8\u001b[0m \u001b[32m━━━━━━━━━━━━━━━━━━━━\u001b[0m\u001b[37m\u001b[0m \u001b[1m22s\u001b[0m 2s/step - accuracy: 0.6963 - loss: 0.7917\n",
      "Test Loss: 0.7803, Test Accuracy: 70.33%\n"
     ]
    }
   ],
   "source": [
    "# Load the best model\n",
    "best_model = tf.keras.models.load_model(\"best_ensemble_model.keras\")\n",
    "\n",
    "# Evaluate on the test dataset\n",
    "test_loss, test_accuracy = best_model.evaluate(test_dataset)\n",
    "print(f\"Test Loss: {test_loss:.4f}, Test Accuracy: {test_accuracy * 100:.2f}%\")\n"
   ]
  },
  {
   "cell_type": "code",
   "execution_count": 19,
   "id": "f1ff9889",
   "metadata": {
    "execution": {
     "iopub.execute_input": "2025-01-18T12:24:56.711372Z",
     "iopub.status.busy": "2025-01-18T12:24:56.710834Z",
     "iopub.status.idle": "2025-01-18T12:25:21.997058Z",
     "shell.execute_reply": "2025-01-18T12:25:21.996377Z"
    },
    "papermill": {
     "duration": 25.394968,
     "end_time": "2025-01-18T12:25:21.998908",
     "exception": false,
     "start_time": "2025-01-18T12:24:56.603940",
     "status": "completed"
    },
    "tags": []
   },
   "outputs": [
    {
     "name": "stdout",
     "output_type": "stream",
     "text": [
      "\u001b[1m2/2\u001b[0m \u001b[32m━━━━━━━━━━━━━━━━━━━━\u001b[0m\u001b[37m\u001b[0m \u001b[1m16s\u001b[0m 243ms/step\n",
      "\u001b[1m2/2\u001b[0m \u001b[32m━━━━━━━━━━━━━━━━━━━━\u001b[0m\u001b[37m\u001b[0m \u001b[1m0s\u001b[0m 278ms/step\n",
      "\u001b[1m2/2\u001b[0m \u001b[32m━━━━━━━━━━━━━━━━━━━━\u001b[0m\u001b[37m\u001b[0m \u001b[1m0s\u001b[0m 278ms/step\n",
      "\u001b[1m2/2\u001b[0m \u001b[32m━━━━━━━━━━━━━━━━━━━━\u001b[0m\u001b[37m\u001b[0m \u001b[1m0s\u001b[0m 278ms/step\n",
      "\u001b[1m2/2\u001b[0m \u001b[32m━━━━━━━━━━━━━━━━━━━━\u001b[0m\u001b[37m\u001b[0m \u001b[1m0s\u001b[0m 280ms/step\n",
      "\u001b[1m2/2\u001b[0m \u001b[32m━━━━━━━━━━━━━━━━━━━━\u001b[0m\u001b[37m\u001b[0m \u001b[1m0s\u001b[0m 279ms/step\n",
      "\u001b[1m2/2\u001b[0m \u001b[32m━━━━━━━━━━━━━━━━━━━━\u001b[0m\u001b[37m\u001b[0m \u001b[1m0s\u001b[0m 282ms/step\n",
      "\u001b[1m2/2\u001b[0m \u001b[32m━━━━━━━━━━━━━━━━━━━━\u001b[0m\u001b[37m\u001b[0m \u001b[1m5s\u001b[0m 5s/step\n"
     ]
    }
   ],
   "source": [
    "# Generate predictions and true labels\n",
    "y_true = []\n",
    "y_pred = []\n",
    "\n",
    "for data, labels in test_dataset:\n",
    "    y_true.extend(labels.numpy())  # Append true labels\n",
    "    preds = np.argmax(best_model.predict(data), axis=-1)  # Predict and take the class with max probability\n",
    "    y_pred.extend(preds)\n"
   ]
  },
  {
   "cell_type": "code",
   "execution_count": 20,
   "id": "0aeab7a7",
   "metadata": {
    "execution": {
     "iopub.execute_input": "2025-01-18T12:25:22.230471Z",
     "iopub.status.busy": "2025-01-18T12:25:22.229632Z",
     "iopub.status.idle": "2025-01-18T12:25:22.243268Z",
     "shell.execute_reply": "2025-01-18T12:25:22.242458Z"
    },
    "papermill": {
     "duration": 0.130582,
     "end_time": "2025-01-18T12:25:22.244843",
     "exception": false,
     "start_time": "2025-01-18T12:25:22.114261",
     "status": "completed"
    },
    "tags": []
   },
   "outputs": [
    {
     "name": "stdout",
     "output_type": "stream",
     "text": [
      "\n",
      "Classification Report:\n",
      "                      precision    recall  f1-score   support\n",
      "\n",
      "            Glaucoma     0.5926    0.3636    0.4507        44\n",
      "        Macular Scar     0.8725    0.8609    0.8667       151\n",
      "Diabetic Retinopathy     0.6069    0.6519    0.6286       135\n",
      "             Healthy     0.6262    0.6569    0.6411       102\n",
      "              Myopia     0.7037    0.7600    0.7308        50\n",
      "\n",
      "            accuracy                         0.7033       482\n",
      "           macro avg     0.6804    0.6587    0.6636       482\n",
      "        weighted avg     0.7029    0.7033    0.7002       482\n",
      "\n"
     ]
    }
   ],
   "source": [
    "# Convert to numpy arrays\n",
    "y_true = np.array(y_true)\n",
    "y_pred = np.array(y_pred)\n",
    "\n",
    "# Classification report\n",
    "class_report = classification_report(\n",
    "    y_true,\n",
    "    y_pred,\n",
    "    target_names=selected_classes,\n",
    "    digits=4\n",
    ")\n",
    "print(\"\\nClassification Report:\")\n",
    "print(class_report)\n"
   ]
  },
  {
   "cell_type": "code",
   "execution_count": 21,
   "id": "2a27c1bc",
   "metadata": {
    "execution": {
     "iopub.execute_input": "2025-01-18T12:25:22.469449Z",
     "iopub.status.busy": "2025-01-18T12:25:22.469150Z",
     "iopub.status.idle": "2025-01-18T12:25:22.477259Z",
     "shell.execute_reply": "2025-01-18T12:25:22.476358Z"
    },
    "papermill": {
     "duration": 0.126,
     "end_time": "2025-01-18T12:25:22.478986",
     "exception": false,
     "start_time": "2025-01-18T12:25:22.352986",
     "status": "completed"
    },
    "tags": []
   },
   "outputs": [
    {
     "name": "stdout",
     "output_type": "stream",
     "text": [
      "Cohen's Kappa: 0.6071\n"
     ]
    }
   ],
   "source": [
    "# Cohen's Kappa\n",
    "kappa = cohen_kappa_score(y_true, y_pred)\n",
    "print(f\"Cohen's Kappa: {kappa:.4f}\")\n",
    "\n",
    "# Confusion Matrix\n",
    "conf_matrix = confusion_matrix(y_true, y_pred)\n"
   ]
  },
  {
   "cell_type": "code",
   "execution_count": 22,
   "id": "c6e1d58f",
   "metadata": {
    "execution": {
     "iopub.execute_input": "2025-01-18T12:25:22.693970Z",
     "iopub.status.busy": "2025-01-18T12:25:22.693648Z",
     "iopub.status.idle": "2025-01-18T12:25:22.699431Z",
     "shell.execute_reply": "2025-01-18T12:25:22.698556Z"
    },
    "papermill": {
     "duration": 0.114363,
     "end_time": "2025-01-18T12:25:22.701301",
     "exception": false,
     "start_time": "2025-01-18T12:25:22.586938",
     "status": "completed"
    },
    "tags": []
   },
   "outputs": [
    {
     "name": "stdout",
     "output_type": "stream",
     "text": [
      "\n",
      "Sensitivity per class:\n",
      "Glaucoma: 0.3636\n",
      "Macular Scar: 0.8609\n",
      "Diabetic Retinopathy: 0.6519\n",
      "Healthy: 0.6569\n",
      "Myopia: 0.7600\n",
      "\n",
      "F1 Scores per class (for reference):\n",
      "Glaucoma: 0.3636\n",
      "Macular Scar: 0.8609\n",
      "Diabetic Retinopathy: 0.6519\n",
      "Healthy: 0.6569\n",
      "Myopia: 0.7600\n"
     ]
    }
   ],
   "source": [
    "# Sensitivity (Recall per class)\n",
    "sensitivity_per_class = conf_matrix.diagonal() / conf_matrix.sum(axis=1)\n",
    "print(\"\\nSensitivity per class:\")\n",
    "for i, class_name in enumerate(selected_classes):\n",
    "    print(f\"{class_name}: {sensitivity_per_class[i]:.4f}\")\n",
    "\n",
    "# F1 score\n",
    "f1_scores = 2 * (sensitivity_per_class * sensitivity_per_class) / (sensitivity_per_class + sensitivity_per_class)\n",
    "print(\"\\nF1 Scores per class (for reference):\")\n",
    "for i, class_name in enumerate(selected_classes):\n",
    "    print(f\"{class_name}: {f1_scores[i]:.4f}\")"
   ]
  },
  {
   "cell_type": "code",
   "execution_count": 23,
   "id": "21b90922",
   "metadata": {
    "execution": {
     "iopub.execute_input": "2025-01-18T12:25:22.919995Z",
     "iopub.status.busy": "2025-01-18T12:25:22.919710Z",
     "iopub.status.idle": "2025-01-18T12:25:23.255814Z",
     "shell.execute_reply": "2025-01-18T12:25:23.254818Z"
    },
    "papermill": {
     "duration": 0.446986,
     "end_time": "2025-01-18T12:25:23.257383",
     "exception": false,
     "start_time": "2025-01-18T12:25:22.810397",
     "status": "completed"
    },
    "tags": []
   },
   "outputs": [
    {
     "data": {
      "image/png": "[encoded data removed]",
      "text/plain": [
       "<Figure size 800x600 with 2 Axes>"
      ]
     },
     "metadata": {},
     "output_type": "display_data"
    }
   ],
   "source": [
    "# Plot Confusion Matrix\n",
    "plt.figure(figsize=(8, 6))\n",
    "sns.heatmap(conf_matrix, annot=True, fmt=\"d\", cmap=\"Blues\", xticklabels=selected_classes, yticklabels=selected_classes)\n",
    "plt.title(\"Confusion Matrix\")\n",
    "plt.xlabel(\"Predicted Labels\")\n",
    "plt.ylabel(\"True Labels\")\n",
    "plt.show()"
   ]
  }
 ],
 "metadata": {
  "kaggle": {
   "accelerator": "nvidiaTeslaT4",
   "dataSources": [
    {
     "datasetId": 6250315,
     "sourceId": 10128159,
     "sourceType": "datasetVersion"
    },
    {
     "datasetId": 6353403,
     "sourceId": 10268994,
     "sourceType": "datasetVersion"
    },
    {
     "datasetId": 6503486,
     "sourceId": 10505875,
     "sourceType": "datasetVersion"
    }
   ],
   "dockerImageVersionId": 30805,
   "isGpuEnabled": true,
   "isInternetEnabled": true,
   "language": "python",
   "sourceType": "notebook"
  },
  "kernelspec": {
   "display_name": "Python 3",
   "language": "python",
   "name": "python3"
  },
  "language_info": {
   "codemirror_mode": {
    "name": "ipython",
    "version": 3
   },
   "file_extension": ".py",
   "mimetype": "text/x-python",
   "name": "python",
   "nbconvert_exporter": "python",
   "pygments_lexer": "ipython3",
   "version": "3.10.14"
  },
  "papermill": {
   "default_parameters": {},
   "duration": 1514.365436,
   "end_time": "2025-01-18T12:25:28.384698",
   "environment_variables": {},
   "exception": null,
   "input_path": "__notebook__.ipynb",
   "output_path": "__notebook__.ipynb",
   "parameters": {},
   "start_time": "2025-01-18T12:00:14.019262",
   "version": "2.6.0"
  }
 },
 "nbformat": 4,
 "nbformat_minor": 5
}
